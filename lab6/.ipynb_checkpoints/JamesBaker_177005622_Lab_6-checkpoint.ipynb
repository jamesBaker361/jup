{
 "cells": [
  {
   "cell_type": "markdown",
   "metadata": {},
   "source": [
    "# Econometric 322 Lab \\#6: Basic Multiple Regression"
   ]
  },
  {
   "cell_type": "markdown",
   "metadata": {},
   "source": [
    "# <font color = red> Collaboration Policy </font>\n",
    "\n",
    "1. Study groups are allowed but I expect students to understand and complete their own assignments and to hand in one assignment per student.\n",
    "    \n",
    "2. If you worked in a group, please put the names of your study group on your assignment on top.\n",
    "    \n",
    "3. Just like all other classes at Rutgers, the student Honor Code is taken seriously.\n",
    "    \n",
    "The submitted assignmenst must be your work."
   ]
  },
  {
   "cell_type": "markdown",
   "metadata": {},
   "source": [
    "# <font color = red> Introduction </font>"
   ]
  },
  {
   "cell_type": "markdown",
   "metadata": {},
   "source": [
    "## <font color = blue> Purpose </font>\n",
    "\n",
    "The purpose of this lab is to allow you to build and analyze a multiple regression model for an actual problem.\n",
    "\n",
    "At the end of this lab, you will be able to:\n",
    "\n",
    "1. specify a multiple linear regression model for a problem;\n",
    "\n",
    "2. estimate a multiple linear regression model in Pandas;\n",
    "\n",
    "3. use dummy variables and interpret their impact;\n",
    "\n",
    "3. interpret key statistics;\n",
    "\n",
    "4. identify shortcomings in the proposed linear model;\n",
    "\n",
    "5. summarize the regression output;\n",
    "\n",
    "6. estimate elasticities and judge their reasonableness;\n",
    "\n",
    "7. build a model portfolio."
   ]
  },
  {
   "cell_type": "markdown",
   "metadata": {},
   "source": [
    "## <font color = blue> Problem </font> \n",
    "\n",
    "Crime is a topic on everyones' mind.  Politicians historically have raised the issue at election time, pointing out that there is a serious crime problem and that only they can solve it - if elected.  We now, of course, have substituted the word \"terriorism\" for violent crime, but the effect is the same: we feel insecure in our own homes.  Crime is actually divided into categories, violent crime being just one.  In this lab, you will estimate a complex model to explain violent crime rates at the state level in the United States."
   ]
  },
  {
   "cell_type": "markdown",
   "metadata": {},
   "source": [
    "## <font color = blue> Assignment </font>\n",
    "\n",
    "Using the Statistical Abstract of the U.S. (2012 edition), find the total violent crime rate data by state and collect data on each state for the total violent crimes in that state.  Collect data by state on the total unemployment rate,  Gross State Product (would you use Current or Real Dollars?), personal income (would you use Current or Real Dollars?), and one other variable of your choice that you believe affects violent crime.\n",
    "\n",
    "The U.S is divided into four Census regions.  These can also be found online (google \"MapStats: United States\").  You previously used a file that mapped states to regions.  Merge this file with your DataFrame.  Create dummy variables for the regions and include the dummies in your models.\n",
    "\n",
    "Be sure to graph your data and interpret the graphs. All graphs must be clearly labeled. \n"
   ]
  },
  {
   "cell_type": "markdown",
   "metadata": {},
   "source": [
    "# <font color = red> Documentation </font>"
   ]
  },
  {
   "cell_type": "markdown",
   "metadata": {},
   "source": [
    "## <font color = blue> Abstract </font>"
   ]
  },
  {
   "cell_type": "markdown",
   "metadata": {},
   "source": [
    "*In this lab, we looked at the relationship between violent crime, GDP Per Capita, Personal Income Per Capita, Unemployment, Region and Strictness of Gun Laws by state in 2009. Higher GDP Per Capita is positively correlated to violent crime, as more economic activity may mean more stores and businesses to rob. Higher Personal Income per Capita is negatively correlated to violent crime, as when one is making a lot of money, the opportunity cost of prison time increases, and thus the risks of getting arrested and convicted increase. Stricter gun laws are weakly negatively correlated with violent crime, as the harder it is to get guns to rob or assault people, the fewer people do it. The p-value of the test-statistics for gun law strictness, Personal Income Per Capita and GDP Per Capita were all very high, so we should not necessarily assume that those factors are relevant. Higher Rates of unemployment are correlated with higher amounts of violent crime, which makes sense as someone with a job has less need to supplement their income with crime. Region also matters. The most violent regions are the South, then the West, then the Midwest, than the East. This is more or less in line with the theory that hotter temperatures make people more violent. However, there are other factors that should be considered and further analysis may be necessary.*"
   ]
  },
  {
   "cell_type": "markdown",
   "metadata": {},
   "source": [
    "## <font color = blue> Data Dictionary </font>"
   ]
  },
  {
   "cell_type": "markdown",
   "metadata": {},
   "source": [
    "| Variable | Values   | Source | Mnemonic |\n",
    "|----------|----------|--------|---------|\n",
    "| March 2009 Unemployment Rate | State Civilian unemployment rate (%) | State Employment and Unemployment Archived News Releases | march |\n",
    "| June 2009 Unemployment Rate | State Civilian unemployment rate (%) | State Employment and Unemployment Archived News Releases | june |\n",
    "| September 2009 Unemployment Rate | State Civilian unemployment rate (%) | State Employment and Unemployment Archived News Releases | septem |\n",
    "| December 2009 Unemployment Rate | State Civilian unemployment rate (%) | State Employment and Unemployment Archived News Releases | decemb |\n",
    "| Average 2009 Unemployment Rate | State Civilian unemployment rate (%) | Average of March, June, September and December Unemployment Rates | unemp |\n",
    "| Violent Crime | Rates per 100,000 population, 2009 | Statistical Abstract of the U.S. (2012 edition) | vcr |\n",
    "| 2009 State Population | Population | US Census Bureau State Intercensal Tables: 2000-2010 | pop |\n",
    "| State GDP | Nominal 2009 Dollars (In Millions) | BEA Regional Economic Accounts | sgdp |\n",
    "| State GDP Per Capita | Nominal 2009 Dollars (In Thousands) | 1,000 x State GDP/Population | sgdppc |\n",
    "| State Personal Income | Nominal 2009 Dollars (In Millions) | BEA Regional Economic Accounts | spi |\n",
    "| State Personal Income Per Capita | Nominal 2009 Dollars (In Thousands) | 1,000 x State Personal Income/Population | spipc |\n",
    "| Gun Law Strictness | Ranking of Strictness of Gun Laws by the Brady Campaign (0=loosest gun laws, 100=strictest) | Brady Campaign. 2010 ‘State Scorecard 2009.’ State Gun Laws: Find Out Where Your State Ranks in Strong Gun Laws and Learn About Those Laws. | guns |\n",
    "| State Region | Qualitative |  \"Census Bureau Regions and Divisions with State FIPS Codes\" (PDF). US Census Bureau | west,south,east |"
   ]
  },
  {
   "cell_type": "markdown",
   "metadata": {},
   "source": [
    "# <font color = red> Pre-lab Questions </font>\n",
    "\n",
    "Before you do any work, please think about the relationship among these variables. In particular, think how you would answer the following if called on in class:"
   ]
  },
  {
   "cell_type": "markdown",
   "metadata": {},
   "source": [
    "## <font color = blue> What type of data is this and why (i.e., source and domain)? </font>"
   ]
  },
  {
   "cell_type": "markdown",
   "metadata": {},
   "source": [
    "This is cross-sectional data, because we're comparing a bunch of different states at the same point in time. It is secondary data, because all of it has been compiled from various government or nonprofit organizations."
   ]
  },
  {
   "cell_type": "markdown",
   "metadata": {},
   "source": [
    "## <font color = blue> What are good testable hypothesis?  Explain your testable hypotheses. </font>"
   ]
  },
  {
   "cell_type": "markdown",
   "metadata": {},
   "source": [
    "As Unemployment increases, violent crime should increase, as unemployed people have little income, and may have to resort to crime to make ends meet. As GDP per capita increases, violent crime should decrease, as states with larger economies should have greater tax revenue to spend on law enforcement. As Personal Income increases, violent crime should also decrease, because a higher income raises the opportunity cost of spending time in prison as opposed to earning money. As Gun Law Strictness increases, violent crime should decrease, as less access to weaponry means fewer criminals have access to the necessary tools to commit crimes. I expect the South to be the most violent region, followed by the West the Northeast and the Midwest, as hotter temperatures make people more violent and prone to rash decisions like committing a crime.\n"
   ]
  },
  {
   "cell_type": "markdown",
   "metadata": {},
   "source": [
    "## <font color = blue> Write a tentative <u>specific</u> model.  Explain your model.  </font>"
   ]
  },
  {
   "cell_type": "markdown",
   "metadata": {},
   "source": [
    "*vcr=$\\beta_0$+$\\beta_1$unemp +$\\beta_2$gdppc +$\\beta_3$pcipc +$\\beta_4$guns + $\\gamma_5$west + $\\gamma_6$east + $\\gamma_7$south +$\\epsilon$* <br>\n",
    "Unemployment Rates are expected to be positively correlated with violent crime, as unemployed people will be more likely to commit crimes to make money. GDP Per Capita is expected to be negatively correlated with violent crime, as wealthier states will have more money to spend on law enforcement to prevent crime. Personal Income Per Capita is expected to be negatively correlated with violent crime, as the opportunity cost of prison increases as incomes increase. Gun law strictness is expected to be negatively correlated with crime, as fewer guns available means fewer guns to commit crimes with."
   ]
  },
  {
   "cell_type": "markdown",
   "metadata": {},
   "source": [
    "## <font color = blue> Write the statistical hypotheses to go along with your testable hypothesis.  Explain what you wrote.</font>"
   ]
  },
  {
   "cell_type": "markdown",
   "metadata": {},
   "source": [
    "$H_O$ = Null Hypothesis: The Hypothesis that none of the Explanatory Variables influence Violent Crime <br>\n",
    "$H_A$ = Alternative Hypothesis: The Hypothesis that at least one Explanatory Variable influences Violent Crime <br>\n",
    "$H_O: \\beta_1 = \\beta_2 = \\beta_3 =\\beta_4 = \\gamma_5 = \\gamma_6 = \\gamma_7= 0$\n",
    "\n",
    "$H_A$: At least one $\\beta_i  \\neq 0$"
   ]
  },
  {
   "cell_type": "markdown",
   "metadata": {},
   "source": [
    "# <font color = red> Tasks </font>"
   ]
  },
  {
   "cell_type": "markdown",
   "metadata": {},
   "source": [
    "## <font color = blue> Load the Pandas, Seaborn, and Statsmodels packages and give them aliases.  You will also need the Statsmodels formula API for formulas.</font>"
   ]
  },
  {
   "cell_type": "code",
   "execution_count": 216,
   "metadata": {
    "collapsed": true
   },
   "outputs": [],
   "source": [
    "import numpy as np\n",
    "import pandas as pd\n",
    "import statsmodels.api as sm\n",
    "import statsmodels.formula.api as smf \n",
    "from statsmodels.iolib.summary2 import summary_col\n",
    "from statsmodels.stats.diagnostic import het_white\n",
    "from statsmodels.stats.api import anova_lm\n",
    "import matplotlib.pyplot as plt\n",
    "import seaborn as sns"
   ]
  },
  {
   "cell_type": "markdown",
   "metadata": {},
   "source": [
    "## <font color = blue> Import the data.  Set the row index to the states. </font>"
   ]
  },
  {
   "cell_type": "code",
   "execution_count": 217,
   "metadata": {
    "collapsed": true
   },
   "outputs": [],
   "source": [
    "df=pd.merge(pd.read_csv(\"guns.csv\",index_col=\"state\"),pd.read_csv(\"decemb.csv\",index_col=\"state\"),left_index=True,right_index=True)"
   ]
  },
  {
   "cell_type": "markdown",
   "metadata": {},
   "source": [
    "## <font color = blue> Import the state/region data and merge with your DataFrame.  Merge on the indexes of both DataFrames as you did in a prior lab.</font>"
   ]
  },
  {
   "cell_type": "code",
   "execution_count": 218,
   "metadata": {
    "collapsed": true
   },
   "outputs": [],
   "source": [
    "df=pd.merge(df,pd.read_csv(\"march.csv\",index_col=\"state\"),left_index=True,right_index=True)\n",
    "df=pd.merge(df,pd.read_csv(\"june.csv\",index_col=\"state\"),left_index=True,right_index=True)\n",
    "df=pd.merge(df,pd.read_csv(\"septem.csv\",index_col=\"state\"),left_index=True,right_index=True)\n",
    "df=pd.merge(df,pd.read_csv(\"vcr.csv\",index_col=\"state\"),left_index=True,right_index=True)\n",
    "df=pd.merge(df,pd.read_csv(\"spi.csv\",index_col=\"state\"),left_index=True,right_index=True)\n",
    "df=pd.merge(df,pd.read_csv(\"sgdp.csv\",index_col=\"state\"),left_index=True,right_index=True)\n",
    "df=pd.merge(df,pd.read_csv(\"pop.csv\",index_col=\"state\"),left_index=True,right_index=True)\n",
    "df=pd.merge(df,pd.read_csv(\"region.csv\",index_col=\"state\"),left_index=True,right_index=True)\n",
    "df['spipc']=1000*df['spi']/df['pop']\n",
    "df['gdppc']=1000*df[\"gdp\"]/df['pop']\n",
    "df['unemp']=df['june']+df['march']+df['decemb']+df['septem']\n",
    "df['unemp']=df['unemp']/4\n",
    "del(df['june'])\n",
    "del(df['march'])\n",
    "del(df['decemb'])\n",
    "del(df['septem'])\n",
    "del(df[\"gdp\"])\n",
    "del(df['pop'])\n",
    "del(df['spi'])\n",
    "del(df[\"Region\"])"
   ]
  },
  {
   "cell_type": "markdown",
   "metadata": {},
   "source": [
    "## <font color = blue> Print the first five (5) records. </font>"
   ]
  },
  {
   "cell_type": "code",
   "execution_count": 219,
   "metadata": {},
   "outputs": [
    {
     "data": {
      "text/html": [
       "<div>\n",
       "<style scoped>\n",
       "    .dataframe tbody tr th:only-of-type {\n",
       "        vertical-align: middle;\n",
       "    }\n",
       "\n",
       "    .dataframe tbody tr th {\n",
       "        vertical-align: top;\n",
       "    }\n",
       "\n",
       "    .dataframe thead th {\n",
       "        text-align: right;\n",
       "    }\n",
       "</style>\n",
       "<table border=\"1\" class=\"dataframe\">\n",
       "  <thead>\n",
       "    <tr style=\"text-align: right;\">\n",
       "      <th></th>\n",
       "      <th>guns</th>\n",
       "      <th>vcr</th>\n",
       "      <th>south</th>\n",
       "      <th>west</th>\n",
       "      <th>east</th>\n",
       "      <th>spipc</th>\n",
       "      <th>gdppc</th>\n",
       "      <th>unemp</th>\n",
       "    </tr>\n",
       "    <tr>\n",
       "      <th>state</th>\n",
       "      <th></th>\n",
       "      <th></th>\n",
       "      <th></th>\n",
       "      <th></th>\n",
       "      <th></th>\n",
       "      <th></th>\n",
       "      <th></th>\n",
       "      <th></th>\n",
       "    </tr>\n",
       "  </thead>\n",
       "  <tbody>\n",
       "    <tr>\n",
       "      <th>Alabama</th>\n",
       "      <td>16</td>\n",
       "      <td>459.9</td>\n",
       "      <td>1</td>\n",
       "      <td>0</td>\n",
       "      <td>0</td>\n",
       "      <td>32.630664</td>\n",
       "      <td>35.382554</td>\n",
       "      <td>10.200</td>\n",
       "    </tr>\n",
       "    <tr>\n",
       "      <th>Alaska</th>\n",
       "      <td>2</td>\n",
       "      <td>632.6</td>\n",
       "      <td>0</td>\n",
       "      <td>1</td>\n",
       "      <td>0</td>\n",
       "      <td>46.858326</td>\n",
       "      <td>70.948998</td>\n",
       "      <td>8.525</td>\n",
       "    </tr>\n",
       "    <tr>\n",
       "      <th>Arizona</th>\n",
       "      <td>2</td>\n",
       "      <td>423.2</td>\n",
       "      <td>0</td>\n",
       "      <td>1</td>\n",
       "      <td>0</td>\n",
       "      <td>33.326906</td>\n",
       "      <td>38.455538</td>\n",
       "      <td>8.675</td>\n",
       "    </tr>\n",
       "    <tr>\n",
       "      <th>Arkansas</th>\n",
       "      <td>4</td>\n",
       "      <td>530.3</td>\n",
       "      <td>1</td>\n",
       "      <td>0</td>\n",
       "      <td>0</td>\n",
       "      <td>31.151999</td>\n",
       "      <td>33.505061</td>\n",
       "      <td>7.125</td>\n",
       "    </tr>\n",
       "    <tr>\n",
       "      <th>California</th>\n",
       "      <td>79</td>\n",
       "      <td>473.4</td>\n",
       "      <td>0</td>\n",
       "      <td>1</td>\n",
       "      <td>0</td>\n",
       "      <td>42.050270</td>\n",
       "      <td>51.947997</td>\n",
       "      <td>11.850</td>\n",
       "    </tr>\n",
       "  </tbody>\n",
       "</table>\n",
       "</div>"
      ],
      "text/plain": [
       "            guns    vcr  south  west  east      spipc      gdppc   unemp\n",
       "state                                                                   \n",
       "Alabama       16  459.9      1     0     0  32.630664  35.382554  10.200\n",
       "Alaska         2  632.6      0     1     0  46.858326  70.948998   8.525\n",
       "Arizona        2  423.2      0     1     0  33.326906  38.455538   8.675\n",
       "Arkansas       4  530.3      1     0     0  31.151999  33.505061   7.125\n",
       "California    79  473.4      0     1     0  42.050270  51.947997  11.850"
      ]
     },
     "execution_count": 219,
     "metadata": {},
     "output_type": "execute_result"
    }
   ],
   "source": [
    "df.head(5)"
   ]
  },
  {
   "cell_type": "markdown",
   "metadata": {},
   "source": [
    "## <font color = blue> Graph the data. </font>"
   ]
  },
  {
   "cell_type": "code",
   "execution_count": 220,
   "metadata": {},
   "outputs": [
    {
     "data": {
      "text/plain": [
       "[Text(0,0.5,'Violent Crime Rate (per 100,000 people)'),\n",
       " Text(0.5,0,'Strictness of Gun Laws'),\n",
       " Text(0.5,1,'Gun Law Strictness vs. Violent Crime Rate')]"
      ]
     },
     "execution_count": 220,
     "metadata": {},
     "output_type": "execute_result"
    },
    {
     "data": {
      "image/png": "[encoded data removed]",
      "text/plain": [
       "<Figure size 432x288 with 1 Axes>"
      ]
     },
     "metadata": {},
     "output_type": "display_data"
    }
   ],
   "source": [
    "ax = df.plot( x = 'guns', y = 'vcr', legend = False, kind = 'scatter' )\n",
    "ax.set( xlabel = 'Strictness of Gun Laws', ylabel = 'Violent Crime Rate (per 100,000 people)', title = 'Gun Law Strictness vs. Violent Crime Rate' )"
   ]
  },
  {
   "cell_type": "code",
   "execution_count": 221,
   "metadata": {},
   "outputs": [
    {
     "data": {
      "text/plain": [
       "[Text(0,0.5,'Violent Crime Rate (per 100,000 people)'),\n",
       " Text(0.5,0,'State Personal Income Per Capita (In Thousands of 2009 Dollars)'),\n",
       " Text(0.5,1,'State Personal Income Per Capita vs. Violent Crime Rate')]"
      ]
     },
     "execution_count": 221,
     "metadata": {},
     "output_type": "execute_result"
    },
    {
     "data": {
      "image/png": "[encoded data removed]",
      "text/plain": [
       "<Figure size 432x288 with 1 Axes>"
      ]
     },
     "metadata": {},
     "output_type": "display_data"
    }
   ],
   "source": [
    "ax = df.plot( x = 'spipc', y = 'vcr', legend = False, kind = 'scatter' )\n",
    "ax.set( xlabel = 'State Personal Income Per Capita (In Thousands of 2009 Dollars)', ylabel = 'Violent Crime Rate (per 100,000 people)', title = 'State Personal Income Per Capita vs. Violent Crime Rate' )"
   ]
  },
  {
   "cell_type": "code",
   "execution_count": 222,
   "metadata": {},
   "outputs": [
    {
     "data": {
      "text/plain": [
       "[Text(0,0.5,'Violent Crime Rate (per 100,000 people)'),\n",
       " Text(0.5,0,'State GDP Per Capita (In Thousands of 2009 Dollars)'),\n",
       " Text(0.5,1,'State GDP Per Capita vs. Violent Crime Rate')]"
      ]
     },
     "execution_count": 222,
     "metadata": {},
     "output_type": "execute_result"
    },
    {
     "data": {
      "image/png": "[encoded data removed]",
      "text/plain": [
       "<Figure size 432x288 with 1 Axes>"
      ]
     },
     "metadata": {},
     "output_type": "display_data"
    }
   ],
   "source": [
    "ax = df.plot( x = 'gdppc', y = 'vcr', legend = False, kind = 'scatter' )\n",
    "ax.set( xlabel = 'State GDP Per Capita (In Thousands of 2009 Dollars)', ylabel = 'Violent Crime Rate (per 100,000 people)', title = 'State GDP Per Capita vs. Violent Crime Rate' )"
   ]
  },
  {
   "cell_type": "code",
   "execution_count": 223,
   "metadata": {},
   "outputs": [
    {
     "data": {
      "text/plain": [
       "[Text(0,0.5,'Violent Crime Rate (per 100,000 people)'),\n",
       " Text(0.5,0,'Unemployment Rate 2009'),\n",
       " Text(0.5,1,'Unemployment Rate vs. Violent Crime Rate')]"
      ]
     },
     "execution_count": 223,
     "metadata": {},
     "output_type": "execute_result"
    },
    {
     "data": {
      "image/png": "[encoded data removed]",
      "text/plain": [
       "<Figure size 432x288 with 1 Axes>"
      ]
     },
     "metadata": {},
     "output_type": "display_data"
    }
   ],
   "source": [
    "ax = df.plot( x = 'unemp', y = 'vcr', legend = False, kind = 'scatter' )\n",
    "ax.set( xlabel = 'Unemployment Rate 2009', ylabel = 'Violent Crime Rate (per 100,000 people)', title = 'Unemployment Rate vs. Violent Crime Rate' )"
   ]
  },
  {
   "cell_type": "markdown",
   "metadata": {},
   "source": [
    "## <font color = blue> Create a correlation matrix </font>"
   ]
  },
  {
   "cell_type": "code",
   "execution_count": 224,
   "metadata": {},
   "outputs": [
    {
     "data": {
      "text/html": [
       "<div>\n",
       "<style scoped>\n",
       "    .dataframe tbody tr th:only-of-type {\n",
       "        vertical-align: middle;\n",
       "    }\n",
       "\n",
       "    .dataframe tbody tr th {\n",
       "        vertical-align: top;\n",
       "    }\n",
       "\n",
       "    .dataframe thead th {\n",
       "        text-align: right;\n",
       "    }\n",
       "</style>\n",
       "<table border=\"1\" class=\"dataframe\">\n",
       "  <thead>\n",
       "    <tr style=\"text-align: right;\">\n",
       "      <th></th>\n",
       "      <th>guns</th>\n",
       "      <th>vcr</th>\n",
       "      <th>south</th>\n",
       "      <th>west</th>\n",
       "      <th>east</th>\n",
       "      <th>spipc</th>\n",
       "      <th>gdppc</th>\n",
       "      <th>unemp</th>\n",
       "    </tr>\n",
       "  </thead>\n",
       "  <tbody>\n",
       "    <tr>\n",
       "      <th>guns</th>\n",
       "      <td>1.000000</td>\n",
       "      <td>-0.004948</td>\n",
       "      <td>-0.192765</td>\n",
       "      <td>-0.038852</td>\n",
       "      <td>0.493102</td>\n",
       "      <td>0.681706</td>\n",
       "      <td>0.501015</td>\n",
       "      <td>0.255746</td>\n",
       "    </tr>\n",
       "    <tr>\n",
       "      <th>vcr</th>\n",
       "      <td>-0.004948</td>\n",
       "      <td>1.000000</td>\n",
       "      <td>0.427937</td>\n",
       "      <td>-0.010096</td>\n",
       "      <td>-0.338155</td>\n",
       "      <td>-0.120822</td>\n",
       "      <td>0.047352</td>\n",
       "      <td>0.351081</td>\n",
       "    </tr>\n",
       "    <tr>\n",
       "      <th>south</th>\n",
       "      <td>-0.192765</td>\n",
       "      <td>0.427937</td>\n",
       "      <td>1.000000</td>\n",
       "      <td>-0.430946</td>\n",
       "      <td>-0.339683</td>\n",
       "      <td>-0.319495</td>\n",
       "      <td>-0.279893</td>\n",
       "      <td>0.127381</td>\n",
       "    </tr>\n",
       "    <tr>\n",
       "      <th>west</th>\n",
       "      <td>-0.038852</td>\n",
       "      <td>-0.010096</td>\n",
       "      <td>-0.430946</td>\n",
       "      <td>1.000000</td>\n",
       "      <td>-0.292770</td>\n",
       "      <td>-0.072201</td>\n",
       "      <td>0.140759</td>\n",
       "      <td>-0.012368</td>\n",
       "    </tr>\n",
       "    <tr>\n",
       "      <th>east</th>\n",
       "      <td>0.493102</td>\n",
       "      <td>-0.338155</td>\n",
       "      <td>-0.339683</td>\n",
       "      <td>-0.292770</td>\n",
       "      <td>1.000000</td>\n",
       "      <td>0.576287</td>\n",
       "      <td>0.296162</td>\n",
       "      <td>0.013126</td>\n",
       "    </tr>\n",
       "    <tr>\n",
       "      <th>spipc</th>\n",
       "      <td>0.681706</td>\n",
       "      <td>-0.120822</td>\n",
       "      <td>-0.319495</td>\n",
       "      <td>-0.072201</td>\n",
       "      <td>0.576287</td>\n",
       "      <td>1.000000</td>\n",
       "      <td>0.858790</td>\n",
       "      <td>-0.185159</td>\n",
       "    </tr>\n",
       "    <tr>\n",
       "      <th>gdppc</th>\n",
       "      <td>0.501015</td>\n",
       "      <td>0.047352</td>\n",
       "      <td>-0.279893</td>\n",
       "      <td>0.140759</td>\n",
       "      <td>0.296162</td>\n",
       "      <td>0.858790</td>\n",
       "      <td>1.000000</td>\n",
       "      <td>-0.203185</td>\n",
       "    </tr>\n",
       "    <tr>\n",
       "      <th>unemp</th>\n",
       "      <td>0.255746</td>\n",
       "      <td>0.351081</td>\n",
       "      <td>0.127381</td>\n",
       "      <td>-0.012368</td>\n",
       "      <td>0.013126</td>\n",
       "      <td>-0.185159</td>\n",
       "      <td>-0.203185</td>\n",
       "      <td>1.000000</td>\n",
       "    </tr>\n",
       "  </tbody>\n",
       "</table>\n",
       "</div>"
      ],
      "text/plain": [
       "           guns       vcr     south      west      east     spipc     gdppc  \\\n",
       "guns   1.000000 -0.004948 -0.192765 -0.038852  0.493102  0.681706  0.501015   \n",
       "vcr   -0.004948  1.000000  0.427937 -0.010096 -0.338155 -0.120822  0.047352   \n",
       "south -0.192765  0.427937  1.000000 -0.430946 -0.339683 -0.319495 -0.279893   \n",
       "west  -0.038852 -0.010096 -0.430946  1.000000 -0.292770 -0.072201  0.140759   \n",
       "east   0.493102 -0.338155 -0.339683 -0.292770  1.000000  0.576287  0.296162   \n",
       "spipc  0.681706 -0.120822 -0.319495 -0.072201  0.576287  1.000000  0.858790   \n",
       "gdppc  0.501015  0.047352 -0.279893  0.140759  0.296162  0.858790  1.000000   \n",
       "unemp  0.255746  0.351081  0.127381 -0.012368  0.013126 -0.185159 -0.203185   \n",
       "\n",
       "          unemp  \n",
       "guns   0.255746  \n",
       "vcr    0.351081  \n",
       "south  0.127381  \n",
       "west  -0.012368  \n",
       "east   0.013126  \n",
       "spipc -0.185159  \n",
       "gdppc -0.203185  \n",
       "unemp  1.000000  "
      ]
     },
     "execution_count": 224,
     "metadata": {},
     "output_type": "execute_result"
    }
   ],
   "source": [
    "xc=df.corr()\n",
    "xc"
   ]
  },
  {
   "cell_type": "code",
   "execution_count": null,
   "metadata": {
    "collapsed": true
   },
   "outputs": [],
   "source": []
  },
  {
   "cell_type": "markdown",
   "metadata": {},
   "source": [
    "## <font color = blue> Graph the correlation matrix. </font>"
   ]
  },
  {
   "cell_type": "code",
   "execution_count": 225,
   "metadata": {},
   "outputs": [
    {
     "data": {
      "text/plain": [
       "Text(0.5,1,'Heatmap of the Correlation Matrix')"
      ]
     },
     "execution_count": 225,
     "metadata": {},
     "output_type": "execute_result"
    },
    {
     "data": {
      "image/png": "[encoded data removed]",
      "text/plain": [
       "<Figure size 432x288 with 2 Axes>"
      ]
     },
     "metadata": {},
     "output_type": "display_data"
    }
   ],
   "source": [
    "sns.heatmap(xc).set_title( 'Heatmap of the Correlation Matrix' )"
   ]
  },
  {
   "cell_type": "markdown",
   "metadata": {},
   "source": [
    "## <font color = blue> Estimate a regression model with crime as the dependent variable.  Display the summary report.</font>"
   ]
  },
  {
   "cell_type": "code",
   "execution_count": 226,
   "metadata": {},
   "outputs": [
    {
     "name": "stdout",
     "output_type": "stream",
     "text": [
      "                            OLS Regression Results                            \n",
      "==============================================================================\n",
      "Dep. Variable:                    vcr   R-squared:                       0.413\n",
      "Model:                            OLS   Adj. R-squared:                  0.310\n",
      "Method:                 Least Squares   F-statistic:                     4.020\n",
      "Date:                Mon, 03 Dec 2018   Prob (F-statistic):            0.00203\n",
      "Time:                        10:52:41   Log-Likelihood:                -298.05\n",
      "No. Observations:                  48   AIC:                             612.1\n",
      "Df Residuals:                      40   BIC:                             627.1\n",
      "Df Model:                           7                                         \n",
      "Covariance Type:            nonrobust                                         \n",
      "==============================================================================\n",
      "                 coef    std err          t      P>|t|      [0.025      0.975]\n",
      "------------------------------------------------------------------------------\n",
      "Intercept    -54.8459    264.409     -0.207      0.837    -589.236     479.545\n",
      "guns          -0.1940      1.666     -0.116      0.908      -3.562       3.174\n",
      "south        123.2426     54.417      2.265      0.029      13.261     233.224\n",
      "west           2.3938     58.952      0.041      0.968    -116.753     121.541\n",
      "east         -97.9037     74.961     -1.306      0.199    -249.406      53.599\n",
      "spipc         -4.2043      9.950     -0.423      0.675     -24.314      15.905\n",
      "gdppc          7.7924      5.020      1.552      0.128      -2.354      17.939\n",
      "unemp         27.3131     10.719      2.548      0.015       5.649      48.977\n",
      "==============================================================================\n",
      "Omnibus:                        0.754   Durbin-Watson:                   2.130\n",
      "Prob(Omnibus):                  0.686   Jarque-Bera (JB):                0.493\n",
      "Skew:                           0.248   Prob(JB):                        0.781\n",
      "Kurtosis:                       2.975   Cond. No.                         895.\n",
      "==============================================================================\n",
      "\n",
      "Warnings:\n",
      "[1] Standard Errors assume that the covariance matrix of the errors is correctly specified.\n"
     ]
    }
   ],
   "source": [
    "formula = 'vcr ~ guns + south + west + east + spipc +gdppc +unemp'\n",
    "mod = smf.ols( formula, data = df )\n",
    "reg02 = mod.fit()\n",
    "print( reg02.summary() )"
   ]
  },
  {
   "cell_type": "markdown",
   "metadata": {},
   "source": [
    "## <font color = blue> Test the null hypothesis that all dummies are statistically zero. </font>"
   ]
  },
  {
   "cell_type": "code",
   "execution_count": 227,
   "metadata": {},
   "outputs": [
    {
     "data": {
      "text/plain": [
       "'<F test: F=array([[4.09410981]]), p=0.012619278278187781, df_denom=40, df_num=3>'"
      ]
     },
     "execution_count": 227,
     "metadata": {},
     "output_type": "execute_result"
    }
   ],
   "source": [
    "hypothesis = ' ( south=0,west=0,east=0) '\n",
    "f_test = reg02.f_test( hypothesis )\n",
    "f_test.summary()"
   ]
  },
  {
   "cell_type": "markdown",
   "metadata": {},
   "source": [
    "## <font color = blue>Estimate two additional models.</font>"
   ]
  },
  {
   "cell_type": "code",
   "execution_count": 228,
   "metadata": {},
   "outputs": [
    {
     "name": "stdout",
     "output_type": "stream",
     "text": [
      "                            OLS Regression Results                            \n",
      "==============================================================================\n",
      "Dep. Variable:                    vcr   R-squared:                       0.413\n",
      "Model:                            OLS   Adj. R-squared:                  0.327\n",
      "Method:                 Least Squares   F-statistic:                     4.804\n",
      "Date:                Mon, 03 Dec 2018   Prob (F-statistic):           0.000856\n",
      "Time:                        10:52:44   Log-Likelihood:                -298.06\n",
      "No. Observations:                  48   AIC:                             610.1\n",
      "Df Residuals:                      41   BIC:                             623.2\n",
      "Df Model:                           6                                         \n",
      "Covariance Type:            nonrobust                                         \n",
      "==============================================================================\n",
      "                 coef    std err          t      P>|t|      [0.025      0.975]\n",
      "------------------------------------------------------------------------------\n",
      "Intercept    -33.8741    191.223     -0.177      0.860    -420.057     352.308\n",
      "south        122.6556     53.528      2.291      0.027      14.555     230.757\n",
      "west           1.2840     57.472      0.022      0.982    -114.784     117.352\n",
      "east         -98.4373     73.915     -1.332      0.190    -247.713      50.838\n",
      "spipc         -4.8295      8.276     -0.584      0.563     -21.542      11.883\n",
      "gdppc          7.9224      4.835      1.638      0.109      -1.843      17.688\n",
      "unemp         26.6725      9.088      2.935      0.005       8.319      45.026\n",
      "==============================================================================\n",
      "Omnibus:                        0.796   Durbin-Watson:                   2.142\n",
      "Prob(Omnibus):                  0.672   Jarque-Bera (JB):                0.548\n",
      "Skew:                           0.261   Prob(JB):                        0.760\n",
      "Kurtosis:                       2.958   Cond. No.                         632.\n",
      "==============================================================================\n",
      "\n",
      "Warnings:\n",
      "[1] Standard Errors assume that the covariance matrix of the errors is correctly specified.\n"
     ]
    }
   ],
   "source": [
    "formula03 = 'vcr ~ south + west + east + spipc +gdppc +unemp'\n",
    "mod03 = smf.ols( formula03, data = df )\n",
    "reg03 = mod03.fit()\n",
    "print( reg03.summary() )"
   ]
  },
  {
   "cell_type": "code",
   "execution_count": 229,
   "metadata": {},
   "outputs": [
    {
     "name": "stdout",
     "output_type": "stream",
     "text": [
      "                            OLS Regression Results                            \n",
      "==============================================================================\n",
      "Dep. Variable:                    vcr   R-squared:                       0.233\n",
      "Model:                            OLS   Adj. R-squared:                  0.161\n",
      "Method:                 Least Squares   F-statistic:                     3.261\n",
      "Date:                Mon, 03 Dec 2018   Prob (F-statistic):             0.0202\n",
      "Time:                        10:52:45   Log-Likelihood:                -304.48\n",
      "No. Observations:                  48   AIC:                             619.0\n",
      "Df Residuals:                      43   BIC:                             628.3\n",
      "Df Model:                           4                                         \n",
      "Covariance Type:            nonrobust                                         \n",
      "==============================================================================\n",
      "                 coef    std err          t      P>|t|      [0.025      0.975]\n",
      "------------------------------------------------------------------------------\n",
      "Intercept    232.0243    258.626      0.897      0.375    -289.545     753.594\n",
      "guns          -0.2215      1.813     -0.122      0.903      -3.878       3.435\n",
      "spipc        -14.8440      8.735     -1.699      0.096     -32.460       2.772\n",
      "gdppc         10.9387      4.643      2.356      0.023       1.576      20.302\n",
      "unemp         27.7060     11.710      2.366      0.023       4.090      51.322\n",
      "==============================================================================\n",
      "Omnibus:                        2.307   Durbin-Watson:                   2.335\n",
      "Prob(Omnibus):                  0.316   Jarque-Bera (JB):                2.102\n",
      "Skew:                           0.420   Prob(JB):                        0.350\n",
      "Kurtosis:                       2.411   Cond. No.                         790.\n",
      "==============================================================================\n",
      "\n",
      "Warnings:\n",
      "[1] Standard Errors assume that the covariance matrix of the errors is correctly specified.\n"
     ]
    }
   ],
   "source": [
    "formula04 = 'vcr ~ guns + spipc +gdppc +unemp'\n",
    "mod04 = smf.ols( formula04, data = df )\n",
    "reg04 = mod04.fit()\n",
    "print( reg04.summary() )"
   ]
  },
  {
   "cell_type": "markdown",
   "metadata": {},
   "source": [
    "## <font color = blue>Estimate a constant-only model (the restricted model).</font>"
   ]
  },
  {
   "cell_type": "code",
   "execution_count": 230,
   "metadata": {},
   "outputs": [
    {
     "name": "stdout",
     "output_type": "stream",
     "text": [
      "                            OLS Regression Results                            \n",
      "==============================================================================\n",
      "Dep. Variable:                    vcr   R-squared:                       0.000\n",
      "Model:                            OLS   Adj. R-squared:                  0.000\n",
      "Method:                 Least Squares   F-statistic:                       nan\n",
      "Date:                Mon, 03 Dec 2018   Prob (F-statistic):                nan\n",
      "Time:                        10:52:46   Log-Likelihood:                -310.84\n",
      "No. Observations:                  48   AIC:                             623.7\n",
      "Df Residuals:                      47   BIC:                             625.5\n",
      "Df Model:                           0                                         \n",
      "Covariance Type:            nonrobust                                         \n",
      "==============================================================================\n",
      "                 coef    std err          t      P>|t|      [0.025      0.975]\n",
      "------------------------------------------------------------------------------\n",
      "Intercept    391.7563     22.914     17.097      0.000     345.660     437.853\n",
      "==============================================================================\n",
      "Omnibus:                        4.675   Durbin-Watson:                   2.264\n",
      "Prob(Omnibus):                  0.097   Jarque-Bera (JB):                2.742\n",
      "Skew:                           0.372   Prob(JB):                        0.254\n",
      "Kurtosis:                       2.095   Cond. No.                         1.00\n",
      "==============================================================================\n",
      "\n",
      "Warnings:\n",
      "[1] Standard Errors assume that the covariance matrix of the errors is correctly specified.\n"
     ]
    },
    {
     "name": "stderr",
     "output_type": "stream",
     "text": [
      "/Users/jamesbaker/miniconda3/envs/py3k/lib/python3.6/site-packages/statsmodels/regression/linear_model.py:1554: RuntimeWarning: invalid value encountered in double_scalars\n",
      "  return self.ess/self.df_model\n"
     ]
    }
   ],
   "source": [
    "formula05 = 'vcr~1'\n",
    "mod05 = smf.ols( formula05, data = df )\n",
    "reg05 = mod05.fit()\n",
    "print( reg05.summary() )"
   ]
  },
  {
   "cell_type": "markdown",
   "metadata": {},
   "source": [
    "## <font color = blue>Compare your unrestricted model to the constant-only model (the restricted model).</font>"
   ]
  },
  {
   "cell_type": "code",
   "execution_count": 231,
   "metadata": {},
   "outputs": [
    {
     "data": {
      "text/plain": [
       "'<F test: F=array([[4.02018238]]), p=0.002034798933872873, df_denom=40, df_num=7>'"
      ]
     },
     "execution_count": 231,
     "metadata": {},
     "output_type": "execute_result"
    }
   ],
   "source": [
    "hypothesisA = '(south=0,west=0, east=0, spipc=0,gdppc=0,unemp=0,guns=0) '\n",
    "##\n",
    "## run and print test \n",
    "##\n",
    "f_test = reg02.f_test( hypothesisA )\n",
    "f_test.summary()"
   ]
  },
  {
   "cell_type": "markdown",
   "metadata": {},
   "source": [
    "## <font color = blue> Calculate elasticities.</font>"
   ]
  },
  {
   "cell_type": "code",
   "execution_count": 232,
   "metadata": {},
   "outputs": [
    {
     "data": {
      "text/plain": [
       "Intercept    -54.845902\n",
       "guns          -0.193996\n",
       "south        123.242626\n",
       "west           2.393828\n",
       "east         -97.903714\n",
       "spipc         -4.204332\n",
       "gdppc          7.792427\n",
       "unemp         27.313125\n",
       "dtype: float64"
      ]
     },
     "execution_count": 232,
     "metadata": {},
     "output_type": "execute_result"
    }
   ],
   "source": [
    "par=reg02.params\n",
    "par"
   ]
  },
  {
   "cell_type": "code",
   "execution_count": 233,
   "metadata": {},
   "outputs": [
    {
     "name": "stdout",
     "output_type": "stream",
     "text": [
      "[-0.008335793681363335, -0.41291320166142165, 0.9037788203335825, 0.5978100423816282]\n",
      "[16.833333333333332, 38.47492075228776, 45.43654873370338, 8.574479166666666]\n"
     ]
    }
   ],
   "source": [
    "gunsE=par[1]*(df.guns.mean()/df.vcr.mean())\n",
    "spipcE=par[5]*(df.spipc.mean()/df.vcr.mean())\n",
    "gdppcE=par[6]*(df.gdppc.mean()/df.vcr.mean())\n",
    "unempE=par[7]*(df.unemp.mean()/df.vcr.mean())\n",
    "print([gunsE,spipcE,gdppcE,unempE])\n",
    "print([df.guns.mean(),df.spipc.mean(),df.gdppc.mean(),df.unemp.mean()])"
   ]
  },
  {
   "cell_type": "markdown",
   "metadata": {},
   "source": [
    "### Elasticities​ Summary Table"
   ]
  },
  {
   "cell_type": "markdown",
   "metadata": {},
   "source": [
    "| Variable | Model | Estimate | Mean | Elasticity | Interpretation |\n",
    "|---|---|---|---|---|---|\n",
    "| guns | reg02 | -0.194 | 16.8333 | -0.0083 | Inealstic |\n",
    "| spipc | reg02 | -4.2043 | 38.47492 | -0.4129 | Inelastic |\n",
    "| gdppc | reg02 | 7.7924 | 45.4365 | 0.9038 | Inelastic |\n",
    "| unemp | reg02 | 27.3131 | 8.5745 | 0.5978 | Inelastic |"
   ]
  },
  {
   "cell_type": "markdown",
   "metadata": {},
   "source": [
    "## <font color = blue> Build a Model Portfolio.</font>"
   ]
  },
  {
   "cell_type": "code",
   "execution_count": 234,
   "metadata": {},
   "outputs": [
    {
     "data": {
      "text/html": [
       "<table class=\"simpletable\">\n",
       "<tr>\n",
       "       <td></td>          <th>reg02</th>      <th>reg03</th>      <th>reg04</th>      <th>reg05</th>   \n",
       "</tr>\n",
       "<tr>\n",
       "  <th>Intercept</th>    <td>-54.8459</td>   <td>-33.8741</td>   <td>232.0243</td>  <td>391.7563***</td>\n",
       "</tr>\n",
       "<tr>\n",
       "  <th></th>            <td>(264.4090)</td> <td>(191.2229)</td> <td>(258.6263)</td>  <td>(22.9137)</td> \n",
       "</tr>\n",
       "<tr>\n",
       "  <th>east</th>         <td>-97.9037</td>   <td>-98.4373</td>       <td></td>           <td></td>      \n",
       "</tr>\n",
       "<tr>\n",
       "  <th></th>             <td>(74.9612)</td>  <td>(73.9155)</td>      <td></td>           <td></td>      \n",
       "</tr>\n",
       "<tr>\n",
       "  <th>gdppc</th>         <td>7.7924</td>     <td>7.9224</td>    <td>10.9387**</td>      <td></td>      \n",
       "</tr>\n",
       "<tr>\n",
       "  <th></th>             <td>(5.0202)</td>   <td>(4.8353)</td>   <td>(4.6427)</td>       <td></td>      \n",
       "</tr>\n",
       "<tr>\n",
       "  <th>guns</th>          <td>-0.1940</td>       <td></td>        <td>-0.2215</td>       <td></td>      \n",
       "</tr>\n",
       "<tr>\n",
       "  <th></th>             <td>(1.6662)</td>       <td></td>       <td>(1.8130)</td>       <td></td>      \n",
       "</tr>\n",
       "<tr>\n",
       "  <th>south</th>       <td>123.2426**</td> <td>122.6556**</td>      <td></td>           <td></td>      \n",
       "</tr>\n",
       "<tr>\n",
       "  <th></th>             <td>(54.4174)</td>  <td>(53.5276)</td>      <td></td>           <td></td>      \n",
       "</tr>\n",
       "<tr>\n",
       "  <th>spipc</th>         <td>-4.2043</td>    <td>-4.8295</td>   <td>-14.8440*</td>      <td></td>      \n",
       "</tr>\n",
       "<tr>\n",
       "  <th></th>             <td>(9.9499)</td>   <td>(8.2756)</td>   <td>(8.7352)</td>       <td></td>      \n",
       "</tr>\n",
       "<tr>\n",
       "  <th>unemp</th>        <td>27.3131**</td> <td>26.6725***</td>  <td>27.7060**</td>      <td></td>      \n",
       "</tr>\n",
       "<tr>\n",
       "  <th></th>             <td>(10.7190)</td>  <td>(9.0877)</td>   <td>(11.7101)</td>      <td></td>      \n",
       "</tr>\n",
       "<tr>\n",
       "  <th>west</th>          <td>2.3938</td>     <td>1.2840</td>        <td></td>           <td></td>      \n",
       "</tr>\n",
       "<tr>\n",
       "  <th></th>             <td>(58.9521)</td>  <td>(57.4723)</td>      <td></td>           <td></td>      \n",
       "</tr>\n",
       "<tr>\n",
       "  <th>n</th>               <td>48</td>         <td>48</td>         <td>48</td>         <td>48</td>     \n",
       "</tr>\n",
       "<tr>\n",
       "  <th>R2</th>             <td>0.413</td>      <td>0.413</td>      <td>0.233</td>      <td>0.000</td>   \n",
       "</tr>\n",
       "<tr>\n",
       "  <th>R2 Adjusted</th>    <td>0.310</td>      <td>0.327</td>      <td>0.161</td>      <td>0.000</td>   \n",
       "</tr>\n",
       "<tr>\n",
       "  <th>AIC</th>           <td>612.102</td>    <td>610.118</td>    <td>618.955</td>    <td>623.672</td>  \n",
       "</tr>\n",
       "<tr>\n",
       "  <th>BIC</th>           <td>627.071</td>    <td>623.216</td>    <td>628.311</td>    <td>625.543</td>  \n",
       "</tr>\n",
       "<tr>\n",
       "  <th>F p-value</th>      <td>0.002</td>      <td>0.001</td>      <td>0.020</td>       <td>nan</td>    \n",
       "</tr>\n",
       "</table>"
      ],
      "text/plain": [
       "<class 'statsmodels.iolib.summary2.Summary'>\n",
       "\"\"\"\n",
       "\n",
       "========================================================\n",
       "              reg02      reg03      reg04       reg05   \n",
       "--------------------------------------------------------\n",
       "Intercept   -54.8459   -33.8741   232.0243   391.7563***\n",
       "            (264.4090) (191.2229) (258.6263) (22.9137)  \n",
       "east        -97.9037   -98.4373                         \n",
       "            (74.9612)  (73.9155)                        \n",
       "gdppc       7.7924     7.9224     10.9387**             \n",
       "            (5.0202)   (4.8353)   (4.6427)              \n",
       "guns        -0.1940               -0.2215               \n",
       "            (1.6662)              (1.8130)              \n",
       "south       123.2426** 122.6556**                       \n",
       "            (54.4174)  (53.5276)                        \n",
       "spipc       -4.2043    -4.8295    -14.8440*             \n",
       "            (9.9499)   (8.2756)   (8.7352)              \n",
       "unemp       27.3131**  26.6725*** 27.7060**             \n",
       "            (10.7190)  (9.0877)   (11.7101)             \n",
       "west        2.3938     1.2840                           \n",
       "            (58.9521)  (57.4723)                        \n",
       "n           48         48         48         48         \n",
       "R2          0.413      0.413      0.233      0.000      \n",
       "R2 Adjusted 0.310      0.327      0.161      0.000      \n",
       "AIC         612.102    610.118    618.955    623.672    \n",
       "BIC         627.071    623.216    628.311    625.543    \n",
       "F p-value   0.002      0.001      0.020      nan        \n",
       "========================================================\n",
       "Standard errors in parentheses.\n",
       "* p<.1, ** p<.05, ***p<.01\n",
       "\"\"\""
      ]
     },
     "execution_count": 234,
     "metadata": {},
     "output_type": "execute_result"
    }
   ],
   "source": [
    "summary_col( [ reg02,reg03,reg04,reg05], stars = True, model_names=[\"reg02\",\"reg03\",\"reg04\",\"reg05\"],\n",
    "           info_dict = {'n': lambda x: \"{0:d}\".format( int( x.nobs )),\n",
    "                        'R2': lambda x: \"{:0.3f}\".format( x.rsquared ),\n",
    "                         'R2 Adjusted': lambda x: \"{:0.3f}\".format( x.rsquared_adj ),\n",
    "                         'AIC': lambda x: \"{:0.3f}\".format( x.aic ),\n",
    "                         'BIC': lambda x: \"{:0.3f}\".format( x.bic ),\n",
    "                        'F p-value': lambda x: \"{:0.3f}\".format( x.f_pvalue ),\n",
    "})"
   ]
  },
  {
   "cell_type": "markdown",
   "metadata": {},
   "source": [
    "# <font color = red> Post-lab Questions </font>"
   ]
  },
  {
   "cell_type": "markdown",
   "metadata": {},
   "source": [
    "## <font color = blue> What is the relationship between violent crime and the independent variables? Is this the relationship you expected?  Are your testable hypotheses supportable and why?</font>"
   ]
  },
  {
   "cell_type": "markdown",
   "metadata": {},
   "source": [
    "There were some surprises. For example, increased GDP Per Capita is correlated with an increased in Violent Crime Rates. This may be because wealthier people have more valuable assets, so there is a higher reward for successfully robbing or mugging a rich person as opposed to a poor person. I was correct that higher personal income and lower unemployment are correlated with lower violent crime. While I was correct that stricter gun laws are correlated with less crime, the elasticity is almost 0 (e=-0.0083) and the strongest model is in fact the model that omits the strictness of gun laws as a variable. I conjecture that the reason strictness of gun laws has such a weak effect on crime is because laws that make it harder for criminals to get guns also make it harder for normal citizens to get guns which can be used for self-defense. Thus, increased access to firearms increases the risk of getting shot when attempting a robbery or assault, and would reduce crime. \n",
    "The only supportable testable Hypothesis is that Unemployment and violent crime are positively correlated. All the other variables had very high p-values throughout the models."
   ]
  },
  {
   "cell_type": "markdown",
   "metadata": {},
   "source": [
    "## <font color = blue>Interpret the regional dummy variables.  What do you conclude about their statistical significance?</font>"
   ]
  },
  {
   "cell_type": "markdown",
   "metadata": {},
   "source": [
    "The South was the most violent, followed by the West and the Midwest. Region is statistically significant, as the worst-performing model, reg04, which omits the regional dummy variables, has the lowest r-squared adjusted (.161) of any of the not naive models. Performing an F-test for the Dummy Variables yielded p=0.01261<.05, so they are significant."
   ]
  },
  {
   "cell_type": "markdown",
   "metadata": {},
   "source": [
    "## <font color = blue> Interpret the $R^{2}$ and $R^{2}$ adjusted from the regression output. What do they say about your model? Which is the better measure and why?</font>"
   ]
  },
  {
   "cell_type": "markdown",
   "metadata": {},
   "source": [
    "Both reg02 and reg03 have the same R-squared (.413), which is higher than the r-squared for reg04 (.233). However, R-squared inevitably increases when the amount of independent variables increases. Reg03 has fewer independent variables, and thus has the highest R-squared adjusted of any of the models. It is a better measure because r squared can be used to \"cheat\" because adding arbitrary variables will slightly increase it, even if those variables are garbage and actually make your model more complicated and less accurate."
   ]
  },
  {
   "cell_type": "markdown",
   "metadata": {},
   "source": [
    "## <font color = blue> How can you make the model better?  What additional variables can you think of that should be included? Defend your answer.</font>"
   ]
  },
  {
   "cell_type": "markdown",
   "metadata": {},
   "source": [
    "This model could be improved by instead of comparing states, we had access to county data. More observations would make the model stronger. However, data on things such as real personal income or GDP can't always be found for every county in the United States. An additional variable that may impact violent crime could be education. In theory, better educated people have higher wages, and thus face a higher opportunity cost for going to prison, and will be less likely to commit crimes. This could be measured by either state high school graduation rates, or percentage of the adult population with a high school or bachelor's degree, or total education spending per capita."
   ]
  },
  {
   "cell_type": "markdown",
   "metadata": {},
   "source": [
    "## <font color = blue> Interpret the F-statistic from the regression output.  What hypothesis does it test?  What do you conclude about your model based on the F-statistic?  </font>"
   ]
  },
  {
   "cell_type": "markdown",
   "metadata": {},
   "source": [
    "The probability of the F-statistic was .002 <.05, so we reject the Null Hypothesis that none of the independent variables have any influence. At least one of our variables must be significant, which was the alternative hypothesis. Our model is thus a better predictor of violent crime than the restricted model, where all the estimators are estimated to be 0."
   ]
  },
  {
   "cell_type": "markdown",
   "metadata": {},
   "source": [
    "## <font color = blue> Are violent crimes elastic or inelastic with respect to each of the independent variables?  Do they make sense?  Is it what you expect? Defend your answer. </font>"
   ]
  },
  {
   "cell_type": "markdown",
   "metadata": {},
   "source": [
    "Violent Crime was inelastic with respect to each of the independent variables. For GDP Per Capita and Personal Income Per Capita this makes sense, as a 1% change in $45,000 or $38,000 a year is equivalent to making an extra $450 or $380 a year, which is a very small change in one's economic circumstances, and so not a huge amount of people would radically change their lifestyles if they started making an extra five or ten dollars a week, so violent crime would not really change. The inelasticity of unemployment to violent crime also makes sense, as the overwhelming amount of people, even when unemployed, would not resort to crime, choosing instead to find a new job or cut down on consumption, so crime would not increase that much with unemployment. Gun law strictness is almost completely uncorrelated with violent crime and the elasticity is close to 0, which I did not expect. However, gun laws may prevent as well as enable violent crime. Alternatively, areas with high levels of crime may pass more restrictive gun laws."
   ]
  },
  {
   "cell_type": "markdown",
   "metadata": {},
   "source": [
    "## <font color = blue> Interpret the correlation matrix </font>"
   ]
  },
  {
   "cell_type": "markdown",
   "metadata": {},
   "source": [
    "The correlation matrix shows that there is very little collinearity between any of the variables. The strongest positive correlation was between GDP Per Capita and Personal Income Per Capita (r=.8588), which is not surprising, because most people's incomes come from working where they live. The weakest positive correlation was between GDP Per Capita and Violent Crime (r=.0474), which is in line with the inelasticity of violent crime with respect to GDP Per Capita. The strongest negative correlation was between GDP Per Capita and Unemployment (r=-.2032), which is in fact a validation of Okun's Law, that GDP and Unemployment are negatively related, and of course it's common sense that more people working means more economic activity. The weakest negative correlation was between Gun Law Strictness and Violent Crime Rates (r=-.005), as strict gun laws may not prevent crime, as armed citizens may be less likely to be victimized, or strict gun laws may be more common in high-crime areas, but at the same time strict gun laws can prevent criminals from acquiring the means to commit crimes."
   ]
  },
  {
   "cell_type": "markdown",
   "metadata": {},
   "source": [
    "## <font color = blue> What is the best model?  Basis?  Explain your answer. </font>"
   ]
  },
  {
   "cell_type": "markdown",
   "metadata": {},
   "source": [
    "Whether we are trying to maximize Adjusted R-Squared or minimize AIC or minimize BIC, the best model, with the highest Adjusted R-squared (.327) and lowest AIC (610.118) and lowest BIC (623.216) is model reg03, which can be expressed as: <br>\n",
    "*vcr=$\\beta_0$+$\\beta_1$unemp +$\\beta_2$gdppc +$\\beta_3$pcipc + $\\gamma_5$west + $\\gamma_6$east + $\\gamma_7$south +$\\epsilon$* <br>"
   ]
  },
  {
   "cell_type": "markdown",
   "metadata": {},
   "source": [
    "## <font color = blue> What is the practical significance of your model? In other words, what can this be used for, it for anything at all? How would you answer the question: \"<i>So what?</i>\" Defend your answer. </font>"
   ]
  },
  {
   "cell_type": "markdown",
   "metadata": {},
   "source": [
    "Violent Crime can be a serious impediment for a business. A business that built its new headquarters in some place with high levels of violent crime may have trouble attracting talent and may find its assets stolen or damaged. Knowing what areas are safe to operate and expand one's firm is very important in order to make the right business decisions."
   ]
  }
 ],
 "metadata": {
  "kernelspec": {
   "display_name": "Python 3",
   "language": "python",
   "name": "python3"
  },
  "language_info": {
   "codemirror_mode": {
    "name": "ipython",
    "version": 3
   },
   "file_extension": ".py",
   "mimetype": "text/x-python",
   "name": "python",
   "nbconvert_exporter": "python",
   "pygments_lexer": "ipython3",
   "version": "3.6.5"
  }
 },
 "nbformat": 4,
 "nbformat_minor": 2
}
