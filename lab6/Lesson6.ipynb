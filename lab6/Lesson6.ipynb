{
 "cells": [
  {
   "cell_type": "markdown",
   "metadata": {},
   "source": [
    "# <font color = red>Lesson 6: Specialized Variables</font>"
   ]
  },
  {
   "cell_type": "markdown",
   "metadata": {},
   "source": [
    "There are three specialized variables:\n",
    "\n",
    "1. lagged variables for time series;\n",
    "2. trend for times series; and\n",
    "3. dummy variables for time series or cross-sectional data."
   ]
  },
  {
   "cell_type": "markdown",
   "metadata": {},
   "source": [
    "## <font color = blue>Time Series Data</font>"
   ]
  },
  {
   "cell_type": "markdown",
   "metadata": {},
   "source": [
    "### Data Dictionary"
   ]
  },
  {
   "cell_type": "markdown",
   "metadata": {},
   "source": [
    "| Variable | Values   | Source | Mnemonic |\n",
    "|----------|----------|--------|---------|\n",
    "| Unemployment Rate | Civilian unemployment rate (%) | 1996 Economic Report of the President, Table B-38 | unemp |\n",
    "| CPI               | 1982-84 = 100)                 | IBID., Table B-56 | cpi |\n",
    "| Inflation Rate    | Percent change in CPI (inflation rate) | Calculated as $100\\times\\dfrac{(CPI_t - CPI_{t - 1})}{CPI_{t - 1}}$  | infl |\n",
    "| Percent change in average weekly earnings | Current dollars | IBID., Table B-43 | wggr |"
   ]
  },
  {
   "cell_type": "markdown",
   "metadata": {},
   "source": [
    "### Basic Data Loading"
   ]
  },
  {
   "cell_type": "code",
   "execution_count": 1,
   "metadata": {
    "collapsed": true
   },
   "outputs": [],
   "source": [
    "##\n",
    "## import packages\n",
    "##\n",
    "import numpy as np\n",
    "import pandas as pd\n",
    "##\n",
    "## for modeling\n",
    "##\n",
    "import statsmodels.api as sm\n",
    "import statsmodels.formula.api as smf \n",
    "from statsmodels.iolib.summary2 import summary_col\n",
    "from statsmodels.stats.api import anova_lm\n",
    "##\n",
    "## for plotting\n",
    "##\n",
    "import matplotlib.pyplot as plt\n",
    "import seaborn as sns"
   ]
  },
  {
   "cell_type": "code",
   "execution_count": 2,
   "metadata": {
    "scrolled": true
   },
   "outputs": [
    {
     "data": {
      "text/html": [
       "<div>\n",
       "<style scoped>\n",
       "    .dataframe tbody tr th:only-of-type {\n",
       "        vertical-align: middle;\n",
       "    }\n",
       "\n",
       "    .dataframe tbody tr th {\n",
       "        vertical-align: top;\n",
       "    }\n",
       "\n",
       "    .dataframe thead th {\n",
       "        text-align: right;\n",
       "    }\n",
       "</style>\n",
       "<table border=\"1\" class=\"dataframe\">\n",
       "  <thead>\n",
       "    <tr style=\"text-align: right;\">\n",
       "      <th></th>\n",
       "      <th>unemp</th>\n",
       "      <th>cpi</th>\n",
       "      <th>infl</th>\n",
       "      <th>wggr</th>\n",
       "    </tr>\n",
       "    <tr>\n",
       "      <th>year</th>\n",
       "      <th></th>\n",
       "      <th></th>\n",
       "      <th></th>\n",
       "      <th></th>\n",
       "    </tr>\n",
       "  </thead>\n",
       "  <tbody>\n",
       "    <tr>\n",
       "      <th>1959</th>\n",
       "      <td>5.2</td>\n",
       "      <td>29.1</td>\n",
       "      <td>0.69</td>\n",
       "      <td>4.9</td>\n",
       "    </tr>\n",
       "    <tr>\n",
       "      <th>1960</th>\n",
       "      <td>5.4</td>\n",
       "      <td>29.6</td>\n",
       "      <td>1.72</td>\n",
       "      <td>2.4</td>\n",
       "    </tr>\n",
       "    <tr>\n",
       "      <th>1961</th>\n",
       "      <td>6.4</td>\n",
       "      <td>29.9</td>\n",
       "      <td>1.01</td>\n",
       "      <td>2.4</td>\n",
       "    </tr>\n",
       "    <tr>\n",
       "      <th>1962</th>\n",
       "      <td>5.2</td>\n",
       "      <td>30.2</td>\n",
       "      <td>1.00</td>\n",
       "      <td>4.0</td>\n",
       "    </tr>\n",
       "    <tr>\n",
       "      <th>1963</th>\n",
       "      <td>5.7</td>\n",
       "      <td>30.6</td>\n",
       "      <td>1.32</td>\n",
       "      <td>3.0</td>\n",
       "    </tr>\n",
       "  </tbody>\n",
       "</table>\n",
       "</div>"
      ],
      "text/plain": [
       "      unemp   cpi  infl  wggr\n",
       "year                         \n",
       "1959    5.2  29.1  0.69   4.9\n",
       "1960    5.4  29.6  1.72   2.4\n",
       "1961    6.4  29.9  1.01   2.4\n",
       "1962    5.2  30.2  1.00   4.0\n",
       "1963    5.7  30.6  1.32   3.0"
      ]
     },
     "execution_count": 2,
     "metadata": {},
     "output_type": "execute_result"
    }
   ],
   "source": [
    "##\n",
    "## import Phillips Curve data from a csv file\n",
    "## notice the definition of a path variable\n",
    "##\n",
    "path = r'C:/Users/Owner/Documents/Teaching/Rutgers/ECMT322/lessons/Notebooks/'\n",
    "df = pd.read_csv( path + 'phillips.csv', index_col = 'year' )\n",
    "df.head()"
   ]
  },
  {
   "cell_type": "markdown",
   "metadata": {},
   "source": [
    "## <font color = blue>Lagged variables</font>"
   ]
  },
  {
   "cell_type": "code",
   "execution_count": 3,
   "metadata": {},
   "outputs": [
    {
     "data": {
      "text/html": [
       "<div>\n",
       "<style scoped>\n",
       "    .dataframe tbody tr th:only-of-type {\n",
       "        vertical-align: middle;\n",
       "    }\n",
       "\n",
       "    .dataframe tbody tr th {\n",
       "        vertical-align: top;\n",
       "    }\n",
       "\n",
       "    .dataframe thead th {\n",
       "        text-align: right;\n",
       "    }\n",
       "</style>\n",
       "<table border=\"1\" class=\"dataframe\">\n",
       "  <thead>\n",
       "    <tr style=\"text-align: right;\">\n",
       "      <th></th>\n",
       "      <th>unemp</th>\n",
       "      <th>cpi</th>\n",
       "      <th>infl</th>\n",
       "      <th>wggr</th>\n",
       "      <th>lag1_infl</th>\n",
       "    </tr>\n",
       "    <tr>\n",
       "      <th>year</th>\n",
       "      <th></th>\n",
       "      <th></th>\n",
       "      <th></th>\n",
       "      <th></th>\n",
       "      <th></th>\n",
       "    </tr>\n",
       "  </thead>\n",
       "  <tbody>\n",
       "    <tr>\n",
       "      <th>1959</th>\n",
       "      <td>5.2</td>\n",
       "      <td>29.1</td>\n",
       "      <td>0.69</td>\n",
       "      <td>4.9</td>\n",
       "      <td>NaN</td>\n",
       "    </tr>\n",
       "    <tr>\n",
       "      <th>1960</th>\n",
       "      <td>5.4</td>\n",
       "      <td>29.6</td>\n",
       "      <td>1.72</td>\n",
       "      <td>2.4</td>\n",
       "      <td>0.69</td>\n",
       "    </tr>\n",
       "    <tr>\n",
       "      <th>1961</th>\n",
       "      <td>6.4</td>\n",
       "      <td>29.9</td>\n",
       "      <td>1.01</td>\n",
       "      <td>2.4</td>\n",
       "      <td>1.72</td>\n",
       "    </tr>\n",
       "    <tr>\n",
       "      <th>1962</th>\n",
       "      <td>5.2</td>\n",
       "      <td>30.2</td>\n",
       "      <td>1.00</td>\n",
       "      <td>4.0</td>\n",
       "      <td>1.01</td>\n",
       "    </tr>\n",
       "    <tr>\n",
       "      <th>1963</th>\n",
       "      <td>5.7</td>\n",
       "      <td>30.6</td>\n",
       "      <td>1.32</td>\n",
       "      <td>3.0</td>\n",
       "      <td>1.00</td>\n",
       "    </tr>\n",
       "  </tbody>\n",
       "</table>\n",
       "</div>"
      ],
      "text/plain": [
       "      unemp   cpi  infl  wggr  lag1_infl\n",
       "year                                    \n",
       "1959    5.2  29.1  0.69   4.9        NaN\n",
       "1960    5.4  29.6  1.72   2.4       0.69\n",
       "1961    6.4  29.9  1.01   2.4       1.72\n",
       "1962    5.2  30.2  1.00   4.0       1.01\n",
       "1963    5.7  30.6  1.32   3.0       1.00"
      ]
     },
     "execution_count": 3,
     "metadata": {},
     "output_type": "execute_result"
    }
   ],
   "source": [
    "## \n",
    "## lag the inflation rate one period\n",
    "## default is 1 period lag\n",
    "##\n",
    "df[ 'lag1_infl' ] = df.infl.shift()\n",
    "df.head()"
   ]
  },
  {
   "cell_type": "code",
   "execution_count": 4,
   "metadata": {},
   "outputs": [
    {
     "data": {
      "text/html": [
       "<div>\n",
       "<style scoped>\n",
       "    .dataframe tbody tr th:only-of-type {\n",
       "        vertical-align: middle;\n",
       "    }\n",
       "\n",
       "    .dataframe tbody tr th {\n",
       "        vertical-align: top;\n",
       "    }\n",
       "\n",
       "    .dataframe thead th {\n",
       "        text-align: right;\n",
       "    }\n",
       "</style>\n",
       "<table border=\"1\" class=\"dataframe\">\n",
       "  <thead>\n",
       "    <tr style=\"text-align: right;\">\n",
       "      <th></th>\n",
       "      <th>unemp</th>\n",
       "      <th>cpi</th>\n",
       "      <th>infl</th>\n",
       "      <th>wggr</th>\n",
       "      <th>lag1_infl</th>\n",
       "      <th>lag2_infl</th>\n",
       "    </tr>\n",
       "    <tr>\n",
       "      <th>year</th>\n",
       "      <th></th>\n",
       "      <th></th>\n",
       "      <th></th>\n",
       "      <th></th>\n",
       "      <th></th>\n",
       "      <th></th>\n",
       "    </tr>\n",
       "  </thead>\n",
       "  <tbody>\n",
       "    <tr>\n",
       "      <th>1959</th>\n",
       "      <td>5.2</td>\n",
       "      <td>29.1</td>\n",
       "      <td>0.69</td>\n",
       "      <td>4.9</td>\n",
       "      <td>NaN</td>\n",
       "      <td>NaN</td>\n",
       "    </tr>\n",
       "    <tr>\n",
       "      <th>1960</th>\n",
       "      <td>5.4</td>\n",
       "      <td>29.6</td>\n",
       "      <td>1.72</td>\n",
       "      <td>2.4</td>\n",
       "      <td>0.69</td>\n",
       "      <td>NaN</td>\n",
       "    </tr>\n",
       "    <tr>\n",
       "      <th>1961</th>\n",
       "      <td>6.4</td>\n",
       "      <td>29.9</td>\n",
       "      <td>1.01</td>\n",
       "      <td>2.4</td>\n",
       "      <td>1.72</td>\n",
       "      <td>0.69</td>\n",
       "    </tr>\n",
       "    <tr>\n",
       "      <th>1962</th>\n",
       "      <td>5.2</td>\n",
       "      <td>30.2</td>\n",
       "      <td>1.00</td>\n",
       "      <td>4.0</td>\n",
       "      <td>1.01</td>\n",
       "      <td>1.72</td>\n",
       "    </tr>\n",
       "    <tr>\n",
       "      <th>1963</th>\n",
       "      <td>5.7</td>\n",
       "      <td>30.6</td>\n",
       "      <td>1.32</td>\n",
       "      <td>3.0</td>\n",
       "      <td>1.00</td>\n",
       "      <td>1.01</td>\n",
       "    </tr>\n",
       "  </tbody>\n",
       "</table>\n",
       "</div>"
      ],
      "text/plain": [
       "      unemp   cpi  infl  wggr  lag1_infl  lag2_infl\n",
       "year                                               \n",
       "1959    5.2  29.1  0.69   4.9        NaN        NaN\n",
       "1960    5.4  29.6  1.72   2.4       0.69        NaN\n",
       "1961    6.4  29.9  1.01   2.4       1.72       0.69\n",
       "1962    5.2  30.2  1.00   4.0       1.01       1.72\n",
       "1963    5.7  30.6  1.32   3.0       1.00       1.01"
      ]
     },
     "execution_count": 4,
     "metadata": {},
     "output_type": "execute_result"
    }
   ],
   "source": [
    "##\n",
    "## lag inflation two periods\n",
    "##\n",
    "df[ 'lag2_infl' ] = df.infl.shift( 2 )\n",
    "df.head()"
   ]
  },
  {
   "cell_type": "code",
   "execution_count": 5,
   "metadata": {},
   "outputs": [
    {
     "data": {
      "text/html": [
       "<div>\n",
       "<style scoped>\n",
       "    .dataframe tbody tr th:only-of-type {\n",
       "        vertical-align: middle;\n",
       "    }\n",
       "\n",
       "    .dataframe tbody tr th {\n",
       "        vertical-align: top;\n",
       "    }\n",
       "\n",
       "    .dataframe thead th {\n",
       "        text-align: right;\n",
       "    }\n",
       "</style>\n",
       "<table border=\"1\" class=\"dataframe\">\n",
       "  <thead>\n",
       "    <tr style=\"text-align: right;\">\n",
       "      <th></th>\n",
       "      <th>unemp</th>\n",
       "      <th>cpi</th>\n",
       "      <th>infl</th>\n",
       "      <th>wggr</th>\n",
       "      <th>lag1_infl</th>\n",
       "      <th>lag2_infl</th>\n",
       "      <th>diff1_cpi</th>\n",
       "    </tr>\n",
       "    <tr>\n",
       "      <th>year</th>\n",
       "      <th></th>\n",
       "      <th></th>\n",
       "      <th></th>\n",
       "      <th></th>\n",
       "      <th></th>\n",
       "      <th></th>\n",
       "      <th></th>\n",
       "    </tr>\n",
       "  </thead>\n",
       "  <tbody>\n",
       "    <tr>\n",
       "      <th>1959</th>\n",
       "      <td>5.2</td>\n",
       "      <td>29.1</td>\n",
       "      <td>0.69</td>\n",
       "      <td>4.9</td>\n",
       "      <td>NaN</td>\n",
       "      <td>NaN</td>\n",
       "      <td>NaN</td>\n",
       "    </tr>\n",
       "    <tr>\n",
       "      <th>1960</th>\n",
       "      <td>5.4</td>\n",
       "      <td>29.6</td>\n",
       "      <td>1.72</td>\n",
       "      <td>2.4</td>\n",
       "      <td>0.69</td>\n",
       "      <td>NaN</td>\n",
       "      <td>0.5</td>\n",
       "    </tr>\n",
       "    <tr>\n",
       "      <th>1961</th>\n",
       "      <td>6.4</td>\n",
       "      <td>29.9</td>\n",
       "      <td>1.01</td>\n",
       "      <td>2.4</td>\n",
       "      <td>1.72</td>\n",
       "      <td>0.69</td>\n",
       "      <td>0.3</td>\n",
       "    </tr>\n",
       "    <tr>\n",
       "      <th>1962</th>\n",
       "      <td>5.2</td>\n",
       "      <td>30.2</td>\n",
       "      <td>1.00</td>\n",
       "      <td>4.0</td>\n",
       "      <td>1.01</td>\n",
       "      <td>1.72</td>\n",
       "      <td>0.3</td>\n",
       "    </tr>\n",
       "    <tr>\n",
       "      <th>1963</th>\n",
       "      <td>5.7</td>\n",
       "      <td>30.6</td>\n",
       "      <td>1.32</td>\n",
       "      <td>3.0</td>\n",
       "      <td>1.00</td>\n",
       "      <td>1.01</td>\n",
       "      <td>0.4</td>\n",
       "    </tr>\n",
       "  </tbody>\n",
       "</table>\n",
       "</div>"
      ],
      "text/plain": [
       "      unemp   cpi  infl  wggr  lag1_infl  lag2_infl  diff1_cpi\n",
       "year                                                          \n",
       "1959    5.2  29.1  0.69   4.9        NaN        NaN        NaN\n",
       "1960    5.4  29.6  1.72   2.4       0.69        NaN        0.5\n",
       "1961    6.4  29.9  1.01   2.4       1.72       0.69        0.3\n",
       "1962    5.2  30.2  1.00   4.0       1.01       1.72        0.3\n",
       "1963    5.7  30.6  1.32   3.0       1.00       1.01        0.4"
      ]
     },
     "execution_count": 5,
     "metadata": {},
     "output_type": "execute_result"
    }
   ],
   "source": [
    "##\n",
    "## calculate the first difference in the cpi\n",
    "##\n",
    "df[ 'diff1_cpi' ] = df.cpi.diff()\n",
    "df.head()"
   ]
  },
  {
   "cell_type": "markdown",
   "metadata": {},
   "source": [
    "## <font color = blue>Time trend</font>"
   ]
  },
  {
   "cell_type": "code",
   "execution_count": 6,
   "metadata": {},
   "outputs": [
    {
     "name": "stdout",
     "output_type": "stream",
     "text": [
      "Number of rows:  37\n"
     ]
    },
    {
     "data": {
      "text/html": [
       "<div>\n",
       "<style scoped>\n",
       "    .dataframe tbody tr th:only-of-type {\n",
       "        vertical-align: middle;\n",
       "    }\n",
       "\n",
       "    .dataframe tbody tr th {\n",
       "        vertical-align: top;\n",
       "    }\n",
       "\n",
       "    .dataframe thead th {\n",
       "        text-align: right;\n",
       "    }\n",
       "</style>\n",
       "<table border=\"1\" class=\"dataframe\">\n",
       "  <thead>\n",
       "    <tr style=\"text-align: right;\">\n",
       "      <th></th>\n",
       "      <th>unemp</th>\n",
       "      <th>cpi</th>\n",
       "      <th>infl</th>\n",
       "      <th>wggr</th>\n",
       "      <th>lag1_infl</th>\n",
       "      <th>lag2_infl</th>\n",
       "      <th>diff1_cpi</th>\n",
       "      <th>time</th>\n",
       "    </tr>\n",
       "    <tr>\n",
       "      <th>year</th>\n",
       "      <th></th>\n",
       "      <th></th>\n",
       "      <th></th>\n",
       "      <th></th>\n",
       "      <th></th>\n",
       "      <th></th>\n",
       "      <th></th>\n",
       "      <th></th>\n",
       "    </tr>\n",
       "  </thead>\n",
       "  <tbody>\n",
       "    <tr>\n",
       "      <th>1959</th>\n",
       "      <td>5.2</td>\n",
       "      <td>29.1</td>\n",
       "      <td>0.69</td>\n",
       "      <td>4.9</td>\n",
       "      <td>NaN</td>\n",
       "      <td>NaN</td>\n",
       "      <td>NaN</td>\n",
       "      <td>0</td>\n",
       "    </tr>\n",
       "    <tr>\n",
       "      <th>1960</th>\n",
       "      <td>5.4</td>\n",
       "      <td>29.6</td>\n",
       "      <td>1.72</td>\n",
       "      <td>2.4</td>\n",
       "      <td>0.69</td>\n",
       "      <td>NaN</td>\n",
       "      <td>0.5</td>\n",
       "      <td>1</td>\n",
       "    </tr>\n",
       "    <tr>\n",
       "      <th>1961</th>\n",
       "      <td>6.4</td>\n",
       "      <td>29.9</td>\n",
       "      <td>1.01</td>\n",
       "      <td>2.4</td>\n",
       "      <td>1.72</td>\n",
       "      <td>0.69</td>\n",
       "      <td>0.3</td>\n",
       "      <td>2</td>\n",
       "    </tr>\n",
       "    <tr>\n",
       "      <th>1962</th>\n",
       "      <td>5.2</td>\n",
       "      <td>30.2</td>\n",
       "      <td>1.00</td>\n",
       "      <td>4.0</td>\n",
       "      <td>1.01</td>\n",
       "      <td>1.72</td>\n",
       "      <td>0.3</td>\n",
       "      <td>3</td>\n",
       "    </tr>\n",
       "    <tr>\n",
       "      <th>1963</th>\n",
       "      <td>5.7</td>\n",
       "      <td>30.6</td>\n",
       "      <td>1.32</td>\n",
       "      <td>3.0</td>\n",
       "      <td>1.00</td>\n",
       "      <td>1.01</td>\n",
       "      <td>0.4</td>\n",
       "      <td>4</td>\n",
       "    </tr>\n",
       "  </tbody>\n",
       "</table>\n",
       "</div>"
      ],
      "text/plain": [
       "      unemp   cpi  infl  wggr  lag1_infl  lag2_infl  diff1_cpi  time\n",
       "year                                                                \n",
       "1959    5.2  29.1  0.69   4.9        NaN        NaN        NaN     0\n",
       "1960    5.4  29.6  1.72   2.4       0.69        NaN        0.5     1\n",
       "1961    6.4  29.9  1.01   2.4       1.72       0.69        0.3     2\n",
       "1962    5.2  30.2  1.00   4.0       1.01       1.72        0.3     3\n",
       "1963    5.7  30.6  1.32   3.0       1.00       1.01        0.4     4"
      ]
     },
     "execution_count": 6,
     "metadata": {},
     "output_type": "execute_result"
    }
   ],
   "source": [
    "##\n",
    "## add a consequtive series starting from 0\n",
    "##\n",
    "n = df.shape[ 0 ]\n",
    "print( 'Number of rows: ', str( n ) )\n",
    "df[ 'time' ] = range( n )\n",
    "df.head()"
   ]
  },
  {
   "cell_type": "markdown",
   "metadata": {},
   "source": [
    "## <font color = blue>Dummy variables</font>"
   ]
  },
  {
   "cell_type": "code",
   "execution_count": 7,
   "metadata": {},
   "outputs": [
    {
     "data": {
      "text/html": [
       "<div>\n",
       "<style scoped>\n",
       "    .dataframe tbody tr th:only-of-type {\n",
       "        vertical-align: middle;\n",
       "    }\n",
       "\n",
       "    .dataframe tbody tr th {\n",
       "        vertical-align: top;\n",
       "    }\n",
       "\n",
       "    .dataframe thead th {\n",
       "        text-align: right;\n",
       "    }\n",
       "</style>\n",
       "<table border=\"1\" class=\"dataframe\">\n",
       "  <thead>\n",
       "    <tr style=\"text-align: right;\">\n",
       "      <th></th>\n",
       "      <th>Type</th>\n",
       "      <th>Size</th>\n",
       "      <th>Sales</th>\n",
       "      <th>Profits</th>\n",
       "      <th>Employees</th>\n",
       "      <th>profit/emp</th>\n",
       "      <th>Assets</th>\n",
       "      <th>PctProfit/sales</th>\n",
       "    </tr>\n",
       "  </thead>\n",
       "  <tbody>\n",
       "    <tr>\n",
       "      <th>0</th>\n",
       "      <td>Computer</td>\n",
       "      <td>small</td>\n",
       "      <td>855.1</td>\n",
       "      <td>31.0</td>\n",
       "      <td>7523</td>\n",
       "      <td>4120.70</td>\n",
       "      <td>615.2</td>\n",
       "      <td>3.63</td>\n",
       "    </tr>\n",
       "    <tr>\n",
       "      <th>1</th>\n",
       "      <td>Pharmaceutical</td>\n",
       "      <td>big</td>\n",
       "      <td>5453.5</td>\n",
       "      <td>859.8</td>\n",
       "      <td>40929</td>\n",
       "      <td>21007.11</td>\n",
       "      <td>4851.6</td>\n",
       "      <td>15.77</td>\n",
       "    </tr>\n",
       "    <tr>\n",
       "      <th>2</th>\n",
       "      <td>Computer</td>\n",
       "      <td>small</td>\n",
       "      <td>2153.7</td>\n",
       "      <td>153.0</td>\n",
       "      <td>8200</td>\n",
       "      <td>18658.54</td>\n",
       "      <td>2233.7</td>\n",
       "      <td>7.10</td>\n",
       "    </tr>\n",
       "    <tr>\n",
       "      <th>3</th>\n",
       "      <td>Pharmaceutical</td>\n",
       "      <td>big</td>\n",
       "      <td>6747.0</td>\n",
       "      <td>1102.2</td>\n",
       "      <td>50816</td>\n",
       "      <td>21690.02</td>\n",
       "      <td>5681.5</td>\n",
       "      <td>16.34</td>\n",
       "    </tr>\n",
       "    <tr>\n",
       "      <th>4</th>\n",
       "      <td>Computer</td>\n",
       "      <td>small</td>\n",
       "      <td>5284.0</td>\n",
       "      <td>454.0</td>\n",
       "      <td>12068</td>\n",
       "      <td>37620.15</td>\n",
       "      <td>2743.9</td>\n",
       "      <td>8.59</td>\n",
       "    </tr>\n",
       "  </tbody>\n",
       "</table>\n",
       "</div>"
      ],
      "text/plain": [
       "             Type   Size   Sales  Profits  Employees  profit/emp  Assets  \\\n",
       "0        Computer  small   855.1     31.0       7523     4120.70   615.2   \n",
       "1  Pharmaceutical    big  5453.5    859.8      40929    21007.11  4851.6   \n",
       "2        Computer  small  2153.7    153.0       8200    18658.54  2233.7   \n",
       "3  Pharmaceutical    big  6747.0   1102.2      50816    21690.02  5681.5   \n",
       "4        Computer  small  5284.0    454.0      12068    37620.15  2743.9   \n",
       "\n",
       "   PctProfit/sales  \n",
       "0             3.63  \n",
       "1            15.77  \n",
       "2             7.10  \n",
       "3            16.34  \n",
       "4             8.59  "
      ]
     },
     "execution_count": 7,
     "metadata": {},
     "output_type": "execute_result"
    }
   ],
   "source": [
    "##\n",
    "## import company financial data from a csv file\n",
    "## notice the definition of a path variable\n",
    "##\n",
    "path = r'C:/Users/Owner/Documents/Teaching/Rutgers/ECMT322/lessons/Notebooks/'\n",
    "df = pd.read_csv( path + 'companies.csv' )\n",
    "df.head()"
   ]
  },
  {
   "cell_type": "code",
   "execution_count": 8,
   "metadata": {},
   "outputs": [
    {
     "data": {
      "text/plain": [
       "small     16\n",
       "big        9\n",
       "medium     7\n",
       "Name: Size, dtype: int64"
      ]
     },
     "execution_count": 8,
     "metadata": {},
     "output_type": "execute_result"
    }
   ],
   "source": [
    "##\n",
    "## count the values of the variable Size\n",
    "##\n",
    "df.Size.value_counts()"
   ]
  },
  {
   "cell_type": "code",
   "execution_count": 9,
   "metadata": {},
   "outputs": [
    {
     "name": "stdout",
     "output_type": "stream",
     "text": [
      "                            OLS Regression Results                            \n",
      "==============================================================================\n",
      "Dep. Variable:                  Sales   R-squared:                       0.963\n",
      "Model:                            OLS   Adj. R-squared:                  0.959\n",
      "Method:                 Least Squares   F-statistic:                     240.9\n",
      "Date:                Thu, 22 Nov 2018   Prob (F-statistic):           4.29e-20\n",
      "Time:                        09:04:13   Log-Likelihood:                -290.00\n",
      "No. Observations:                  32   AIC:                             588.0\n",
      "Df Residuals:                      28   BIC:                             593.9\n",
      "Df Model:                           3                                         \n",
      "Covariance Type:            nonrobust                                         \n",
      "=====================================================================================\n",
      "                        coef    std err          t      P>|t|      [0.025      0.975]\n",
      "-------------------------------------------------------------------------------------\n",
      "Intercept         -3659.0277   1032.176     -3.545      0.001   -5773.344   -1544.711\n",
      "C(Size)[T.medium]  2730.0815   1235.417      2.210      0.035     199.444    5260.719\n",
      "C(Size)[T.small]   3835.9932   1135.849      3.377      0.002    1509.312    6162.674\n",
      "Employees             0.1720      0.007     23.705      0.000       0.157       0.187\n",
      "==============================================================================\n",
      "Omnibus:                       40.197   Durbin-Watson:                   1.747\n",
      "Prob(Omnibus):                  0.000   Jarque-Bera (JB):              179.157\n",
      "Skew:                          -2.487   Prob(JB):                     1.25e-39\n",
      "Kurtosis:                      13.470   Cond. No.                     3.48e+05\n",
      "==============================================================================\n",
      "\n",
      "Warnings:\n",
      "[1] Standard Errors assume that the covariance matrix of the errors is correctly specified.\n",
      "[2] The condition number is large, 3.48e+05. This might indicate that there are\n",
      "strong multicollinearity or other numerical problems.\n"
     ]
    }
   ],
   "source": [
    "## \n",
    "## regression of sales on number of employees and company size\n",
    "##\n",
    "formula = 'Sales ~ Employees + C(Size)'\n",
    "mod = smf.ols( formula, data = df )\n",
    "reg01 = mod.fit()\n",
    "print( reg01.summary() )"
   ]
  },
  {
   "cell_type": "code",
   "execution_count": 10,
   "metadata": {},
   "outputs": [
    {
     "data": {
      "text/html": [
       "<div>\n",
       "<style scoped>\n",
       "    .dataframe tbody tr th:only-of-type {\n",
       "        vertical-align: middle;\n",
       "    }\n",
       "\n",
       "    .dataframe tbody tr th {\n",
       "        vertical-align: top;\n",
       "    }\n",
       "\n",
       "    .dataframe thead th {\n",
       "        text-align: right;\n",
       "    }\n",
       "</style>\n",
       "<table border=\"1\" class=\"dataframe\">\n",
       "  <thead>\n",
       "    <tr style=\"text-align: right;\">\n",
       "      <th></th>\n",
       "      <th>Intercept</th>\n",
       "      <th>C(Size)[T.medium]</th>\n",
       "      <th>C(Size)[T.small]</th>\n",
       "      <th>Employees</th>\n",
       "    </tr>\n",
       "  </thead>\n",
       "  <tbody>\n",
       "    <tr>\n",
       "      <th>0</th>\n",
       "      <td>1.0</td>\n",
       "      <td>0.0</td>\n",
       "      <td>1.0</td>\n",
       "      <td>7523.0</td>\n",
       "    </tr>\n",
       "    <tr>\n",
       "      <th>1</th>\n",
       "      <td>1.0</td>\n",
       "      <td>0.0</td>\n",
       "      <td>0.0</td>\n",
       "      <td>40929.0</td>\n",
       "    </tr>\n",
       "    <tr>\n",
       "      <th>2</th>\n",
       "      <td>1.0</td>\n",
       "      <td>0.0</td>\n",
       "      <td>1.0</td>\n",
       "      <td>8200.0</td>\n",
       "    </tr>\n",
       "    <tr>\n",
       "      <th>3</th>\n",
       "      <td>1.0</td>\n",
       "      <td>0.0</td>\n",
       "      <td>0.0</td>\n",
       "      <td>50816.0</td>\n",
       "    </tr>\n",
       "    <tr>\n",
       "      <th>4</th>\n",
       "      <td>1.0</td>\n",
       "      <td>0.0</td>\n",
       "      <td>1.0</td>\n",
       "      <td>12068.0</td>\n",
       "    </tr>\n",
       "  </tbody>\n",
       "</table>\n",
       "</div>"
      ],
      "text/plain": [
       "   Intercept  C(Size)[T.medium]  C(Size)[T.small]  Employees\n",
       "0        1.0                0.0               1.0     7523.0\n",
       "1        1.0                0.0               0.0    40929.0\n",
       "2        1.0                0.0               1.0     8200.0\n",
       "3        1.0                0.0               0.0    50816.0\n",
       "4        1.0                0.0               1.0    12068.0"
      ]
     },
     "execution_count": 10,
     "metadata": {},
     "output_type": "execute_result"
    }
   ],
   "source": [
    "##\n",
    "## print the data used for the modeling\n",
    "## this is sometimes called the design matrix\n",
    "## notice the first column\n",
    "##\n",
    "reg01.model.data.orig_exog.head()"
   ]
  },
  {
   "cell_type": "code",
   "execution_count": 11,
   "metadata": {},
   "outputs": [
    {
     "data": {
      "text/html": [
       "<div>\n",
       "<style scoped>\n",
       "    .dataframe tbody tr th:only-of-type {\n",
       "        vertical-align: middle;\n",
       "    }\n",
       "\n",
       "    .dataframe tbody tr th {\n",
       "        vertical-align: top;\n",
       "    }\n",
       "\n",
       "    .dataframe thead th {\n",
       "        text-align: right;\n",
       "    }\n",
       "</style>\n",
       "<table border=\"1\" class=\"dataframe\">\n",
       "  <thead>\n",
       "    <tr style=\"text-align: right;\">\n",
       "      <th></th>\n",
       "      <th>C(Size)[T.medium]</th>\n",
       "      <th>C(Size)[T.small]</th>\n",
       "      <th>Employees</th>\n",
       "    </tr>\n",
       "  </thead>\n",
       "  <tbody>\n",
       "    <tr>\n",
       "      <th>C(Size)[T.medium]</th>\n",
       "      <td>1.000000</td>\n",
       "      <td>-0.529150</td>\n",
       "      <td>-0.080457</td>\n",
       "    </tr>\n",
       "    <tr>\n",
       "      <th>C(Size)[T.small]</th>\n",
       "      <td>-0.529150</td>\n",
       "      <td>1.000000</td>\n",
       "      <td>-0.443329</td>\n",
       "    </tr>\n",
       "    <tr>\n",
       "      <th>Employees</th>\n",
       "      <td>-0.080457</td>\n",
       "      <td>-0.443329</td>\n",
       "      <td>1.000000</td>\n",
       "    </tr>\n",
       "  </tbody>\n",
       "</table>\n",
       "</div>"
      ],
      "text/plain": [
       "                   C(Size)[T.medium]  C(Size)[T.small]  Employees\n",
       "C(Size)[T.medium]           1.000000         -0.529150  -0.080457\n",
       "C(Size)[T.small]           -0.529150          1.000000  -0.443329\n",
       "Employees                  -0.080457         -0.443329   1.000000"
      ]
     },
     "execution_count": 11,
     "metadata": {},
     "output_type": "execute_result"
    }
   ],
   "source": [
    "##\n",
    "## subset the design matrix to eliminate the first column of 1s\n",
    "## create the correlation matrix\n",
    "##\n",
    "x = reg01.model.data.orig_exog.iloc[ :, 1: ] \n",
    "corr_matrix = x.corr()\n",
    "corr_matrix"
   ]
  },
  {
   "cell_type": "code",
   "execution_count": 12,
   "metadata": {},
   "outputs": [
    {
     "data": {
      "text/plain": [
       "Text(0.5,1,'Heatmap of the Correlation Matrix')"
      ]
     },
     "execution_count": 12,
     "metadata": {},
     "output_type": "execute_result"
    },
    {
     "data": {
      "image/png": "[encoded data removed]",
      "text/plain": [
       "<Figure size 432x288 with 2 Axes>"
      ]
     },
     "metadata": {
      "needs_background": "light"
     },
     "output_type": "display_data"
    }
   ],
   "source": [
    "##\n",
    "## graph the correlation matrix\n",
    "##\n",
    "sns.heatmap( corr_matrix ).set_title( 'Heatmap of the Correlation Matrix' )"
   ]
  },
  {
   "cell_type": "code",
   "execution_count": 13,
   "metadata": {},
   "outputs": [
    {
     "data": {
      "text/plain": [
       "'<F test: F=array([[5.70742039]]), p=0.008336342866556596, df_denom=28, df_num=2>'"
      ]
     },
     "execution_count": 13,
     "metadata": {},
     "output_type": "execute_result"
    }
   ],
   "source": [
    "##\n",
    "## specify the joint hypothesis -- note the form\n",
    "## this tests if all the dummies are zero meaning that the dummies as a group do nothing\n",
    "##\n",
    "hypothesis = ' ( C(Size)[T.medium] = 0, C(Size)[T.small] = 0 ) '\n",
    "##\n",
    "## run and print test \n",
    "##\n",
    "f_test = reg01.f_test( hypothesis )\n",
    "f_test.summary()"
   ]
  },
  {
   "cell_type": "code",
   "execution_count": 14,
   "metadata": {},
   "outputs": [
    {
     "data": {
      "text/plain": [
       "Computer          20\n",
       "Pharmaceutical    12\n",
       "Name: Type, dtype: int64"
      ]
     },
     "execution_count": 14,
     "metadata": {},
     "output_type": "execute_result"
    }
   ],
   "source": [
    "##\n",
    "## count the values of the variable Type\n",
    "##\n",
    "df.Type.value_counts()"
   ]
  },
  {
   "cell_type": "code",
   "execution_count": 15,
   "metadata": {},
   "outputs": [
    {
     "name": "stdout",
     "output_type": "stream",
     "text": [
      "                            OLS Regression Results                            \n",
      "==============================================================================\n",
      "Dep. Variable:                  Sales   R-squared:                       0.948\n",
      "Model:                            OLS   Adj. R-squared:                  0.944\n",
      "Method:                 Least Squares   F-statistic:                     262.3\n",
      "Date:                Thu, 22 Nov 2018   Prob (F-statistic):           2.69e-19\n",
      "Time:                        09:04:14   Log-Likelihood:                -295.44\n",
      "No. Observations:                  32   AIC:                             596.9\n",
      "Df Residuals:                      29   BIC:                             601.3\n",
      "Df Model:                           2                                         \n",
      "Covariance Type:            nonrobust                                         \n",
      "=============================================================================================\n",
      "                                coef    std err          t      P>|t|      [0.025      0.975]\n",
      "---------------------------------------------------------------------------------------------\n",
      "Intercept                  -694.6790    643.782     -1.079      0.289   -2011.362     622.004\n",
      "C(Type)[T.Pharmaceutical]   236.0474    949.504      0.249      0.805   -1705.906    2178.001\n",
      "Employees                     0.1580      0.007     22.894      0.000       0.144       0.172\n",
      "==============================================================================\n",
      "Omnibus:                       42.729   Durbin-Watson:                   2.058\n",
      "Prob(Omnibus):                  0.000   Jarque-Bera (JB):              191.774\n",
      "Skew:                          -2.720   Prob(JB):                     2.27e-42\n",
      "Kurtosis:                      13.688   Cond. No.                     1.74e+05\n",
      "==============================================================================\n",
      "\n",
      "Warnings:\n",
      "[1] Standard Errors assume that the covariance matrix of the errors is correctly specified.\n",
      "[2] The condition number is large, 1.74e+05. This might indicate that there are\n",
      "strong multicollinearity or other numerical problems.\n"
     ]
    }
   ],
   "source": [
    "## \n",
    "## regression of sales on number of employees and company size\n",
    "##\n",
    "formula = 'Sales ~ Employees + C(Type)'\n",
    "mod = smf.ols( formula, data = df )\n",
    "reg02 = mod.fit()\n",
    "print( reg02.summary() )"
   ]
  },
  {
   "cell_type": "code",
   "execution_count": 16,
   "metadata": {},
   "outputs": [
    {
     "data": {
      "text/plain": [
       "'<F test: F=array([[0.06180234]]), p=0.8054217483305404, df_denom=29, df_num=1>'"
      ]
     },
     "execution_count": 16,
     "metadata": {},
     "output_type": "execute_result"
    }
   ],
   "source": [
    "##\n",
    "## specify the joint hypothesis -- note the form\n",
    "## this tests if all the dummies are zero meaning that the dummies as a group do nothing\n",
    "##\n",
    "hypothesis = ' ( C(Type)[T.Pharmaceutical] = 0 ) '\n",
    "##\n",
    "## run and print test \n",
    "##\n",
    "f_test = reg02.f_test( hypothesis )\n",
    "f_test.summary()"
   ]
  },
  {
   "cell_type": "code",
   "execution_count": null,
   "metadata": {
    "collapsed": true
   },
   "outputs": [],
   "source": []
  }
 ],
 "metadata": {
  "kernelspec": {
   "display_name": "Python 3",
   "language": "python",
   "name": "python3"
  },
  "language_info": {
   "codemirror_mode": {
    "name": "ipython",
    "version": 3
   },
   "file_extension": ".py",
   "mimetype": "text/x-python",
   "name": "python",
   "nbconvert_exporter": "python",
   "pygments_lexer": "ipython3",
   "version": "3.6.5"
  }
 },
 "nbformat": 4,
 "nbformat_minor": 2
}
