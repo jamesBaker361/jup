{
 "cells": [
  {
   "cell_type": "markdown",
   "metadata": {},
   "source": [
    "# Econometric 322 Lab \\#5: Basic OLS Modeling"
   ]
  },
  {
   "cell_type": "markdown",
   "metadata": {},
   "source": [
    "# <font color = red> Collaboration Policy </font>\n",
    "\n",
    "    1. Study groups are allowed but I expect students to understand and complete their own \n",
    "    assignments and to hand in one assignment per student.\n",
    "    2. If you worked in a group, please put the names of your study group on your assignment \n",
    "    on top.\n",
    "    3. Just like all other classes at Rutgers, the student Honor Code is taken seriously.\n",
    "    \n",
    "    The submitted assignmenst must be your work."
   ]
  },
  {
   "cell_type": "markdown",
   "metadata": {},
   "source": [
    "# <font color = red> Introduction </font>"
   ]
  },
  {
   "cell_type": "markdown",
   "metadata": {},
   "source": [
    "## <font color = blue> Purpose </font>\n",
    "\n",
    "The purpose of this lab is to introduce you to the application of the OLS methodology to an actual problem.\n",
    "\n",
    "At the end of this lab, you will be able to:\n",
    "\n",
    "1. specify a linear model for a problem;\n",
    "2. estimate a linear model in Statsmodel;\n",
    "3. interpret key statistics;\n",
    "3. identify shortcomings in the proposed linear model;\n",
    "3. summarize the regression output;\n",
    "1. estimate elasticities and judge their reasonableness;\n",
    "1. build a model portfolio."
   ]
  },
  {
   "cell_type": "markdown",
   "metadata": {},
   "source": [
    "## <font color = blue> Problem </font> \n",
    "\n",
    "A few markets are key to the health of the economy. Autos and energy are two that most people would quickly cite. The housing market is another.  Housing data can be divided into housing permits, housing starts, new home sales, and existing home sales. In addition, housing can be viewed as single family or multifamily.\n",
    "\n",
    "Existing home sales (as well as new home sales) are dependent on the future, expected state of the economy. For the future state, if there is a concern that the economy will go into a recession soon, people will be less willing to buy a new home for fear of losing their job, so housing sales will be weak or decline. But if the economy looks promising, then housing sales will be strong or increase.\n",
    "\n",
    "Another factor important for the decision to buy a new home is the current mortgage rate or yield. Usually, people get a fixed rate which means they will be paying that same rate for many years, often 30 years. In essence, the mortgage rate adds to the price of a home.\n",
    "\n",
    "In this lab, you will estimate a model to explain home sales as a function of the mortgage yield."
   ]
  },
  {
   "cell_type": "markdown",
   "metadata": {},
   "source": [
    "## <font color = blue> Assignment </font>\n",
    "\n",
    "Locate annual data for U.S. New Houses Sold and New-home Mortgage Yields. I suggest using the following:\n",
    "\n",
    "1. Economic Report of the President: 2013, \"Table B–56. New private housing units started, authorized, and completed and houses sold\".  Use the \"New houses sold\" column.\n",
    "    \n",
    "2. Economic Report of the President: 2013, \"Table B–73. Bond yields and interest rates\".  Use the \"New home mortgage yields\" column.\n"
   ]
  },
  {
   "cell_type": "markdown",
   "metadata": {},
   "source": [
    "# <font color = red> Documentation </font>"
   ]
  },
  {
   "cell_type": "markdown",
   "metadata": {},
   "source": [
    "## <font color = blue> Abstract </font>"
   ]
  },
  {
   "cell_type": "markdown",
   "metadata": {},
   "source": [
    "*Enter your Abstract in this cell*"
   ]
  },
  {
   "cell_type": "markdown",
   "metadata": {},
   "source": [
    "## <font color = blue> Data Dictionary </font>"
   ]
  },
  {
   "cell_type": "markdown",
   "metadata": {},
   "source": [
    "| Variable | Values   | Source | Mnemonic |\n",
    "|----------|----------|--------|---------|\n",
    "| New Houses Sold | Thousands of Houses | Economic Report of the President: 2013 | hsold |\n",
    "| Mortgage Yield | Basis Points (1%=100 BP) | Economic Report of the President: 2013 | myield |"
   ]
  },
  {
   "cell_type": "markdown",
   "metadata": {},
   "source": [
    "# <font color = red> Pre-lab Questions </font>\n",
    "\n",
    "Before you do any work, please think about the relationship among these macro variables. In particular, think how you would answer the following if called on in class:"
   ]
  },
  {
   "cell_type": "markdown",
   "metadata": {},
   "source": [
    "## <font color = blue> What type of data is this and why (i.e., source and domain)? </font>"
   ]
  },
  {
   "cell_type": "markdown",
   "metadata": {},
   "source": [
    "This is time-series data, because it concerns the mortgage yields and housing sales of the United States at different points in time. It is secondary data, because it is collected from another source, specifically the government Economic Report of the President: 2013."
   ]
  },
  {
   "cell_type": "markdown",
   "metadata": {},
   "source": [
    "## <font color = blue> What is the mortgage yield?  Do not tell me that it's the yield on mortgage backed securities.  Think about the problem and then answer this question. </font>"
   ]
  },
  {
   "cell_type": "markdown",
   "metadata": {},
   "source": [
    "The mortgage yield is the interest rate on a mortgage. It represents the cost of borrowing for borrowers (mostly individual consumers) and the rate of return for lenders (banks, credit unions, etc.)."
   ]
  },
  {
   "cell_type": "markdown",
   "metadata": {},
   "source": [
    "## <font color = blue> How should mortgage yields or rates affect housing?  Positively?  Negatively? Explain. </font>"
   ]
  },
  {
   "cell_type": "markdown",
   "metadata": {},
   "source": [
    "Given that the yield is essentially the cost of borrowing, a higher mortgage rate should decrease the demand for homes. People rarely pay for their houses out of pocket, almost always taking out a mortgage to do so. Ergo, a higher mortgage yield would make a new home more expensive for almost all consumers who want to buy new homes. So, the demand for new housing should be negatively affected by the mortgage yield. "
   ]
  },
  {
   "cell_type": "markdown",
   "metadata": {},
   "source": [
    "## <font color = blue> In general, how do you think the housing market has behaved over the past, say, decade?  Explain. </font>"
   ]
  },
  {
   "cell_type": "markdown",
   "metadata": {},
   "source": [
    "Writing in 2018, the past decade has seen the housing market recover from the housing bubble bursting in 2007. During the Recession that followed, high unemployment and weak consumer confidence probably hurt demand for housing. Low interest rates and government stimulus, as well as a recovering economy, following the economic crisis has helped the housing market recover in the past decade. "
   ]
  },
  {
   "cell_type": "markdown",
   "metadata": {},
   "source": [
    "## <font color = blue> Write a tentative <u>specific</u> model.  Explain your model.</font>"
   ]
  },
  {
   "cell_type": "markdown",
   "metadata": {},
   "source": [
    "*New Houses Sold* = $\\beta_0$ - $\\beta_1$ x *Mortgage Yield* + $\\epsilon$\n",
    "\n",
    "Given that the Mortgage Yield is effectively the price of borrowing to purchase a house, it is in line with conventional theory of demand to assume that the amount of new houses sold is negatively correlated with the mortgage yield. "
   ]
  },
  {
   "cell_type": "markdown",
   "metadata": {},
   "source": [
    "## <font color = blue> What is a good testable hypothesis?  Explain your testable hypothesis. </font>"
   ]
  },
  {
   "cell_type": "markdown",
   "metadata": {},
   "source": [
    "My testable Hypothesis is that as Mortgage Yields increase, New Homes Sold will decrease."
   ]
  },
  {
   "cell_type": "markdown",
   "metadata": {},
   "source": [
    "## <font color = blue> Write the statistical hypothesis to go along with your testable hypothesis.  Explain what you wrote.</font>"
   ]
  },
  {
   "cell_type": "markdown",
   "metadata": {},
   "source": [
    "$H_O$ = Null Hypothesis: The Hypothesis that the observations are purely random <br>\n",
    "$H_A$ = Alternative Hypothesis: The Hypothesis that there is some correlation between mortgage yields and new home purchases <br>\n",
    "$H_O: \\beta_1 = 0$\n",
    "\n",
    "$H_A: \\beta_1 < 0$"
   ]
  },
  {
   "cell_type": "markdown",
   "metadata": {},
   "source": [
    "# <font color = red> Tasks and Questions </font>"
   ]
  },
  {
   "cell_type": "markdown",
   "metadata": {},
   "source": [
    "## <font color = blue> Load the Pandas, Seaborn, and Statsmodels packages and give them aliases.  You will also need the Statsmodels formula API for formulas.  Please see Lesson \\#4 for examples.</font>"
   ]
  },
  {
   "cell_type": "code",
   "execution_count": 67,
   "metadata": {
    "collapsed": true
   },
   "outputs": [],
   "source": [
    "import numpy as np\n",
    "import pandas as pd\n",
    "import statsmodels.api as sm\n",
    "import statsmodels.formula.api as smf \n",
    "from statsmodels.iolib.summary2 import summary_col\n",
    "import matplotlib.pyplot as plt\n",
    "import seaborn as sns\n",
    "from statsmodels.stats.anova import anova_lm"
   ]
  },
  {
   "cell_type": "markdown",
   "metadata": {},
   "source": [
    "## <font color = blue> Import the data.  Set the row index to the years. </font>"
   ]
  },
  {
   "cell_type": "code",
   "execution_count": 125,
   "metadata": {},
   "outputs": [
    {
     "data": {
      "text/html": [
       "<div>\n",
       "<style scoped>\n",
       "    .dataframe tbody tr th:only-of-type {\n",
       "        vertical-align: middle;\n",
       "    }\n",
       "\n",
       "    .dataframe tbody tr th {\n",
       "        vertical-align: top;\n",
       "    }\n",
       "\n",
       "    .dataframe thead th {\n",
       "        text-align: right;\n",
       "    }\n",
       "</style>\n",
       "<table border=\"1\" class=\"dataframe\">\n",
       "  <thead>\n",
       "    <tr style=\"text-align: right;\">\n",
       "      <th></th>\n",
       "      <th>hsold</th>\n",
       "      <th>myield</th>\n",
       "    </tr>\n",
       "    <tr>\n",
       "      <th>Year</th>\n",
       "      <th></th>\n",
       "      <th></th>\n",
       "    </tr>\n",
       "  </thead>\n",
       "  <tbody>\n",
       "    <tr>\n",
       "      <th>1967</th>\n",
       "      <td>487.0</td>\n",
       "      <td>646.0</td>\n",
       "    </tr>\n",
       "    <tr>\n",
       "      <th>1968</th>\n",
       "      <td>490.0</td>\n",
       "      <td>697.0</td>\n",
       "    </tr>\n",
       "    <tr>\n",
       "      <th>1969</th>\n",
       "      <td>448.0</td>\n",
       "      <td>781.0</td>\n",
       "    </tr>\n",
       "    <tr>\n",
       "      <th>1970</th>\n",
       "      <td>485.0</td>\n",
       "      <td>845.0</td>\n",
       "    </tr>\n",
       "    <tr>\n",
       "      <th>1971</th>\n",
       "      <td>656.0</td>\n",
       "      <td>774.0</td>\n",
       "    </tr>\n",
       "    <tr>\n",
       "      <th>1972</th>\n",
       "      <td>718.0</td>\n",
       "      <td>760.0</td>\n",
       "    </tr>\n",
       "    <tr>\n",
       "      <th>1973</th>\n",
       "      <td>634.0</td>\n",
       "      <td>796.0</td>\n",
       "    </tr>\n",
       "    <tr>\n",
       "      <th>1974</th>\n",
       "      <td>519.0</td>\n",
       "      <td>892.0</td>\n",
       "    </tr>\n",
       "    <tr>\n",
       "      <th>1975</th>\n",
       "      <td>549.0</td>\n",
       "      <td>900.0</td>\n",
       "    </tr>\n",
       "    <tr>\n",
       "      <th>1976</th>\n",
       "      <td>646.0</td>\n",
       "      <td>900.0</td>\n",
       "    </tr>\n",
       "    <tr>\n",
       "      <th>1977</th>\n",
       "      <td>819.0</td>\n",
       "      <td>902.0</td>\n",
       "    </tr>\n",
       "    <tr>\n",
       "      <th>1978</th>\n",
       "      <td>817.0</td>\n",
       "      <td>956.0</td>\n",
       "    </tr>\n",
       "    <tr>\n",
       "      <th>1979</th>\n",
       "      <td>709.0</td>\n",
       "      <td>1078.0</td>\n",
       "    </tr>\n",
       "    <tr>\n",
       "      <th>1980</th>\n",
       "      <td>545.0</td>\n",
       "      <td>1266.0</td>\n",
       "    </tr>\n",
       "    <tr>\n",
       "      <th>1981</th>\n",
       "      <td>436.0</td>\n",
       "      <td>1470.0</td>\n",
       "    </tr>\n",
       "    <tr>\n",
       "      <th>1982</th>\n",
       "      <td>412.0</td>\n",
       "      <td>1514.0</td>\n",
       "    </tr>\n",
       "    <tr>\n",
       "      <th>1983</th>\n",
       "      <td>623.0</td>\n",
       "      <td>1257.0</td>\n",
       "    </tr>\n",
       "    <tr>\n",
       "      <th>1984</th>\n",
       "      <td>639.0</td>\n",
       "      <td>1238.0</td>\n",
       "    </tr>\n",
       "    <tr>\n",
       "      <th>1985</th>\n",
       "      <td>688.0</td>\n",
       "      <td>1155.0</td>\n",
       "    </tr>\n",
       "    <tr>\n",
       "      <th>1986</th>\n",
       "      <td>750.0</td>\n",
       "      <td>1017.0</td>\n",
       "    </tr>\n",
       "    <tr>\n",
       "      <th>1987</th>\n",
       "      <td>671.0</td>\n",
       "      <td>931.0</td>\n",
       "    </tr>\n",
       "    <tr>\n",
       "      <th>1988</th>\n",
       "      <td>676.0</td>\n",
       "      <td>919.0</td>\n",
       "    </tr>\n",
       "    <tr>\n",
       "      <th>1989</th>\n",
       "      <td>650.0</td>\n",
       "      <td>1013.0</td>\n",
       "    </tr>\n",
       "    <tr>\n",
       "      <th>1990</th>\n",
       "      <td>534.0</td>\n",
       "      <td>1005.0</td>\n",
       "    </tr>\n",
       "    <tr>\n",
       "      <th>1991</th>\n",
       "      <td>509.0</td>\n",
       "      <td>932.0</td>\n",
       "    </tr>\n",
       "    <tr>\n",
       "      <th>1992</th>\n",
       "      <td>610.0</td>\n",
       "      <td>824.0</td>\n",
       "    </tr>\n",
       "    <tr>\n",
       "      <th>1993</th>\n",
       "      <td>666.0</td>\n",
       "      <td>720.0</td>\n",
       "    </tr>\n",
       "    <tr>\n",
       "      <th>1994</th>\n",
       "      <td>670.0</td>\n",
       "      <td>749.0</td>\n",
       "    </tr>\n",
       "    <tr>\n",
       "      <th>1995</th>\n",
       "      <td>667.0</td>\n",
       "      <td>787.0</td>\n",
       "    </tr>\n",
       "    <tr>\n",
       "      <th>1996</th>\n",
       "      <td>757.0</td>\n",
       "      <td>780.0</td>\n",
       "    </tr>\n",
       "    <tr>\n",
       "      <th>1997</th>\n",
       "      <td>804.0</td>\n",
       "      <td>771.0</td>\n",
       "    </tr>\n",
       "    <tr>\n",
       "      <th>1998</th>\n",
       "      <td>886.0</td>\n",
       "      <td>707.0</td>\n",
       "    </tr>\n",
       "    <tr>\n",
       "      <th>1999</th>\n",
       "      <td>880.0</td>\n",
       "      <td>704.0</td>\n",
       "    </tr>\n",
       "    <tr>\n",
       "      <th>2000</th>\n",
       "      <td>877.0</td>\n",
       "      <td>752.0</td>\n",
       "    </tr>\n",
       "    <tr>\n",
       "      <th>2001</th>\n",
       "      <td>908.0</td>\n",
       "      <td>700.0</td>\n",
       "    </tr>\n",
       "    <tr>\n",
       "      <th>2002</th>\n",
       "      <td>973.0</td>\n",
       "      <td>643.0</td>\n",
       "    </tr>\n",
       "    <tr>\n",
       "      <th>2003</th>\n",
       "      <td>1086.0</td>\n",
       "      <td>580.0</td>\n",
       "    </tr>\n",
       "    <tr>\n",
       "      <th>2004</th>\n",
       "      <td>1203.0</td>\n",
       "      <td>577.0</td>\n",
       "    </tr>\n",
       "    <tr>\n",
       "      <th>2005</th>\n",
       "      <td>1283.0</td>\n",
       "      <td>594.0</td>\n",
       "    </tr>\n",
       "    <tr>\n",
       "      <th>2006</th>\n",
       "      <td>1051.0</td>\n",
       "      <td>663.0</td>\n",
       "    </tr>\n",
       "    <tr>\n",
       "      <th>2007</th>\n",
       "      <td>776.0</td>\n",
       "      <td>641.0</td>\n",
       "    </tr>\n",
       "    <tr>\n",
       "      <th>2008</th>\n",
       "      <td>485.0</td>\n",
       "      <td>605.0</td>\n",
       "    </tr>\n",
       "    <tr>\n",
       "      <th>2009</th>\n",
       "      <td>375.0</td>\n",
       "      <td>514.0</td>\n",
       "    </tr>\n",
       "    <tr>\n",
       "      <th>2010</th>\n",
       "      <td>323.0</td>\n",
       "      <td>480.0</td>\n",
       "    </tr>\n",
       "    <tr>\n",
       "      <th>2011</th>\n",
       "      <td>306.0</td>\n",
       "      <td>456.0</td>\n",
       "    </tr>\n",
       "  </tbody>\n",
       "</table>\n",
       "</div>"
      ],
      "text/plain": [
       "       hsold  myield\n",
       "Year                \n",
       "1967   487.0   646.0\n",
       "1968   490.0   697.0\n",
       "1969   448.0   781.0\n",
       "1970   485.0   845.0\n",
       "1971   656.0   774.0\n",
       "1972   718.0   760.0\n",
       "1973   634.0   796.0\n",
       "1974   519.0   892.0\n",
       "1975   549.0   900.0\n",
       "1976   646.0   900.0\n",
       "1977   819.0   902.0\n",
       "1978   817.0   956.0\n",
       "1979   709.0  1078.0\n",
       "1980   545.0  1266.0\n",
       "1981   436.0  1470.0\n",
       "1982   412.0  1514.0\n",
       "1983   623.0  1257.0\n",
       "1984   639.0  1238.0\n",
       "1985   688.0  1155.0\n",
       "1986   750.0  1017.0\n",
       "1987   671.0   931.0\n",
       "1988   676.0   919.0\n",
       "1989   650.0  1013.0\n",
       "1990   534.0  1005.0\n",
       "1991   509.0   932.0\n",
       "1992   610.0   824.0\n",
       "1993   666.0   720.0\n",
       "1994   670.0   749.0\n",
       "1995   667.0   787.0\n",
       "1996   757.0   780.0\n",
       "1997   804.0   771.0\n",
       "1998   886.0   707.0\n",
       "1999   880.0   704.0\n",
       "2000   877.0   752.0\n",
       "2001   908.0   700.0\n",
       "2002   973.0   643.0\n",
       "2003  1086.0   580.0\n",
       "2004  1203.0   577.0\n",
       "2005  1283.0   594.0\n",
       "2006  1051.0   663.0\n",
       "2007   776.0   641.0\n",
       "2008   485.0   605.0\n",
       "2009   375.0   514.0\n",
       "2010   323.0   480.0\n",
       "2011   306.0   456.0"
      ]
     },
     "execution_count": 125,
     "metadata": {},
     "output_type": "execute_result"
    }
   ],
   "source": [
    "##\n",
    "## Enter the code here\n",
    "##\n",
    "tab56=pd.read_csv(\"table56.csv\")\n",
    "tab73=pd.read_csv(\"table73.csv\")\n",
    "df=pd.merge(tab56,tab73,how=\"inner\")\n",
    "df[\"hsold\"]=df[\"hsold\"]*1.0\n",
    "df[\"myield\"]=df[\"myield\"]*100.0\n",
    "df.set_index(\"Year\")"
   ]
  },
  {
   "cell_type": "markdown",
   "metadata": {},
   "source": [
    "## <font color = blue> Print the first five (5) records. </font>"
   ]
  },
  {
   "cell_type": "code",
   "execution_count": 126,
   "metadata": {},
   "outputs": [
    {
     "data": {
      "text/html": [
       "<div>\n",
       "<style scoped>\n",
       "    .dataframe tbody tr th:only-of-type {\n",
       "        vertical-align: middle;\n",
       "    }\n",
       "\n",
       "    .dataframe tbody tr th {\n",
       "        vertical-align: top;\n",
       "    }\n",
       "\n",
       "    .dataframe thead th {\n",
       "        text-align: right;\n",
       "    }\n",
       "</style>\n",
       "<table border=\"1\" class=\"dataframe\">\n",
       "  <thead>\n",
       "    <tr style=\"text-align: right;\">\n",
       "      <th></th>\n",
       "      <th>Year</th>\n",
       "      <th>hsold</th>\n",
       "      <th>myield</th>\n",
       "    </tr>\n",
       "  </thead>\n",
       "  <tbody>\n",
       "    <tr>\n",
       "      <th>0</th>\n",
       "      <td>1967</td>\n",
       "      <td>487.0</td>\n",
       "      <td>646.0</td>\n",
       "    </tr>\n",
       "    <tr>\n",
       "      <th>1</th>\n",
       "      <td>1968</td>\n",
       "      <td>490.0</td>\n",
       "      <td>697.0</td>\n",
       "    </tr>\n",
       "    <tr>\n",
       "      <th>2</th>\n",
       "      <td>1969</td>\n",
       "      <td>448.0</td>\n",
       "      <td>781.0</td>\n",
       "    </tr>\n",
       "    <tr>\n",
       "      <th>3</th>\n",
       "      <td>1970</td>\n",
       "      <td>485.0</td>\n",
       "      <td>845.0</td>\n",
       "    </tr>\n",
       "    <tr>\n",
       "      <th>4</th>\n",
       "      <td>1971</td>\n",
       "      <td>656.0</td>\n",
       "      <td>774.0</td>\n",
       "    </tr>\n",
       "  </tbody>\n",
       "</table>\n",
       "</div>"
      ],
      "text/plain": [
       "   Year  hsold  myield\n",
       "0  1967  487.0   646.0\n",
       "1  1968  490.0   697.0\n",
       "2  1969  448.0   781.0\n",
       "3  1970  485.0   845.0\n",
       "4  1971  656.0   774.0"
      ]
     },
     "execution_count": 126,
     "metadata": {},
     "output_type": "execute_result"
    }
   ],
   "source": [
    "##\n",
    "## Enter the code here\n",
    "##\n",
    "df.head()"
   ]
  },
  {
   "cell_type": "markdown",
   "metadata": {},
   "source": [
    "## <font color = blue> Graph the data </font>"
   ]
  },
  {
   "cell_type": "code",
   "execution_count": 127,
   "metadata": {},
   "outputs": [
    {
     "data": {
      "text/plain": [
       "[Text(0,0.5,'New Houses Purchases (in thousands)'),\n",
       " Text(0.5,0,'Mortgage Yield (in basis points)'),\n",
       " Text(0.5,1,'Yield vs. New Home Purchases')]"
      ]
     },
     "execution_count": 127,
     "metadata": {},
     "output_type": "execute_result"
    },
    {
     "data": {
      "image/png": "[encoded data removed]",
      "text/plain": [
       "<Figure size 432x288 with 1 Axes>"
      ]
     },
     "metadata": {},
     "output_type": "display_data"
    }
   ],
   "source": [
    "ax = df.plot( x = 'myield', y = 'hsold', legend = False, kind = 'scatter' )\n",
    "ax.set( xlabel = 'Mortgage Yield (in basis points)', ylabel = 'New Houses Purchases (in thousands)', title = 'Yield vs. New Home Purchases' )"
   ]
  },
  {
   "cell_type": "code",
   "execution_count": 128,
   "metadata": {},
   "outputs": [
    {
     "data": {
      "text/plain": [
       "[Text(0,0.5,'New Houses Purchases (in thousands)'),\n",
       " Text(0.5,0,'Year'),\n",
       " Text(0.5,1,'New Home Purchases 1967-2011')]"
      ]
     },
     "execution_count": 128,
     "metadata": {},
     "output_type": "execute_result"
    },
    {
     "data": {
      "image/png": "[encoded data removed]",
      "text/plain": [
       "<Figure size 432x288 with 1 Axes>"
      ]
     },
     "metadata": {},
     "output_type": "display_data"
    }
   ],
   "source": [
    "ax = df.plot( x = 'Year', y = 'hsold', legend = False, kind = 'line')\n",
    "ax.set( xlabel = 'Year', ylabel = 'New Houses Purchases (in thousands)', title = 'New Home Purchases 1967-2011' )"
   ]
  },
  {
   "cell_type": "code",
   "execution_count": 129,
   "metadata": {},
   "outputs": [
    {
     "data": {
      "text/plain": [
       "[Text(0,0.5,'Mortgage Yield (in basis points)'),\n",
       " Text(0.5,0,'Year'),\n",
       " Text(0.5,1,'Mortgage Yields 1967-2011')]"
      ]
     },
     "execution_count": 129,
     "metadata": {},
     "output_type": "execute_result"
    },
    {
     "data": {
      "image/png": "[encoded data removed]",
      "text/plain": [
       "<Figure size 432x288 with 1 Axes>"
      ]
     },
     "metadata": {},
     "output_type": "display_data"
    }
   ],
   "source": [
    "ax = df.plot( x = 'Year', y = 'myield', legend = False, kind = 'line')\n",
    "ax.set( xlabel = 'Year', ylabel = 'Mortgage Yield (in basis points)', title = 'Mortgage Yields 1967-2011' )"
   ]
  },
  {
   "cell_type": "markdown",
   "metadata": {},
   "source": [
    "## <font color = blue> When we build a regression model, we say we regress the dependent variable on the independent variable(s). For this lab, you will regress sales on yield.  Estimate an OLS model using sales as the dependent variable and yield as the independent variable.  Display the summary report.  See Lesson \\#4 for an example.</font>"
   ]
  },
  {
   "cell_type": "code",
   "execution_count": 130,
   "metadata": {},
   "outputs": [
    {
     "data": {
      "text/html": [
       "<table class=\"simpletable\">\n",
       "<caption>OLS Regression Results</caption>\n",
       "<tr>\n",
       "  <th>Dep. Variable:</th>          <td>hsold</td>      <th>  R-squared:         </th> <td>   0.067</td>\n",
       "</tr>\n",
       "<tr>\n",
       "  <th>Model:</th>                   <td>OLS</td>       <th>  Adj. R-squared:    </th> <td>   0.045</td>\n",
       "</tr>\n",
       "<tr>\n",
       "  <th>Method:</th>             <td>Least Squares</td>  <th>  F-statistic:       </th> <td>   3.087</td>\n",
       "</tr>\n",
       "<tr>\n",
       "  <th>Date:</th>             <td>Tue, 06 Nov 2018</td> <th>  Prob (F-statistic):</th>  <td>0.0860</td> \n",
       "</tr>\n",
       "<tr>\n",
       "  <th>Time:</th>                 <td>23:51:00</td>     <th>  Log-Likelihood:    </th> <td> -304.15</td>\n",
       "</tr>\n",
       "<tr>\n",
       "  <th>No. Observations:</th>      <td>    45</td>      <th>  AIC:               </th> <td>   612.3</td>\n",
       "</tr>\n",
       "<tr>\n",
       "  <th>Df Residuals:</th>          <td>    43</td>      <th>  BIC:               </th> <td>   615.9</td>\n",
       "</tr>\n",
       "<tr>\n",
       "  <th>Df Model:</th>              <td>     1</td>      <th>                     </th>     <td> </td>   \n",
       "</tr>\n",
       "<tr>\n",
       "  <th>Covariance Type:</th>      <td>nonrobust</td>    <th>                     </th>     <td> </td>   \n",
       "</tr>\n",
       "</table>\n",
       "<table class=\"simpletable\">\n",
       "<tr>\n",
       "      <td></td>         <th>coef</th>     <th>std err</th>      <th>t</th>      <th>P>|t|</th>  <th>[0.025</th>    <th>0.975]</th>  \n",
       "</tr>\n",
       "<tr>\n",
       "  <th>Intercept</th> <td>  878.6941</td> <td>  116.301</td> <td>    7.555</td> <td> 0.000</td> <td>  644.151</td> <td> 1113.238</td>\n",
       "</tr>\n",
       "<tr>\n",
       "  <th>myield</th>    <td>   -0.2334</td> <td>    0.133</td> <td>   -1.757</td> <td> 0.086</td> <td>   -0.501</td> <td>    0.034</td>\n",
       "</tr>\n",
       "</table>\n",
       "<table class=\"simpletable\">\n",
       "<tr>\n",
       "  <th>Omnibus:</th>       <td> 1.214</td> <th>  Durbin-Watson:     </th> <td>   0.231</td>\n",
       "</tr>\n",
       "<tr>\n",
       "  <th>Prob(Omnibus):</th> <td> 0.545</td> <th>  Jarque-Bera (JB):  </th> <td>   0.471</td>\n",
       "</tr>\n",
       "<tr>\n",
       "  <th>Skew:</th>          <td> 0.140</td> <th>  Prob(JB):          </th> <td>   0.790</td>\n",
       "</tr>\n",
       "<tr>\n",
       "  <th>Kurtosis:</th>      <td> 3.415</td> <th>  Cond. No.          </th> <td>3.20e+03</td>\n",
       "</tr>\n",
       "</table><br/><br/>Warnings:<br/>[1] Standard Errors assume that the covariance matrix of the errors is correctly specified.<br/>[2] The condition number is large, 3.2e+03. This might indicate that there are<br/>strong multicollinearity or other numerical problems."
      ],
      "text/plain": [
       "<class 'statsmodels.iolib.summary.Summary'>\n",
       "\"\"\"\n",
       "                            OLS Regression Results                            \n",
       "==============================================================================\n",
       "Dep. Variable:                  hsold   R-squared:                       0.067\n",
       "Model:                            OLS   Adj. R-squared:                  0.045\n",
       "Method:                 Least Squares   F-statistic:                     3.087\n",
       "Date:                Tue, 06 Nov 2018   Prob (F-statistic):             0.0860\n",
       "Time:                        23:51:00   Log-Likelihood:                -304.15\n",
       "No. Observations:                  45   AIC:                             612.3\n",
       "Df Residuals:                      43   BIC:                             615.9\n",
       "Df Model:                           1                                         \n",
       "Covariance Type:            nonrobust                                         \n",
       "==============================================================================\n",
       "                 coef    std err          t      P>|t|      [0.025      0.975]\n",
       "------------------------------------------------------------------------------\n",
       "Intercept    878.6941    116.301      7.555      0.000     644.151    1113.238\n",
       "myield        -0.2334      0.133     -1.757      0.086      -0.501       0.034\n",
       "==============================================================================\n",
       "Omnibus:                        1.214   Durbin-Watson:                   0.231\n",
       "Prob(Omnibus):                  0.545   Jarque-Bera (JB):                0.471\n",
       "Skew:                           0.140   Prob(JB):                        0.790\n",
       "Kurtosis:                       3.415   Cond. No.                     3.20e+03\n",
       "==============================================================================\n",
       "\n",
       "Warnings:\n",
       "[1] Standard Errors assume that the covariance matrix of the errors is correctly specified.\n",
       "[2] The condition number is large, 3.2e+03. This might indicate that there are\n",
       "strong multicollinearity or other numerical problems.\n",
       "\"\"\""
      ]
     },
     "execution_count": 130,
     "metadata": {},
     "output_type": "execute_result"
    }
   ],
   "source": [
    "formula = \"hsold~myield\"\n",
    "mod = smf.ols( formula, data = df )\n",
    "reg01 = mod.fit()\n",
    "reg01.summary()"
   ]
  },
  {
   "cell_type": "markdown",
   "metadata": {},
   "source": [
    "## <font color = blue> Retrieve and display the estimated parameters.  See Lesson \\#4 for an example.</font>"
   ]
  },
  {
   "cell_type": "code",
   "execution_count": 131,
   "metadata": {},
   "outputs": [
    {
     "data": {
      "text/plain": [
       "Intercept    878.694101\n",
       "myield        -0.233439\n",
       "dtype: float64"
      ]
     },
     "execution_count": 131,
     "metadata": {},
     "output_type": "execute_result"
    }
   ],
   "source": [
    "reg01.params"
   ]
  },
  {
   "cell_type": "markdown",
   "metadata": {},
   "source": [
    "## <font color = blue> Estimate a yield elasticity.  See Lesson \\#4 for an example.</font>"
   ]
  },
  {
   "cell_type": "code",
   "execution_count": 132,
   "metadata": {},
   "outputs": [
    {
     "name": "stdout",
     "output_type": "stream",
     "text": [
      "-0.2881559338784486\n"
     ]
    }
   ],
   "source": [
    "dYdX = reg01.params[ 1 ]\n",
    "eta = dYdX * ( df.myield.mean()/df.hsold.mean() )\n",
    "print(eta)"
   ]
  },
  {
   "cell_type": "markdown",
   "metadata": {},
   "source": [
    "## <font color = blue> Build a Model Portfolio.  See Lesson \\#4 for an example.</font>"
   ]
  },
  {
   "cell_type": "code",
   "execution_count": 133,
   "metadata": {},
   "outputs": [
    {
     "data": {
      "text/html": [
       "<table class=\"simpletable\">\n",
       "<tr>\n",
       "      <td></td>         <th>hsold</th>   \n",
       "</tr>\n",
       "<tr>\n",
       "  <th>Intercept</th> <td>878.6941***</td>\n",
       "</tr>\n",
       "<tr>\n",
       "  <th></th>          <td>(116.3011)</td> \n",
       "</tr>\n",
       "<tr>\n",
       "  <th>myield</th>     <td>-0.2334*</td>  \n",
       "</tr>\n",
       "<tr>\n",
       "  <th></th>           <td>(0.1329)</td>  \n",
       "</tr>\n",
       "<tr>\n",
       "  <th>n</th>             <td>45</td>     \n",
       "</tr>\n",
       "<tr>\n",
       "  <th>R2</th>           <td>0.067</td>   \n",
       "</tr>\n",
       "</table>"
      ],
      "text/plain": [
       "<class 'statsmodels.iolib.summary2.Summary'>\n",
       "\"\"\"\n",
       "\n",
       "=====================\n",
       "             hsold   \n",
       "---------------------\n",
       "Intercept 878.6941***\n",
       "          (116.3011) \n",
       "myield    -0.2334*   \n",
       "          (0.1329)   \n",
       "n         45         \n",
       "R2        0.067      \n",
       "=====================\n",
       "Standard errors in\n",
       "parentheses.\n",
       "* p<.1, ** p<.05,\n",
       "***p<.01\n",
       "\"\"\""
      ]
     },
     "execution_count": 133,
     "metadata": {},
     "output_type": "execute_result"
    }
   ],
   "source": [
    "summary_col( [ reg01], stars = True, \n",
    "           info_dict = {'n': lambda x: \"{0:d}\".format( int( x.nobs )),\n",
    "                        'R2': lambda x: \"{:0.3f}\".format( x.rsquared ),\n",
    "})"
   ]
  },
  {
   "cell_type": "markdown",
   "metadata": {},
   "source": [
    "## Goodness Of Fit"
   ]
  },
  {
   "cell_type": "markdown",
   "metadata": {},
   "source": [
    "$H_0$ : Naive (Restricted) Model is Better; i.e., $\\beta_1 = 0 $ <br>\n",
    "$H_A$ : Sophisticated (Unrestricted) Model is Better; i.e., $ \\beta_1 \\ne $ 0 "
   ]
  },
  {
   "cell_type": "code",
   "execution_count": 134,
   "metadata": {},
   "outputs": [
    {
     "data": {
      "text/html": [
       "<div>\n",
       "<style scoped>\n",
       "    .dataframe tbody tr th:only-of-type {\n",
       "        vertical-align: middle;\n",
       "    }\n",
       "\n",
       "    .dataframe tbody tr th {\n",
       "        vertical-align: top;\n",
       "    }\n",
       "\n",
       "    .dataframe thead th {\n",
       "        text-align: right;\n",
       "    }\n",
       "</style>\n",
       "<table border=\"1\" class=\"dataframe\">\n",
       "  <thead>\n",
       "    <tr style=\"text-align: right;\">\n",
       "      <th></th>\n",
       "      <th>df</th>\n",
       "      <th>sum_sq</th>\n",
       "      <th>mean_sq</th>\n",
       "      <th>F</th>\n",
       "      <th>PR(&gt;F)</th>\n",
       "    </tr>\n",
       "  </thead>\n",
       "  <tbody>\n",
       "    <tr>\n",
       "      <th>myield</th>\n",
       "      <td>1.0</td>\n",
       "      <td>1.404196e+05</td>\n",
       "      <td>140419.617721</td>\n",
       "      <td>3.087146</td>\n",
       "      <td>0.086032</td>\n",
       "    </tr>\n",
       "    <tr>\n",
       "      <th>Residual</th>\n",
       "      <td>43.0</td>\n",
       "      <td>1.955866e+06</td>\n",
       "      <td>45485.246100</td>\n",
       "      <td>NaN</td>\n",
       "      <td>NaN</td>\n",
       "    </tr>\n",
       "  </tbody>\n",
       "</table>\n",
       "</div>"
      ],
      "text/plain": [
       "            df        sum_sq        mean_sq         F    PR(>F)\n",
       "myield     1.0  1.404196e+05  140419.617721  3.087146  0.086032\n",
       "Residual  43.0  1.955866e+06   45485.246100       NaN       NaN"
      ]
     },
     "execution_count": 134,
     "metadata": {},
     "output_type": "execute_result"
    }
   ],
   "source": [
    "anova_lm( reg01 )"
   ]
  },
  {
   "cell_type": "code",
   "execution_count": 135,
   "metadata": {},
   "outputs": [
    {
     "name": "stdout",
     "output_type": "stream",
     "text": [
      "<F test: F=array([[3.08714649]]), p=0.08603191128327091, df_denom=43, df_num=1>\n"
     ]
    }
   ],
   "source": [
    "hypothesis = '(myield = 0)'\n",
    "f_test = reg01.f_test(hypothesis)\n",
    "print(f_test)"
   ]
  },
  {
   "cell_type": "markdown",
   "metadata": {},
   "source": [
    "Since PR(>F) = .086 > $\\alpha$ = .05, we fail to reject the Null Hypothesis that the naive model is better than the sophisticated model for estimating housing sales."
   ]
  },
  {
   "cell_type": "markdown",
   "metadata": {},
   "source": [
    "# <font color = red> Post-lab Questions </font>"
   ]
  },
  {
   "cell_type": "markdown",
   "metadata": {},
   "source": [
    "## <font color = blue>  What is the relationship between home sales and mortgage yields? Is this the relationship you expected?  Plot the data as part of your analysis.</font>"
   ]
  },
  {
   "cell_type": "code",
   "execution_count": 54,
   "metadata": {},
   "outputs": [
    {
     "data": {
      "text/plain": [
       "<seaborn.axisgrid.FacetGrid at 0x1c20f314a8>"
      ]
     },
     "execution_count": 54,
     "metadata": {},
     "output_type": "execute_result"
    },
    {
     "data": {
      "image/png": "[encoded data removed]",
      "text/plain": [
       "<Figure size 360x360 with 1 Axes>"
      ]
     },
     "metadata": {},
     "output_type": "display_data"
    }
   ],
   "source": [
    "sns.lmplot(x='myield',y='hsold',data=df,fit_reg=True)"
   ]
  },
  {
   "cell_type": "markdown",
   "metadata": {},
   "source": [
    "Home sales and mortgage yields are weakly negatively correlated. This is what I expected, as rising rates would deter would-be homeowners."
   ]
  },
  {
   "cell_type": "markdown",
   "metadata": {},
   "source": [
    "## <font color = blue> Test your statistical hypothesis about the effect of mortgage rates on new home sales.   What do you conclude?</font>"
   ]
  },
  {
   "cell_type": "markdown",
   "metadata": {},
   "source": [
    "The *p*-value=0.086/2=.043 < $\\alpha$ = .05. So we reject the Null Hypothesis that Mortgage Yields have no effect on Housing Sales."
   ]
  },
  {
   "cell_type": "markdown",
   "metadata": {},
   "source": [
    "## <font color = blue> Interpret the $R^{2}$ from the regression output. What does it say about your model? </font>"
   ]
  },
  {
   "cell_type": "markdown",
   "metadata": {},
   "source": [
    "The $R^2$ = 0.067. This means that 6.7% of the variation in Housing Sales can be explained by variation in Mortgage Yields. This does not imply an amazing model. However, macroeconomic data may have "
   ]
  },
  {
   "cell_type": "markdown",
   "metadata": {},
   "source": [
    "## <font color = blue> How can you make the model better?  What additional variables can you think of that should be included? Defend your answer.</font>"
   ]
  },
  {
   "cell_type": "markdown",
   "metadata": {},
   "source": [
    "Answer"
   ]
  },
  {
   "cell_type": "markdown",
   "metadata": {},
   "source": [
    "## <font color = blue> Interpret the F-statistic from the regression output.  What hypothesis does it test?  What do you conclude about your model based on the F-statistic?  </font>"
   ]
  },
  {
   "cell_type": "markdown",
   "metadata": {},
   "source": [
    "Answer"
   ]
  },
  {
   "cell_type": "markdown",
   "metadata": {},
   "source": [
    "## <font color = blue> Are existing home sales elastic or inelastic with respect to the mortgage yield?  Does this make sense?  Is it what you expect? Defend your answer.  Suppose there is a 1\\% increase in mortgage rates. How much do home sales change in percentage terms? </font>"
   ]
  },
  {
   "cell_type": "markdown",
   "metadata": {},
   "source": [
    "Answer"
   ]
  },
  {
   "cell_type": "markdown",
   "metadata": {},
   "source": [
    "## <font color = blue> What is the practical significance of your model? In other words, what can this be used for, it for anything at all? How would you answer the question: \"<i>So what?</i>\" Defend your answer. </font>"
   ]
  },
  {
   "cell_type": "markdown",
   "metadata": {},
   "source": [
    "Answer"
   ]
  }
 ],
 "metadata": {
  "kernelspec": {
   "display_name": "Python 3",
   "language": "python",
   "name": "python3"
  },
  "language_info": {
   "codemirror_mode": {
    "name": "ipython",
    "version": 3
   },
   "file_extension": ".py",
   "mimetype": "text/x-python",
   "name": "python",
   "nbconvert_exporter": "python",
   "pygments_lexer": "ipython3",
   "version": "3.6.5"
  }
 },
 "nbformat": 4,
 "nbformat_minor": 2
}
