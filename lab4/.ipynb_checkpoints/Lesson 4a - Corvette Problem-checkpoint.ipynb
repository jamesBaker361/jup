{
 "cells": [
  {
   "cell_type": "markdown",
   "metadata": {},
   "source": [
    "# <font color = blue>Lesson \\#4: Basic OLS: The Corvette Problem</font>"
   ]
  },
  {
   "cell_type": "markdown",
   "metadata": {},
   "source": [
    "# Data Dictionary"
   ]
  },
  {
   "cell_type": "markdown",
   "metadata": {},
   "source": [
    "| Variable | Values   | Source | Mnemonic |\n",
    "|----------|----------|--------|---------|\n",
    "| Age | Years | Kelley's Blue Book, various issues | age |\n",
    "| Price | Nominal dollars | IBID. | price |\n"
   ]
  },
  {
   "cell_type": "markdown",
   "metadata": {},
   "source": [
    "# Basic Data Loading and Examination"
   ]
  },
  {
   "cell_type": "code",
   "execution_count": null,
   "metadata": {
    "collapsed": true
   },
   "outputs": [],
   "source": [
    "##\n",
    "## import packages\n",
    "##\n",
    "import numpy as np\n",
    "import pandas as pd\n",
    "##\n",
    "## for modeling\n",
    "## notice the new import command for the formula API and the summary option\n",
    "##\n",
    "import statsmodels.api as sm\n",
    "import statsmodels.formula.api as smf \n",
    "from statsmodels.iolib.summary2 import summary_col\n",
    "##\n",
    "## for plotting\n",
    "##\n",
    "import matplotlib.pyplot as plt\n",
    "import seaborn as sns"
   ]
  },
  {
   "cell_type": "code",
   "execution_count": null,
   "metadata": {
    "collapsed": true
   },
   "outputs": [],
   "source": [
    "##\n",
    "## import corvette data from a csv file\n",
    "## notice the definition of a path variable\n",
    "##\n",
    "path = r'C:/Users/Owner/Documents/Teaching/Rutgers/ECMT322/labs/Data/'\n",
    "df = pd.read_csv( path + 'corvettes.csv' )\n",
    "df.head()"
   ]
  },
  {
   "cell_type": "code",
   "execution_count": null,
   "metadata": {
    "collapsed": true
   },
   "outputs": [],
   "source": [
    "##\n",
    "## get basic descriptive statistics\n",
    "##\n",
    "df.describe().T"
   ]
  },
  {
   "cell_type": "code",
   "execution_count": null,
   "metadata": {
    "collapsed": true
   },
   "outputs": [],
   "source": [
    "## \n",
    "## scatter plot\n",
    "##\n",
    "## notice the new plotting option \"kind = 'scatter'\"\n",
    "##\n",
    "ax = df.plot( x = 'age', y = 'price', legend = False, kind = 'scatter' )\n",
    "##\n",
    "## set labels and title\n",
    "##\n",
    "ax.set( xlabel = 'Age', ylabel = 'Price', title = 'Price vs. Age' )"
   ]
  },
  {
   "cell_type": "markdown",
   "metadata": {},
   "source": [
    "## Basic OLS"
   ]
  },
  {
   "cell_type": "code",
   "execution_count": null,
   "metadata": {
    "collapsed": true
   },
   "outputs": [],
   "source": [
    "## \n",
    "## ols\n",
    "##\n",
    "## there are four steps for estimatng a model:\n",
    "##   1. define a formula (i.e., the specific model to estimate)\n",
    "##   2. instantiate the model (i.e., specify it)\n",
    "##   3. fit the model\n",
    "##   4. summarize the fitted model\n",
    "##\n",
    "## Step 1: define a formula\n",
    "##\n",
    "formula = 'price ~ age'\n",
    "##\n",
    "## Step 2: instantiate the ols model\n",
    "##\n",
    "mod = smf.ols( formula, data = df )\n",
    "##\n",
    "## Step 3: fit the instantiated model\n",
    "##\n",
    "reg01 = mod.fit()\n",
    "##\n",
    "## Step 4: summarize the fitted model\n",
    "##\n",
    "reg01.summary()"
   ]
  },
  {
   "cell_type": "markdown",
   "metadata": {},
   "source": [
    "## Retrieving/Printing Key OLS Results"
   ]
  },
  {
   "cell_type": "code",
   "execution_count": null,
   "metadata": {
    "collapsed": true
   },
   "outputs": [],
   "source": [
    "##\n",
    "## retrieve the estimated parameters\n",
    "##\n",
    "reg01.params"
   ]
  },
  {
   "cell_type": "code",
   "execution_count": null,
   "metadata": {
    "collapsed": true
   },
   "outputs": [],
   "source": [
    "##\n",
    "## retrieve the sum of squares residuals or SSE\n",
    "## NOTE: 'ssr' stands for 'sum of sqaured residuals' in this program but I'll call it sse\n",
    "##\n",
    "sse = reg01.ssr\n",
    "sse"
   ]
  },
  {
   "cell_type": "code",
   "execution_count": null,
   "metadata": {
    "collapsed": true
   },
   "outputs": [],
   "source": [
    "##\n",
    "## alternatively, you could calculate the sse directly\n",
    "## notice the Round( ) function\n",
    "##\n",
    "residuals_squared = reg01.resid**2\n",
    "round( residuals_squared.sum(), 2 )"
   ]
  },
  {
   "cell_type": "code",
   "execution_count": null,
   "metadata": {
    "collapsed": true
   },
   "outputs": [],
   "source": [
    "##\n",
    "## calculate the standard error of the regression\n",
    "##\n",
    "se_reg = np.sqrt( sse/( reg01.nobs - 2 ) )\n",
    "round( se_reg, 2 )"
   ]
  },
  {
   "cell_type": "code",
   "execution_count": null,
   "metadata": {
    "collapsed": true
   },
   "outputs": [],
   "source": [
    "## \n",
    "## calculate SXX\n",
    "##\n",
    "sxx = ( ( df.age - df.age.mean() ) **2 ).sum()\n",
    "print( sxx )\n",
    "## \n",
    "## alternativesly\n",
    "##\n",
    "sxx_alt = df.age.var() * 9\n",
    "round( sxx_alt, 2 )"
   ]
  },
  {
   "cell_type": "code",
   "execution_count": null,
   "metadata": {
    "collapsed": true
   },
   "outputs": [],
   "source": [
    "##\n",
    "## calculate standard error of the beta 1 estimate\n",
    "##\n",
    "se_beta_1 = se_reg/np.sqrt( sxx )\n",
    "se_beta_1\n",
    "##\n",
    "## this agrees with the table output\n",
    "##"
   ]
  },
  {
   "cell_type": "code",
   "execution_count": null,
   "metadata": {
    "collapsed": true
   },
   "outputs": [],
   "source": [
    "##\n",
    "## check that sum of residuals is zero\n",
    "##\n",
    "round( reg01.resid.sum(), 4 )"
   ]
  },
  {
   "cell_type": "markdown",
   "metadata": {},
   "source": [
    "# Stat 101 Digression"
   ]
  },
  {
   "cell_type": "code",
   "execution_count": null,
   "metadata": {
    "collapsed": true
   },
   "outputs": [],
   "source": [
    "##\n",
    "## define a formula with only a constant\n",
    "##\n",
    "formula = 'price ~ 1'\n",
    "##\n",
    "## instantiate the ols model\n",
    "##\n",
    "mod02 = smf.ols( formula, data = df )\n",
    "##\n",
    "## fit the instantiated model\n",
    "##\n",
    "reg02 = mod02.fit()\n",
    "##\n",
    "## summarize the fitted model\n",
    "##\n",
    "reg02.summary()"
   ]
  },
  {
   "cell_type": "code",
   "execution_count": null,
   "metadata": {
    "collapsed": true
   },
   "outputs": [],
   "source": [
    "##\n",
    "## double check the descriptives\n",
    "##\n",
    "df.describe().T"
   ]
  },
  {
   "cell_type": "markdown",
   "metadata": {},
   "source": [
    "## Calculating an Elasticity"
   ]
  },
  {
   "cell_type": "code",
   "execution_count": null,
   "metadata": {
    "collapsed": true,
    "scrolled": true
   },
   "outputs": [],
   "source": [
    "##\n",
    "## retrieve the estimated parameter\n",
    "##\n",
    "dYdX = reg01.params[ 1 ]\n",
    "##\n",
    "## multiple the parameter estimate by the ration of the means\n",
    "##\n",
    "eta = dYdX * ( df.age.mean()/df.price.mean() )\n",
    "print( 'eta = ', round( eta, 4 ) )"
   ]
  },
  {
   "cell_type": "markdown",
   "metadata": {},
   "source": [
    "### Elasticity Summary Table for Linear Model"
   ]
  },
  {
   "cell_type": "markdown",
   "metadata": {},
   "source": [
    "| Variable | Estimate | Mean   | Elasticity | Interpretation |\n",
    "|----------|----------|--------|------------|----------------|\n",
    "| Age      | -27.9029 | 4.10   | -0.4448    | Inelastic      |"
   ]
  },
  {
   "cell_type": "markdown",
   "metadata": {},
   "source": [
    "## Goodness-of-Fit"
   ]
  },
  {
   "cell_type": "code",
   "execution_count": null,
   "metadata": {
    "collapsed": true,
    "scrolled": true
   },
   "outputs": [],
   "source": [
    "##\n",
    "## ANOVA table\n",
    "##\n",
    "## import the anova functions\n",
    "##\n",
    "from statsmodels.stats.anova import anova_lm\n",
    "##\n",
    "## run anova for first model\n",
    "##\n",
    "anova_lm( reg01 )"
   ]
  },
  {
   "cell_type": "code",
   "execution_count": null,
   "metadata": {
    "collapsed": true,
    "scrolled": true
   },
   "outputs": [],
   "source": [
    "##\n",
    "## anova for the constant-only model\n",
    "##\n",
    "anova_lm(reg02)"
   ]
  },
  {
   "cell_type": "code",
   "execution_count": null,
   "metadata": {
    "collapsed": true
   },
   "outputs": [],
   "source": [
    "##\n",
    "## do f-test of regression model with age vs model without age (constant-only or naive or restricted model)\n",
    "##\n",
    "f_val, p_val, _ = reg01.compare_f_test(reg02)\n",
    "##\n",
    "## print results\n",
    "##\n",
    "print( 'F = ', round( f_val, 2 ), '\\np-Value = ', round( p_val, 4 ), '\\nTest: ', p_val < 0.01 )"
   ]
  },
  {
   "cell_type": "code",
   "execution_count": null,
   "metadata": {
    "collapsed": true
   },
   "outputs": [],
   "source": [
    "##\n",
    "## check the R**2\n",
    "##\n",
    "round( reg01.rsquared, 3 )"
   ]
  },
  {
   "cell_type": "markdown",
   "metadata": {},
   "source": [
    "## Model Portfolio"
   ]
  },
  {
   "cell_type": "code",
   "execution_count": null,
   "metadata": {
    "collapsed": true
   },
   "outputs": [],
   "source": [
    "##\n",
    "## create summary table\n",
    "## notice formatting statements\n",
    "##\n",
    "summary_col( [ reg01, reg02 ], stars = True, \n",
    "           info_dict = {'n': lambda x: \"{0:d}\".format( int( x.nobs )),\n",
    "                        'R2': lambda x: \"{:0.3f}\".format( x.rsquared ),\n",
    "})"
   ]
  },
  {
   "cell_type": "code",
   "execution_count": null,
   "metadata": {
    "collapsed": true
   },
   "outputs": [],
   "source": []
  }
 ],
 "metadata": {
  "kernelspec": {
   "display_name": "Python 3",
   "language": "python",
   "name": "python3"
  },
  "language_info": {
   "codemirror_mode": {
    "name": "ipython",
    "version": 3
   },
   "file_extension": ".py",
   "mimetype": "text/x-python",
   "name": "python",
   "nbconvert_exporter": "python",
   "pygments_lexer": "ipython3",
   "version": "3.6.5"
  }
 },
 "nbformat": 4,
 "nbformat_minor": 2
}
