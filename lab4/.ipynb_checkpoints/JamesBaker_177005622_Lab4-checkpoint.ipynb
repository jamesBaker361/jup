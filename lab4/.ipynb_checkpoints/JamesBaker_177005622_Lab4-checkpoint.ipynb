{
 "cells": [
  {
   "cell_type": "markdown",
   "metadata": {},
   "source": [
    "# Econometric 322 Lab \\#4"
   ]
  },
  {
   "cell_type": "markdown",
   "metadata": {},
   "source": [
    "Collaboration Policy\n",
    "\n",
    "    1. Study groups are allowed but I expect students to understand and complete their own \n",
    "    assignments and to hand in one assignment per student.\n",
    "    2. If you worked in a group, please put the names of your study group on your assignment \n",
    "    on top.\n",
    "    3. Just like all other classes at Rutgers, the student Honor Code is taken seriously.\n",
    "    \n",
    "    The submitted assignmenst must be your work."
   ]
  },
  {
   "cell_type": "markdown",
   "metadata": {},
   "source": [
    "## <font color = blue> Assignment </font>\n",
    "\n",
    "Use the water consumption data to estimate a simple regression model.  The water consumption data was introduced at the beginning of the semester and is available on Sakai.  The unknown parameters of a demand function have to be estimated.  Estimate a simple OLS model real per capita water consumption as a function of the real price per gallon.  No other variables are to be used since the purpose of this lab is just to have you become familiar with commands."
   ]
  },
  {
   "cell_type": "markdown",
   "metadata": {},
   "source": [
    "# <font color = red> Documentation </font>"
   ]
  },
  {
   "cell_type": "markdown",
   "metadata": {},
   "source": [
    "## <font color = blue> Abstract </font>"
   ]
  },
  {
   "cell_type": "markdown",
   "metadata": {},
   "source": [
    "*In this lab, I learned that per capita water consumption is statistically related to the real price per gallon of water. According to the OLS model estimated, for every 1 dollar increase in price per gallon, per capita consumption would decrease by 8425.809311. This is in line with theory, that higher prices entail lower quantity bought. The relationship is not perfectly linear; there are residuals, as there may be other factors that may affect demand for water not explained by the model. *"
   ]
  },
  {
   "cell_type": "markdown",
   "metadata": {},
   "source": [
    "## <font color = blue> Data Dictionary </font>"
   ]
  },
  {
   "cell_type": "markdown",
   "metadata": {},
   "source": [
    "| Variable | Values   | Source | Mnemonic |\n",
    "|----------|----------|--------|---------|\n",
    "| Aggregate Consumption | Millions of gallons, annual | Int'l Bottled Water | agg_consumption |\n",
    "| Aggregate Revenue | Millions of dollars, annual/nominal | IBID. | agg_revenue |\n",
    "| Per Capita Consumption | Gallons per person, annual | Calculated: agg_consumption/pop | per_capita_consump |\n",
    "| Nominal Price per Gallon | Nominal dollars | Calculated: agg_revenue/agg_cons. | price |\n",
    "| Real Disposable Income per Capita | Real dollars, base = 2005, annual | Economic R. of Pres. 2010, Tbl. B-31 | real_dis_income |\n",
    "| Food CPI | Index (Total Food & Beverages) | Economic R. of Pres. 2010, Tbl. B-60 |food_cpi |\n",
    "| Population | Millions | Economic R. of Pres. 2010, Tbl. B-34 | pop |\n",
    "| Real Price per Gallon | Real dollars, annual | Calculated: price/food_cpi | real_price  |"
   ]
  },
  {
   "cell_type": "markdown",
   "metadata": {},
   "source": [
    "# <font color = red> Tasks </font>"
   ]
  },
  {
   "cell_type": "markdown",
   "metadata": {},
   "source": [
    "## <font color = blue> Load the Pandas and Statsmodels packages and give them aliases.  I recommend 'pd' and 'sm'.  You will also need the Statsmodels formula API for formulas.  Please see Lesson \\#4 for examples.</font>"
   ]
  },
  {
   "cell_type": "code",
   "execution_count": null,
   "metadata": {
    "collapsed": true
   },
   "outputs": [],
   "source": [
    "import numpy as np\n",
    "import pandas as pd\n",
    "import statsmodels.api as sm\n",
    "import statsmodels.formula.api as smf \n",
    "from statsmodels.iolib.summary2 import summary_col\n",
    "import matplotlib.pyplot as plt\n",
    "import seaborn as sns"
   ]
  },
  {
   "cell_type": "markdown",
   "metadata": {},
   "source": [
    "## <font color = blue> Import the water consumption data.  Set the row index to the years. </font>"
   ]
  },
  {
   "cell_type": "code",
   "execution_count": null,
   "metadata": {},
   "outputs": [],
   "source": [
    "df=pd.read_csv(\"water.csv\")\n",
    "df.set_index(\"obs\")"
   ]
  },
  {
   "cell_type": "markdown",
   "metadata": {},
   "source": [
    "## <font color = blue> Print the first five (5) records. </font>"
   ]
  },
  {
   "cell_type": "code",
   "execution_count": null,
   "metadata": {},
   "outputs": [],
   "source": [
    "df.head()"
   ]
  },
  {
   "cell_type": "markdown",
   "metadata": {},
   "source": [
    "## Graph"
   ]
  },
  {
   "cell_type": "code",
   "execution_count": null,
   "metadata": {},
   "outputs": [],
   "source": [
    "ax = df.plot( x = 'real_price', y = 'per_capita_cons', legend = False, kind = 'scatter' )\n",
    "ax.set( xlabel = 'Real Price', ylabel = 'Per Capita Consumption', title = 'Real Price vs. Per Capita Consumption' )"
   ]
  },
  {
   "cell_type": "markdown",
   "metadata": {},
   "source": [
    "## <font color = blue> Estimate an OLS model using per capita consumption as the dependent variable and real price as the the independent variable.  Display the summary report.  See Lesson \\#4 for an example.</font>"
   ]
  },
  {
   "cell_type": "code",
   "execution_count": null,
   "metadata": {},
   "outputs": [],
   "source": [
    "formula=\"per_capita_cons ~ real_price\"\n",
    "mod = smf.ols( formula, data = df )\n",
    "reg01 = mod.fit()\n",
    "reg01.summary()"
   ]
  },
  {
   "cell_type": "markdown",
   "metadata": {},
   "source": [
    "## <font color = blue> Retrieve and display the estimated parameters.  See Lesson \\#4 for an example.</font>"
   ]
  },
  {
   "cell_type": "markdown",
   "metadata": {},
   "source": [
    "### Params"
   ]
  },
  {
   "cell_type": "code",
   "execution_count": null,
   "metadata": {},
   "outputs": [],
   "source": [
    "reg01.params"
   ]
  },
  {
   "cell_type": "markdown",
   "metadata": {},
   "source": [
    "### Sum of Squares Residuals"
   ]
  },
  {
   "cell_type": "code",
   "execution_count": null,
   "metadata": {},
   "outputs": [],
   "source": [
    "sse = reg01.ssr\n",
    "sse"
   ]
  },
  {
   "cell_type": "markdown",
   "metadata": {},
   "source": [
    "### Standard Error"
   ]
  },
  {
   "cell_type": "code",
   "execution_count": null,
   "metadata": {},
   "outputs": [],
   "source": [
    "se_reg = np.sqrt( sse/( reg01.nobs - 2 ) )\n",
    "round( se_reg, 2 )"
   ]
  },
  {
   "cell_type": "markdown",
   "metadata": {},
   "source": [
    "### SSX"
   ]
  },
  {
   "cell_type": "code",
   "execution_count": null,
   "metadata": {},
   "outputs": [],
   "source": [
    "sxx = ( ( df.real_price - df.real_price.mean() ) **2 ).sum()\n",
    "print( sxx )"
   ]
  },
  {
   "cell_type": "markdown",
   "metadata": {},
   "source": [
    "### Standard Error of the Beta 1 Estimate"
   ]
  },
  {
   "cell_type": "code",
   "execution_count": null,
   "metadata": {},
   "outputs": [],
   "source": [
    "se_beta_1 = se_reg/np.sqrt( sxx )\n",
    "se_beta_1"
   ]
  },
  {
   "cell_type": "markdown",
   "metadata": {},
   "source": [
    "### Sum of Residuals"
   ]
  },
  {
   "cell_type": "code",
   "execution_count": null,
   "metadata": {},
   "outputs": [],
   "source": [
    "round( reg01.resid.sum(), 4 )"
   ]
  }
 ],
 "metadata": {
  "kernelspec": {
   "display_name": "Python 3",
   "language": "python",
   "name": "python3"
  },
  "language_info": {
   "codemirror_mode": {
    "name": "ipython",
    "version": 3
   },
   "file_extension": ".py",
   "mimetype": "text/x-python",
   "name": "python",
   "nbconvert_exporter": "python",
   "pygments_lexer": "ipython3",
   "version": "3.6.5"
  }
 },
 "nbformat": 4,
 "nbformat_minor": 2
}
