{
 "cells": [
  {
   "cell_type": "markdown",
   "metadata": {},
   "source": [
    "# James Baker 177005622 Lab \\#4"
   ]
  },
  {
   "cell_type": "markdown",
   "metadata": {},
   "source": [
    "Collaboration Policy\n",
    "\n",
    "    1. Study groups are allowed but I expect students to understand and complete their own \n",
    "    assignments and to hand in one assignment per student.\n",
    "    2. If you worked in a group, please put the names of your study group on your assignment \n",
    "    on top.\n",
    "    3. Just like all other classes at Rutgers, the student Honor Code is taken seriously.\n",
    "    \n",
    "    The submitted assignmenst must be your work."
   ]
  },
  {
   "cell_type": "markdown",
   "metadata": {},
   "source": [
    "## <font color = blue> Assignment </font>\n",
    "\n",
    "Use the water consumption data to estimate a simple regression model.  The water consumption data was introduced at the beginning of the semester and is available on Sakai.  The unknown parameters of a demand function have to be estimated.  Estimate a simple OLS model real per capita water consumption as a function of the real price per gallon.  No other variables are to be used since the purpose of this lab is just to have you become familiar with commands."
   ]
  },
  {
   "cell_type": "markdown",
   "metadata": {},
   "source": [
    "# <font color = red> Documentation </font>"
   ]
  },
  {
   "cell_type": "markdown",
   "metadata": {},
   "source": [
    "## <font color = blue> Abstract </font>"
   ]
  },
  {
   "cell_type": "markdown",
   "metadata": {},
   "source": [
    "*In this lab, I learned that per capita water consumption is statistically related to the real price per gallon of water. According to the OLS model estimated, for every 1 dollar increase in price per gallon, per capita consumption would decrease by 8425.809311. This is in line with theory, that higher prices entail lower quantity bought. The relationship is not perfectly linear; there are residuals, as there may be other factors that may affect demand for water not explained by the model. *"
   ]
  },
  {
   "cell_type": "markdown",
   "metadata": {},
   "source": [
    "## <font color = blue> Data Dictionary </font>"
   ]
  },
  {
   "cell_type": "markdown",
   "metadata": {},
   "source": [
    "| Variable | Values   | Source | Mnemonic |\n",
    "|----------|----------|--------|---------|\n",
    "| Aggregate Consumption | Millions of gallons, annual | Int'l Bottled Water | agg_consumption |\n",
    "| Aggregate Revenue | Millions of dollars, annual/nominal | IBID. | agg_revenue |\n",
    "| Per Capita Consumption | Gallons per person, annual | Calculated: agg_consumption/pop | per_capita_consump |\n",
    "| Nominal Price per Gallon | Nominal dollars | Calculated: agg_revenue/agg_cons. | price |\n",
    "| Real Disposable Income per Capita | Real dollars, base = 2005, annual | Economic R. of Pres. 2010, Tbl. B-31 | real_dis_income |\n",
    "| Food CPI | Index (Total Food & Beverages) | Economic R. of Pres. 2010, Tbl. B-60 |food_cpi |\n",
    "| Population | Millions | Economic R. of Pres. 2010, Tbl. B-34 | pop |\n",
    "| Real Price per Gallon | Real dollars, annual | Calculated: price/food_cpi | real_price  |"
   ]
  },
  {
   "cell_type": "markdown",
   "metadata": {},
   "source": [
    "# <font color = red> Tasks </font>"
   ]
  },
  {
   "cell_type": "markdown",
   "metadata": {},
   "source": [
    "## <font color = blue> Load the Pandas and Statsmodels packages and give them aliases.  I recommend 'pd' and 'sm'.  You will also need the Statsmodels formula API for formulas.  Please see Lesson \\#4 for examples.</font>"
   ]
  },
  {
   "cell_type": "code",
   "execution_count": 2,
   "metadata": {
    "collapsed": true
   },
   "outputs": [],
   "source": [
    "import numpy as np\n",
    "import pandas as pd\n",
    "import statsmodels.api as sm\n",
    "import statsmodels.formula.api as smf \n",
    "from statsmodels.iolib.summary2 import summary_col\n",
    "import matplotlib.pyplot as plt\n",
    "import seaborn as sns"
   ]
  },
  {
   "cell_type": "markdown",
   "metadata": {},
   "source": [
    "## <font color = blue> Import the water consumption data.  Set the row index to the years. </font>"
   ]
  },
  {
   "cell_type": "code",
   "execution_count": 3,
   "metadata": {},
   "outputs": [
    {
     "data": {
      "text/html": [
       "<div>\n",
       "<style scoped>\n",
       "    .dataframe tbody tr th:only-of-type {\n",
       "        vertical-align: middle;\n",
       "    }\n",
       "\n",
       "    .dataframe tbody tr th {\n",
       "        vertical-align: top;\n",
       "    }\n",
       "\n",
       "    .dataframe thead th {\n",
       "        text-align: right;\n",
       "    }\n",
       "</style>\n",
       "<table border=\"1\" class=\"dataframe\">\n",
       "  <thead>\n",
       "    <tr style=\"text-align: right;\">\n",
       "      <th></th>\n",
       "      <th>agg_consumption</th>\n",
       "      <th>per_capita_cons</th>\n",
       "      <th>food_cpi</th>\n",
       "      <th>pop</th>\n",
       "      <th>price</th>\n",
       "      <th>real_price</th>\n",
       "      <th>agg_revenue</th>\n",
       "      <th>real_dis_income</th>\n",
       "    </tr>\n",
       "    <tr>\n",
       "      <th>obs</th>\n",
       "      <th></th>\n",
       "      <th></th>\n",
       "      <th></th>\n",
       "      <th></th>\n",
       "      <th></th>\n",
       "      <th></th>\n",
       "      <th></th>\n",
       "      <th></th>\n",
       "    </tr>\n",
       "  </thead>\n",
       "  <tbody>\n",
       "    <tr>\n",
       "      <th>1993</th>\n",
       "      <td>2689.4</td>\n",
       "      <td>10.333711</td>\n",
       "      <td>141.600</td>\n",
       "      <td>260.255</td>\n",
       "      <td>1.069644</td>\n",
       "      <td>0.007554</td>\n",
       "      <td>2876.7</td>\n",
       "      <td>24044</td>\n",
       "    </tr>\n",
       "    <tr>\n",
       "      <th>1994</th>\n",
       "      <td>2966.4</td>\n",
       "      <td>11.260420</td>\n",
       "      <td>144.900</td>\n",
       "      <td>263.436</td>\n",
       "      <td>1.066714</td>\n",
       "      <td>0.007362</td>\n",
       "      <td>3164.3</td>\n",
       "      <td>24517</td>\n",
       "    </tr>\n",
       "    <tr>\n",
       "      <th>1995</th>\n",
       "      <td>3226.9</td>\n",
       "      <td>12.101314</td>\n",
       "      <td>148.900</td>\n",
       "      <td>266.657</td>\n",
       "      <td>1.091419</td>\n",
       "      <td>0.007330</td>\n",
       "      <td>3521.9</td>\n",
       "      <td>24951</td>\n",
       "    </tr>\n",
       "    <tr>\n",
       "      <th>1996</th>\n",
       "      <td>3495.1</td>\n",
       "      <td>12.960800</td>\n",
       "      <td>153.700</td>\n",
       "      <td>269.667</td>\n",
       "      <td>1.097365</td>\n",
       "      <td>0.007140</td>\n",
       "      <td>3835.4</td>\n",
       "      <td>25475</td>\n",
       "    </tr>\n",
       "    <tr>\n",
       "      <th>1997</th>\n",
       "      <td>3794.3</td>\n",
       "      <td>13.903016</td>\n",
       "      <td>157.700</td>\n",
       "      <td>272.912</td>\n",
       "      <td>1.112906</td>\n",
       "      <td>0.007057</td>\n",
       "      <td>4222.7</td>\n",
       "      <td>26061</td>\n",
       "    </tr>\n",
       "    <tr>\n",
       "      <th>1998</th>\n",
       "      <td>4130.7</td>\n",
       "      <td>14.960071</td>\n",
       "      <td>161.100</td>\n",
       "      <td>276.115</td>\n",
       "      <td>1.129615</td>\n",
       "      <td>0.007012</td>\n",
       "      <td>4666.1</td>\n",
       "      <td>27299</td>\n",
       "    </tr>\n",
       "    <tr>\n",
       "      <th>1999</th>\n",
       "      <td>4583.4</td>\n",
       "      <td>16.410605</td>\n",
       "      <td>164.600</td>\n",
       "      <td>279.295</td>\n",
       "      <td>1.159554</td>\n",
       "      <td>0.007045</td>\n",
       "      <td>5314.7</td>\n",
       "      <td>27805</td>\n",
       "    </tr>\n",
       "    <tr>\n",
       "      <th>2000</th>\n",
       "      <td>4725.0</td>\n",
       "      <td>16.732475</td>\n",
       "      <td>168.400</td>\n",
       "      <td>282.385</td>\n",
       "      <td>1.293757</td>\n",
       "      <td>0.007683</td>\n",
       "      <td>6113.0</td>\n",
       "      <td>28899</td>\n",
       "    </tr>\n",
       "    <tr>\n",
       "      <th>2001</th>\n",
       "      <td>5185.2</td>\n",
       "      <td>18.176656</td>\n",
       "      <td>173.600</td>\n",
       "      <td>285.267</td>\n",
       "      <td>1.326969</td>\n",
       "      <td>0.007644</td>\n",
       "      <td>6880.6</td>\n",
       "      <td>29299</td>\n",
       "    </tr>\n",
       "    <tr>\n",
       "      <th>2002</th>\n",
       "      <td>5795.7</td>\n",
       "      <td>20.122002</td>\n",
       "      <td>176.800</td>\n",
       "      <td>288.028</td>\n",
       "      <td>1.363321</td>\n",
       "      <td>0.007711</td>\n",
       "      <td>7901.4</td>\n",
       "      <td>29976</td>\n",
       "    </tr>\n",
       "    <tr>\n",
       "      <th>2003</th>\n",
       "      <td>6269.8</td>\n",
       "      <td>21.567643</td>\n",
       "      <td>180.500</td>\n",
       "      <td>290.704</td>\n",
       "      <td>1.359916</td>\n",
       "      <td>0.007534</td>\n",
       "      <td>8526.4</td>\n",
       "      <td>30442</td>\n",
       "    </tr>\n",
       "    <tr>\n",
       "      <th>2004</th>\n",
       "      <td>6806.7</td>\n",
       "      <td>23.206505</td>\n",
       "      <td>186.600</td>\n",
       "      <td>293.310</td>\n",
       "      <td>1.347114</td>\n",
       "      <td>0.007219</td>\n",
       "      <td>9169.4</td>\n",
       "      <td>31193</td>\n",
       "    </tr>\n",
       "    <tr>\n",
       "      <th>2005</th>\n",
       "      <td>7538.9</td>\n",
       "      <td>25.469773</td>\n",
       "      <td>191.200</td>\n",
       "      <td>295.994</td>\n",
       "      <td>1.327435</td>\n",
       "      <td>0.006943</td>\n",
       "      <td>10007.4</td>\n",
       "      <td>31318</td>\n",
       "    </tr>\n",
       "    <tr>\n",
       "      <th>2006</th>\n",
       "      <td>8253.6</td>\n",
       "      <td>27.625633</td>\n",
       "      <td>195.700</td>\n",
       "      <td>298.766</td>\n",
       "      <td>1.315523</td>\n",
       "      <td>0.006722</td>\n",
       "      <td>10857.8</td>\n",
       "      <td>32271</td>\n",
       "    </tr>\n",
       "    <tr>\n",
       "      <th>2007</th>\n",
       "      <td>8757.4</td>\n",
       "      <td>29.025501</td>\n",
       "      <td>203.300</td>\n",
       "      <td>301.714</td>\n",
       "      <td>1.319056</td>\n",
       "      <td>0.006488</td>\n",
       "      <td>11551.5</td>\n",
       "      <td>32648</td>\n",
       "    </tr>\n",
       "    <tr>\n",
       "      <th>2008</th>\n",
       "      <td>8665.6</td>\n",
       "      <td>28.460045</td>\n",
       "      <td>214.225</td>\n",
       "      <td>304.483</td>\n",
       "      <td>1.289986</td>\n",
       "      <td>0.006022</td>\n",
       "      <td>11178.5</td>\n",
       "      <td>32514</td>\n",
       "    </tr>\n",
       "  </tbody>\n",
       "</table>\n",
       "</div>"
      ],
      "text/plain": [
       "      agg_consumption  per_capita_cons  food_cpi      pop     price  \\\n",
       "obs                                                                   \n",
       "1993           2689.4        10.333711   141.600  260.255  1.069644   \n",
       "1994           2966.4        11.260420   144.900  263.436  1.066714   \n",
       "1995           3226.9        12.101314   148.900  266.657  1.091419   \n",
       "1996           3495.1        12.960800   153.700  269.667  1.097365   \n",
       "1997           3794.3        13.903016   157.700  272.912  1.112906   \n",
       "1998           4130.7        14.960071   161.100  276.115  1.129615   \n",
       "1999           4583.4        16.410605   164.600  279.295  1.159554   \n",
       "2000           4725.0        16.732475   168.400  282.385  1.293757   \n",
       "2001           5185.2        18.176656   173.600  285.267  1.326969   \n",
       "2002           5795.7        20.122002   176.800  288.028  1.363321   \n",
       "2003           6269.8        21.567643   180.500  290.704  1.359916   \n",
       "2004           6806.7        23.206505   186.600  293.310  1.347114   \n",
       "2005           7538.9        25.469773   191.200  295.994  1.327435   \n",
       "2006           8253.6        27.625633   195.700  298.766  1.315523   \n",
       "2007           8757.4        29.025501   203.300  301.714  1.319056   \n",
       "2008           8665.6        28.460045   214.225  304.483  1.289986   \n",
       "\n",
       "      real_price  agg_revenue  real_dis_income  \n",
       "obs                                             \n",
       "1993    0.007554       2876.7            24044  \n",
       "1994    0.007362       3164.3            24517  \n",
       "1995    0.007330       3521.9            24951  \n",
       "1996    0.007140       3835.4            25475  \n",
       "1997    0.007057       4222.7            26061  \n",
       "1998    0.007012       4666.1            27299  \n",
       "1999    0.007045       5314.7            27805  \n",
       "2000    0.007683       6113.0            28899  \n",
       "2001    0.007644       6880.6            29299  \n",
       "2002    0.007711       7901.4            29976  \n",
       "2003    0.007534       8526.4            30442  \n",
       "2004    0.007219       9169.4            31193  \n",
       "2005    0.006943      10007.4            31318  \n",
       "2006    0.006722      10857.8            32271  \n",
       "2007    0.006488      11551.5            32648  \n",
       "2008    0.006022      11178.5            32514  "
      ]
     },
     "execution_count": 3,
     "metadata": {},
     "output_type": "execute_result"
    }
   ],
   "source": [
    "df=pd.read_csv(\"water.csv\")\n",
    "df.set_index(\"obs\")"
   ]
  },
  {
   "cell_type": "markdown",
   "metadata": {},
   "source": [
    "## <font color = blue> Print the first five (5) records. </font>"
   ]
  },
  {
   "cell_type": "code",
   "execution_count": 4,
   "metadata": {},
   "outputs": [
    {
     "data": {
      "text/html": [
       "<div>\n",
       "<style scoped>\n",
       "    .dataframe tbody tr th:only-of-type {\n",
       "        vertical-align: middle;\n",
       "    }\n",
       "\n",
       "    .dataframe tbody tr th {\n",
       "        vertical-align: top;\n",
       "    }\n",
       "\n",
       "    .dataframe thead th {\n",
       "        text-align: right;\n",
       "    }\n",
       "</style>\n",
       "<table border=\"1\" class=\"dataframe\">\n",
       "  <thead>\n",
       "    <tr style=\"text-align: right;\">\n",
       "      <th></th>\n",
       "      <th>obs</th>\n",
       "      <th>agg_consumption</th>\n",
       "      <th>per_capita_cons</th>\n",
       "      <th>food_cpi</th>\n",
       "      <th>pop</th>\n",
       "      <th>price</th>\n",
       "      <th>real_price</th>\n",
       "      <th>agg_revenue</th>\n",
       "      <th>real_dis_income</th>\n",
       "    </tr>\n",
       "  </thead>\n",
       "  <tbody>\n",
       "    <tr>\n",
       "      <th>0</th>\n",
       "      <td>1993</td>\n",
       "      <td>2689.4</td>\n",
       "      <td>10.333711</td>\n",
       "      <td>141.6</td>\n",
       "      <td>260.255</td>\n",
       "      <td>1.069644</td>\n",
       "      <td>0.007554</td>\n",
       "      <td>2876.7</td>\n",
       "      <td>24044</td>\n",
       "    </tr>\n",
       "    <tr>\n",
       "      <th>1</th>\n",
       "      <td>1994</td>\n",
       "      <td>2966.4</td>\n",
       "      <td>11.260420</td>\n",
       "      <td>144.9</td>\n",
       "      <td>263.436</td>\n",
       "      <td>1.066714</td>\n",
       "      <td>0.007362</td>\n",
       "      <td>3164.3</td>\n",
       "      <td>24517</td>\n",
       "    </tr>\n",
       "    <tr>\n",
       "      <th>2</th>\n",
       "      <td>1995</td>\n",
       "      <td>3226.9</td>\n",
       "      <td>12.101314</td>\n",
       "      <td>148.9</td>\n",
       "      <td>266.657</td>\n",
       "      <td>1.091419</td>\n",
       "      <td>0.007330</td>\n",
       "      <td>3521.9</td>\n",
       "      <td>24951</td>\n",
       "    </tr>\n",
       "    <tr>\n",
       "      <th>3</th>\n",
       "      <td>1996</td>\n",
       "      <td>3495.1</td>\n",
       "      <td>12.960800</td>\n",
       "      <td>153.7</td>\n",
       "      <td>269.667</td>\n",
       "      <td>1.097365</td>\n",
       "      <td>0.007140</td>\n",
       "      <td>3835.4</td>\n",
       "      <td>25475</td>\n",
       "    </tr>\n",
       "    <tr>\n",
       "      <th>4</th>\n",
       "      <td>1997</td>\n",
       "      <td>3794.3</td>\n",
       "      <td>13.903016</td>\n",
       "      <td>157.7</td>\n",
       "      <td>272.912</td>\n",
       "      <td>1.112906</td>\n",
       "      <td>0.007057</td>\n",
       "      <td>4222.7</td>\n",
       "      <td>26061</td>\n",
       "    </tr>\n",
       "  </tbody>\n",
       "</table>\n",
       "</div>"
      ],
      "text/plain": [
       "    obs  agg_consumption  per_capita_cons  food_cpi      pop     price  \\\n",
       "0  1993           2689.4        10.333711     141.6  260.255  1.069644   \n",
       "1  1994           2966.4        11.260420     144.9  263.436  1.066714   \n",
       "2  1995           3226.9        12.101314     148.9  266.657  1.091419   \n",
       "3  1996           3495.1        12.960800     153.7  269.667  1.097365   \n",
       "4  1997           3794.3        13.903016     157.7  272.912  1.112906   \n",
       "\n",
       "   real_price  agg_revenue  real_dis_income  \n",
       "0    0.007554       2876.7            24044  \n",
       "1    0.007362       3164.3            24517  \n",
       "2    0.007330       3521.9            24951  \n",
       "3    0.007140       3835.4            25475  \n",
       "4    0.007057       4222.7            26061  "
      ]
     },
     "execution_count": 4,
     "metadata": {},
     "output_type": "execute_result"
    }
   ],
   "source": [
    "df.head()"
   ]
  },
  {
   "cell_type": "markdown",
   "metadata": {},
   "source": [
    "## Graph"
   ]
  },
  {
   "cell_type": "code",
   "execution_count": 5,
   "metadata": {},
   "outputs": [
    {
     "data": {
      "text/plain": [
       "[Text(0,0.5,'Per Capita Consumption'),\n",
       " Text(0.5,0,'Real Price'),\n",
       " Text(0.5,1,'Real Price vs. Per Capita Consumption')]"
      ]
     },
     "execution_count": 5,
     "metadata": {},
     "output_type": "execute_result"
    },
    {
     "data": {
      "image/png": "[encoded data removed]",
      "text/plain": [
       "<Figure size 432x288 with 1 Axes>"
      ]
     },
     "metadata": {},
     "output_type": "display_data"
    }
   ],
   "source": [
    "ax = df.plot( x = 'real_price', y = 'per_capita_cons', legend = False, kind = 'scatter' )\n",
    "ax.set( xlabel = 'Real Price', ylabel = 'Per Capita Consumption', title = 'Real Price vs. Per Capita Consumption' )"
   ]
  },
  {
   "cell_type": "markdown",
   "metadata": {},
   "source": [
    "## <font color = blue> Estimate an OLS model using per capita consumption as the dependent variable and real price as the the independent variable.  Display the summary report.  See Lesson \\#4 for an example.</font>"
   ]
  },
  {
   "cell_type": "code",
   "execution_count": 14,
   "metadata": {},
   "outputs": [
    {
     "name": "stderr",
     "output_type": "stream",
     "text": [
      "/Users/jamesbaker/miniconda3/envs/py3k/lib/python3.6/site-packages/scipy/stats/stats.py:1394: UserWarning: kurtosistest only valid for n>=20 ... continuing anyway, n=16\n",
      "  \"anyway, n=%i\" % int(n))\n",
      "/Users/jamesbaker/miniconda3/envs/py3k/lib/python3.6/site-packages/statsmodels/regression/linear_model.py:1554: RuntimeWarning: invalid value encountered in double_scalars\n",
      "  return self.ess/self.df_model\n"
     ]
    },
    {
     "data": {
      "text/html": [
       "<table class=\"simpletable\">\n",
       "<caption>OLS Regression Results</caption>\n",
       "<tr>\n",
       "  <th>Dep. Variable:</th>     <td>per_capita_cons</td> <th>  R-squared:         </th> <td>   0.000</td>\n",
       "</tr>\n",
       "<tr>\n",
       "  <th>Model:</th>                   <td>OLS</td>       <th>  Adj. R-squared:    </th> <td>   0.000</td>\n",
       "</tr>\n",
       "<tr>\n",
       "  <th>Method:</th>             <td>Least Squares</td>  <th>  F-statistic:       </th> <td>     nan</td>\n",
       "</tr>\n",
       "<tr>\n",
       "  <th>Date:</th>             <td>Mon, 19 Nov 2018</td> <th>  Prob (F-statistic):</th>  <td>   nan</td> \n",
       "</tr>\n",
       "<tr>\n",
       "  <th>Time:</th>                 <td>22:14:17</td>     <th>  Log-Likelihood:    </th> <td> -51.771</td>\n",
       "</tr>\n",
       "<tr>\n",
       "  <th>No. Observations:</th>      <td>    16</td>      <th>  AIC:               </th> <td>   105.5</td>\n",
       "</tr>\n",
       "<tr>\n",
       "  <th>Df Residuals:</th>          <td>    15</td>      <th>  BIC:               </th> <td>   106.3</td>\n",
       "</tr>\n",
       "<tr>\n",
       "  <th>Df Model:</th>              <td>     0</td>      <th>                     </th>     <td> </td>   \n",
       "</tr>\n",
       "<tr>\n",
       "  <th>Covariance Type:</th>      <td>nonrobust</td>    <th>                     </th>     <td> </td>   \n",
       "</tr>\n",
       "</table>\n",
       "<table class=\"simpletable\">\n",
       "<tr>\n",
       "      <td></td>         <th>coef</th>     <th>std err</th>      <th>t</th>      <th>P>|t|</th>  <th>[0.025</th>    <th>0.975]</th>  \n",
       "</tr>\n",
       "<tr>\n",
       "  <th>Intercept</th> <td>   18.8948</td> <td>    1.588</td> <td>   11.895</td> <td> 0.000</td> <td>   15.509</td> <td>   22.280</td>\n",
       "</tr>\n",
       "</table>\n",
       "<table class=\"simpletable\">\n",
       "<tr>\n",
       "  <th>Omnibus:</th>       <td> 2.838</td> <th>  Durbin-Watson:     </th> <td>   0.048</td>\n",
       "</tr>\n",
       "<tr>\n",
       "  <th>Prob(Omnibus):</th> <td> 0.242</td> <th>  Jarque-Bera (JB):  </th> <td>   1.305</td>\n",
       "</tr>\n",
       "<tr>\n",
       "  <th>Skew:</th>          <td> 0.311</td> <th>  Prob(JB):          </th> <td>   0.521</td>\n",
       "</tr>\n",
       "<tr>\n",
       "  <th>Kurtosis:</th>      <td> 1.747</td> <th>  Cond. No.          </th> <td>    1.00</td>\n",
       "</tr>\n",
       "</table><br/><br/>Warnings:<br/>[1] Standard Errors assume that the covariance matrix of the errors is correctly specified."
      ],
      "text/plain": [
       "<class 'statsmodels.iolib.summary.Summary'>\n",
       "\"\"\"\n",
       "                            OLS Regression Results                            \n",
       "==============================================================================\n",
       "Dep. Variable:        per_capita_cons   R-squared:                       0.000\n",
       "Model:                            OLS   Adj. R-squared:                  0.000\n",
       "Method:                 Least Squares   F-statistic:                       nan\n",
       "Date:                Mon, 19 Nov 2018   Prob (F-statistic):                nan\n",
       "Time:                        22:14:17   Log-Likelihood:                -51.771\n",
       "No. Observations:                  16   AIC:                             105.5\n",
       "Df Residuals:                      15   BIC:                             106.3\n",
       "Df Model:                           0                                         \n",
       "Covariance Type:            nonrobust                                         \n",
       "==============================================================================\n",
       "                 coef    std err          t      P>|t|      [0.025      0.975]\n",
       "------------------------------------------------------------------------------\n",
       "Intercept     18.8948      1.588     11.895      0.000      15.509      22.280\n",
       "==============================================================================\n",
       "Omnibus:                        2.838   Durbin-Watson:                   0.048\n",
       "Prob(Omnibus):                  0.242   Jarque-Bera (JB):                1.305\n",
       "Skew:                           0.311   Prob(JB):                        0.521\n",
       "Kurtosis:                       1.747   Cond. No.                         1.00\n",
       "==============================================================================\n",
       "\n",
       "Warnings:\n",
       "[1] Standard Errors assume that the covariance matrix of the errors is correctly specified.\n",
       "\"\"\""
      ]
     },
     "execution_count": 14,
     "metadata": {},
     "output_type": "execute_result"
    }
   ],
   "source": [
    "formula=\"per_capita_cons ~ 1\"\n",
    "mod = smf.ols( formula, data = df )\n",
    "reg01 = mod.fit()\n",
    "reg01.summary()"
   ]
  },
  {
   "cell_type": "markdown",
   "metadata": {},
   "source": [
    "## Descriptives"
   ]
  },
  {
   "cell_type": "code",
   "execution_count": 7,
   "metadata": {},
   "outputs": [
    {
     "data": {
      "text/html": [
       "<div>\n",
       "<style scoped>\n",
       "    .dataframe tbody tr th:only-of-type {\n",
       "        vertical-align: middle;\n",
       "    }\n",
       "\n",
       "    .dataframe tbody tr th {\n",
       "        vertical-align: top;\n",
       "    }\n",
       "\n",
       "    .dataframe thead th {\n",
       "        text-align: right;\n",
       "    }\n",
       "</style>\n",
       "<table border=\"1\" class=\"dataframe\">\n",
       "  <thead>\n",
       "    <tr style=\"text-align: right;\">\n",
       "      <th></th>\n",
       "      <th>count</th>\n",
       "      <th>mean</th>\n",
       "      <th>std</th>\n",
       "      <th>min</th>\n",
       "      <th>25%</th>\n",
       "      <th>50%</th>\n",
       "      <th>75%</th>\n",
       "      <th>max</th>\n",
       "    </tr>\n",
       "  </thead>\n",
       "  <tbody>\n",
       "    <tr>\n",
       "      <th>obs</th>\n",
       "      <td>16.0</td>\n",
       "      <td>2000.500000</td>\n",
       "      <td>4.760952</td>\n",
       "      <td>1993.000000</td>\n",
       "      <td>1996.750000</td>\n",
       "      <td>2000.500000</td>\n",
       "      <td>2004.250000</td>\n",
       "      <td>2008.000000</td>\n",
       "    </tr>\n",
       "    <tr>\n",
       "      <th>agg_consumption</th>\n",
       "      <td>16.0</td>\n",
       "      <td>5430.256250</td>\n",
       "      <td>2073.808994</td>\n",
       "      <td>2689.400000</td>\n",
       "      <td>3719.500000</td>\n",
       "      <td>4955.100000</td>\n",
       "      <td>6989.750000</td>\n",
       "      <td>8757.400000</td>\n",
       "    </tr>\n",
       "    <tr>\n",
       "      <th>per_capita_cons</th>\n",
       "      <td>16.0</td>\n",
       "      <td>18.894761</td>\n",
       "      <td>6.353614</td>\n",
       "      <td>10.333711</td>\n",
       "      <td>13.667462</td>\n",
       "      <td>17.454565</td>\n",
       "      <td>23.772322</td>\n",
       "      <td>29.025501</td>\n",
       "    </tr>\n",
       "    <tr>\n",
       "      <th>food_cpi</th>\n",
       "      <td>16.0</td>\n",
       "      <td>172.676562</td>\n",
       "      <td>21.470518</td>\n",
       "      <td>141.600000</td>\n",
       "      <td>156.700000</td>\n",
       "      <td>171.000000</td>\n",
       "      <td>187.750000</td>\n",
       "      <td>214.225000</td>\n",
       "    </tr>\n",
       "    <tr>\n",
       "      <th>pop</th>\n",
       "      <td>16.0</td>\n",
       "      <td>283.061750</td>\n",
       "      <td>13.984216</td>\n",
       "      <td>260.255000</td>\n",
       "      <td>272.100750</td>\n",
       "      <td>283.826000</td>\n",
       "      <td>293.981000</td>\n",
       "      <td>304.483000</td>\n",
       "    </tr>\n",
       "    <tr>\n",
       "      <th>price</th>\n",
       "      <td>16.0</td>\n",
       "      <td>1.229393</td>\n",
       "      <td>0.117783</td>\n",
       "      <td>1.066714</td>\n",
       "      <td>1.109021</td>\n",
       "      <td>1.291871</td>\n",
       "      <td>1.327086</td>\n",
       "      <td>1.363321</td>\n",
       "    </tr>\n",
       "    <tr>\n",
       "      <th>real_price</th>\n",
       "      <td>16.0</td>\n",
       "      <td>0.007154</td>\n",
       "      <td>0.000463</td>\n",
       "      <td>0.006022</td>\n",
       "      <td>0.006995</td>\n",
       "      <td>0.007179</td>\n",
       "      <td>0.007539</td>\n",
       "      <td>0.007711</td>\n",
       "    </tr>\n",
       "    <tr>\n",
       "      <th>agg_revenue</th>\n",
       "      <td>16.0</td>\n",
       "      <td>6861.737500</td>\n",
       "      <td>3058.035940</td>\n",
       "      <td>2876.700000</td>\n",
       "      <td>4125.875000</td>\n",
       "      <td>6496.800000</td>\n",
       "      <td>9378.900000</td>\n",
       "      <td>11551.500000</td>\n",
       "    </tr>\n",
       "    <tr>\n",
       "      <th>real_dis_income</th>\n",
       "      <td>16.0</td>\n",
       "      <td>28669.500000</td>\n",
       "      <td>2992.882334</td>\n",
       "      <td>24044.000000</td>\n",
       "      <td>25914.500000</td>\n",
       "      <td>29099.000000</td>\n",
       "      <td>31224.250000</td>\n",
       "      <td>32648.000000</td>\n",
       "    </tr>\n",
       "  </tbody>\n",
       "</table>\n",
       "</div>"
      ],
      "text/plain": [
       "                 count          mean          std           min           25%  \\\n",
       "obs               16.0   2000.500000     4.760952   1993.000000   1996.750000   \n",
       "agg_consumption   16.0   5430.256250  2073.808994   2689.400000   3719.500000   \n",
       "per_capita_cons   16.0     18.894761     6.353614     10.333711     13.667462   \n",
       "food_cpi          16.0    172.676562    21.470518    141.600000    156.700000   \n",
       "pop               16.0    283.061750    13.984216    260.255000    272.100750   \n",
       "price             16.0      1.229393     0.117783      1.066714      1.109021   \n",
       "real_price        16.0      0.007154     0.000463      0.006022      0.006995   \n",
       "agg_revenue       16.0   6861.737500  3058.035940   2876.700000   4125.875000   \n",
       "real_dis_income   16.0  28669.500000  2992.882334  24044.000000  25914.500000   \n",
       "\n",
       "                          50%           75%           max  \n",
       "obs               2000.500000   2004.250000   2008.000000  \n",
       "agg_consumption   4955.100000   6989.750000   8757.400000  \n",
       "per_capita_cons     17.454565     23.772322     29.025501  \n",
       "food_cpi           171.000000    187.750000    214.225000  \n",
       "pop                283.826000    293.981000    304.483000  \n",
       "price                1.291871      1.327086      1.363321  \n",
       "real_price           0.007179      0.007539      0.007711  \n",
       "agg_revenue       6496.800000   9378.900000  11551.500000  \n",
       "real_dis_income  29099.000000  31224.250000  32648.000000  "
      ]
     },
     "execution_count": 7,
     "metadata": {},
     "output_type": "execute_result"
    }
   ],
   "source": [
    "df.describe().T"
   ]
  },
  {
   "cell_type": "markdown",
   "metadata": {},
   "source": [
    "## <font color = blue> Retrieve and display the estimated parameters.  See Lesson \\#4 for an example.</font>"
   ]
  },
  {
   "cell_type": "markdown",
   "metadata": {},
   "source": [
    "### Params"
   ]
  },
  {
   "cell_type": "code",
   "execution_count": 8,
   "metadata": {},
   "outputs": [
    {
     "data": {
      "text/plain": [
       "Intercept    18.894761\n",
       "dtype: float64"
      ]
     },
     "execution_count": 8,
     "metadata": {},
     "output_type": "execute_result"
    }
   ],
   "source": [
    "reg01.params"
   ]
  },
  {
   "cell_type": "markdown",
   "metadata": {},
   "source": [
    "### Sum of Squares Residuals"
   ]
  },
  {
   "cell_type": "code",
   "execution_count": 9,
   "metadata": {},
   "outputs": [
    {
     "data": {
      "text/plain": [
       "605.5260727661479"
      ]
     },
     "execution_count": 9,
     "metadata": {},
     "output_type": "execute_result"
    }
   ],
   "source": [
    "sse = reg01.ssr\n",
    "sse"
   ]
  },
  {
   "cell_type": "markdown",
   "metadata": {},
   "source": [
    "### Standard Error"
   ]
  },
  {
   "cell_type": "code",
   "execution_count": 10,
   "metadata": {},
   "outputs": [
    {
     "data": {
      "text/plain": [
       "6.58"
      ]
     },
     "execution_count": 10,
     "metadata": {},
     "output_type": "execute_result"
    }
   ],
   "source": [
    "se_reg = np.sqrt( sse/( reg01.nobs - 2 ) )\n",
    "round( se_reg, 2 )"
   ]
  },
  {
   "cell_type": "markdown",
   "metadata": {},
   "source": [
    "### SSX"
   ]
  },
  {
   "cell_type": "code",
   "execution_count": 11,
   "metadata": {},
   "outputs": [
    {
     "name": "stdout",
     "output_type": "stream",
     "text": [
      "3.211004985479043e-06\n"
     ]
    }
   ],
   "source": [
    "sxx = ( ( df.real_price - df.real_price.mean() ) **2 ).sum()\n",
    "print( sxx )"
   ]
  },
  {
   "cell_type": "markdown",
   "metadata": {},
   "source": [
    "### Standard Error of the Beta 1 Estimate"
   ]
  },
  {
   "cell_type": "code",
   "execution_count": 12,
   "metadata": {},
   "outputs": [
    {
     "data": {
      "text/plain": [
       "3670.1339583277468"
      ]
     },
     "execution_count": 12,
     "metadata": {},
     "output_type": "execute_result"
    }
   ],
   "source": [
    "se_beta_1 = se_reg/np.sqrt( sxx )\n",
    "se_beta_1"
   ]
  },
  {
   "cell_type": "markdown",
   "metadata": {},
   "source": [
    "### Sum of Residuals"
   ]
  },
  {
   "cell_type": "code",
   "execution_count": 13,
   "metadata": {},
   "outputs": [
    {
     "data": {
      "text/plain": [
       "-0.0"
      ]
     },
     "execution_count": 13,
     "metadata": {},
     "output_type": "execute_result"
    }
   ],
   "source": [
    "round( reg01.resid.sum(), 4 )"
   ]
  }
 ],
 "metadata": {
  "kernelspec": {
   "display_name": "Python 3",
   "language": "python",
   "name": "python3"
  },
  "language_info": {
   "codemirror_mode": {
    "name": "ipython",
    "version": 3
   },
   "file_extension": ".py",
   "mimetype": "text/x-python",
   "name": "python",
   "nbconvert_exporter": "python",
   "pygments_lexer": "ipython3",
   "version": "3.6.5"
  }
 },
 "nbformat": 4,
 "nbformat_minor": 2
}
