{
 "cells": [
  {
   "cell_type": "code",
   "execution_count": 71,
   "metadata": {
    "collapsed": true
   },
   "outputs": [],
   "source": [
    "import csv\n"
   ]
  },
  {
   "cell_type": "code",
   "execution_count": 72,
   "metadata": {
    "collapsed": true
   },
   "outputs": [],
   "source": [
    "inp=open(\"12s0165.csv\",\"r\")"
   ]
  },
  {
   "cell_type": "code",
   "execution_count": 73,
   "metadata": {
    "collapsed": true
   },
   "outputs": [],
   "source": [
    "out=open(\"med.csv\",\"w+\")"
   ]
  },
  {
   "cell_type": "code",
   "execution_count": 74,
   "metadata": {
    "collapsed": true
   },
   "outputs": [],
   "source": [
    "reader=csv.reader(inp)\n",
    "writer=csv.writer(out)"
   ]
  },
  {
   "cell_type": "code",
   "execution_count": 75,
   "metadata": {},
   "outputs": [
    {
     "name": "stdout",
     "output_type": "stream",
     "text": [
      "['\\ufeffUnited States', 838453.0, 273.0, 2583770.0, 842.0]\n",
      "huh\n",
      "['Alabama', 10265.0, 218.0, 42880.0, 911.0]\n",
      "huh\n",
      "['Alaska', 1574.0, 225.0, 5010.0, 717.0]\n",
      "huh\n",
      "['Arizona', 14051.0, 213.0, 38570.0, 585.0]\n",
      "huh\n",
      "['Arkansas', 5902.0, 204.0, 23050.0, 798.0]\n",
      "huh\n",
      "['California', 100131.0, 271.0, 233030.0, 630.0]\n",
      "huh\n",
      "['Colorado', 13047.0, 260.0, 41750.0, 831.0]\n",
      "huh\n",
      "['Connecticut', 13370.0, 380.0, 35790.0, 1017.0]\n",
      "huh\n",
      "['Delaware', 2177.0, 246.0, 10220.0, 1155.0]\n",
      "huh\n",
      "['District of Columbia', 4900.0, 817.0, 8890.0, 1483.0]\n",
      "huh\n",
      "['Florida', 46645.0, 252.0, 150940.0, 814.0]\n",
      "huh\n",
      "['Georgia', 21269.0, 216.0, 65370.0, 665.0]\n",
      "huh\n",
      "['Hawaii', 4800.0, 371.0, 8930.0, 689.0]\n",
      "huh\n",
      "['Idaho', 2649.0, 171.0, 10540.0, 682.0]\n",
      "huh\n",
      "['Illinois', 36528.0, 283.0, 116340.0, 901.0]\n",
      "huh\n",
      "['Indiana', 13938.0, 217.0, 57880.0, 901.0]\n",
      "huh\n",
      "['Iowa', 5696.0, 189.0, 30750.0, 1022.0]\n",
      "huh\n",
      "['Kansas', 6436.0, 228.0, 26320.0, 934.0]\n",
      "huh\n",
      "['Kentucky', 10076.0, 234.0, 43250.0, 1003.0]\n",
      "huh\n",
      "['Louisiana', 11974.0, 267.0, 39560.0, 881.0]\n",
      "huh\n",
      "['Maine', 3663.0, 278.0, 14410.0, 1093.0]\n",
      "huh\n",
      "['Maryland', 24118.0, 423.0, 51620.0, 906.0]\n",
      "huh\n",
      "['Massachusetts', 31252.0, 474.0, 83060.0, 1260.0]\n",
      "huh\n",
      "['Michigan', 25697.0, 258.0, 84620.0, 849.0]\n",
      "huh\n",
      "['Minnesota', 15620.0, 297.0, 57560.0, 1093.0]\n",
      "huh\n",
      "['Mississippi', 5281.0, 179.0, 28030.0, 950.0]\n",
      "huh\n",
      "['Missouri', 14789.0, 247.0, 62130.0, 1038.0]\n",
      "huh\n",
      "['Montana', 2138.0, 219.0, 8340.0, 855.0]\n",
      "huh\n",
      "['Nebraska', 4511.0, 251.0, 18930.0, 1054.0]\n",
      "huh\n",
      "['Nevada', 4967.0, 188.0, 16100.0, 609.0]\n",
      "huh\n",
      "['New Hampshire', 3828.0, 289.0, 13330.0, 1006.0]\n",
      "huh\n",
      "['New Jersey', 27433.0, 315.0, 74730.0, 858.0]\n",
      "huh\n",
      "['New Mexico', 4877.0, 243.0, 12340.0, 614.0]\n",
      "huh\n",
      "['New York', 77042.0, 394.0, 165730.0, 848.0]\n",
      "huh\n",
      "['North Carolina', 24072.0, 257.0, 88190.0, 940.0]\n",
      "huh\n",
      "['North Dakota', 1617.0, 250.0, 6260.0, 968.0]\n",
      "huh\n",
      "['Ohio', 31315.0, 271.0, 117870.0, 1021.0]\n",
      "huh\n",
      "['Oklahoma', 6467.0, 175.0, 27340.0, 742.0]\n",
      "huh\n",
      "['Oregon', 10753.0, 281.0, 30730.0, 803.0]\n",
      "huh\n",
      "['Pennsylvania', 38676.0, 307.0, 129810.0, 1030.0]\n",
      "huh\n",
      "['Rhode Island', 4020.0, 382.0, 11630.0, 1104.0]\n",
      "huh\n",
      "['South Carolina', 10403.0, 228.0, 38020.0, 834.0]\n",
      "huh\n",
      "['South Dakota', 1818.0, 224.0, 10530.0, 1296.0]\n",
      "huh\n",
      "['Tennessee', 16754.0, 266.0, 61980.0, 984.0]\n",
      "huh\n",
      "['Texas', 53546.0, 216.0, 168020.0, 678.0]\n",
      "huh\n",
      "['Utah', 5903.0, 212.0, 17670.0, 635.0]\n",
      "huh\n",
      "['Vermont', 2313.0, 372.0, 5680.0, 914.0]\n",
      "huh\n",
      "['Virginia', 21931.0, 278.0, 60230.0, 764.0]\n",
      "huh\n",
      "['Washington', 18090.0, 271.0, 54260.0, 814.0]\n",
      "huh\n",
      "['West Virginia', 4295.0, 236.0, 17340.0, 953.0]\n",
      "huh\n",
      "['Wisconsin', 14816.0, 262.0, 53510.0, 946.0]\n",
      "huh\n",
      "['Wyoming', 1020.0, 187.0, 4700.0, 864.0]\n",
      "huh\n"
     ]
    }
   ],
   "source": [
    "for row in reader:\n",
    "    r=[row[0],float(row[1].replace(',','')),float(row[2].replace(',','')),float(row[3].replace(',','')),float(row[4].replace(',',''))]\n",
    "    print(r)\n",
    "    writer.writerow(r)\n",
    "    print(\"huh\")"
   ]
  },
  {
   "cell_type": "code",
   "execution_count": null,
   "metadata": {
    "collapsed": true
   },
   "outputs": [],
   "source": []
  },
  {
   "cell_type": "code",
   "execution_count": null,
   "metadata": {
    "collapsed": true
   },
   "outputs": [],
   "source": []
  }
 ],
 "metadata": {
  "kernelspec": {
   "display_name": "Python 3",
   "language": "python",
   "name": "python3"
  },
  "language_info": {
   "codemirror_mode": {
    "name": "ipython",
    "version": 3
   },
   "file_extension": ".py",
   "mimetype": "text/x-python",
   "name": "python",
   "nbconvert_exporter": "python",
   "pygments_lexer": "ipython3",
   "version": "3.6.5"
  }
 },
 "nbformat": 4,
 "nbformat_minor": 2
}
