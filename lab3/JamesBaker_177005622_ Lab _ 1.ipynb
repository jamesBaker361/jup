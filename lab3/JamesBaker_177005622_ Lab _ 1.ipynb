{
 "cells": [
  {
   "cell_type": "markdown",
   "metadata": {},
   "source": [
    "# Econometric 322 Lab \\#1"
   ]
  },
  {
   "cell_type": "markdown",
   "metadata": {},
   "source": [
    "Collaboration Policy\n",
    "\n",
    "    1. Study groups are allowed but I expect students to understand and complete their own assignments and to hand in one assignment per student.\n",
    "    2. If you worked in a group, please put the names of your study group on your assignment on top.\n",
    "    3. Just like all other classes at Rutgers, the student Honor Code is taken seriously.\n",
    "    \n",
    "    The submitted assignmenst must be your work."
   ]
  },
  {
   "cell_type": "markdown",
   "metadata": {},
   "source": [
    "## <font color = blue> Assignment </font>\n",
    "\n",
    "Collect data from the Economic Report of the President: 2004, Table B-96. You just need New Business Incorporations, Total Number of Failures, and Total Amount of Current Liabilities for 1955 to 1997. Import the data into the notebook.  Name the variables as you wish but whatever names you use, document them in the Data Dictionary.  See the Lab Manual and the class notes for examples of data dictionaries."
   ]
  },
  {
   "cell_type": "markdown",
   "metadata": {},
   "source": [
    "# <font color = red> Documentation </font>"
   ]
  },
  {
   "cell_type": "markdown",
   "metadata": {},
   "source": [
    "## <font color = blue> Abstract </font>"
   ]
  },
  {
   "cell_type": "markdown",
   "metadata": {},
   "source": [
    "*The goal of this lab will be to examine the relationships between liabilities and business failures between 1955 to 1997. Failures and liabilities were strongly positively correlated, which is logical, as failing firms lacking revenue would need debt just to cover their operating costs. On the other hand, the correlation could be purely coincedental, as both failures and debt may grow over time.*"
   ]
  },
  {
   "cell_type": "markdown",
   "metadata": {},
   "source": [
    "## <font color = blue> Data Dictionary </font>"
   ]
  },
  {
   "cell_type": "markdown",
   "metadata": {},
   "source": [
    "Variable|Values|Source|Mnemonic\n",
    "-|-|-|-\n",
    "New Business Incorporations|Incorporations|Economic Report of the President: 2004 Table B-96|nbi\n",
    "Total Number of Failures|Failures|Economic Report of the President: 2004 Table B-96|tnf\n",
    "Total Amount of Current Liabilities|Millions of 2004 Dollars|Economic Report of the President: 2004 Table B-96|tcl"
   ]
  },
  {
   "cell_type": "markdown",
   "metadata": {},
   "source": [
    "# <font color = red> Pre-lab Questions </font>\n",
    "\n",
    "Before you do any work, please think about the concepts: business incorporations, failures, and liabilities in the U.S. from 1955 to 1997. In particular, think how you would answer the following if called on in class:"
   ]
  },
  {
   "cell_type": "markdown",
   "metadata": {},
   "source": [
    "## <font color = blue> What type of data is this and why (i.e., source and domain)? </font>"
   ]
  },
  {
   "cell_type": "markdown",
   "metadata": {},
   "source": [
    "This is time-series data, because we're comparing a few metrics for the United States over time. This data is secondary data because it comes from observational studies done by the federal government."
   ]
  },
  {
   "cell_type": "markdown",
   "metadata": {},
   "source": [
    "## <font color = blue> What relationships would you expect to exist among these variables?  Explain your answer. </font>"
   ]
  },
  {
   "cell_type": "markdown",
   "metadata": {},
   "source": [
    "I would assume New Business Incorporations to rise during expansions, and fall during recessions, as strong growth would make people more optimistic and more likely to start businesses. Conversely, Total Number of Failures would decline during expansions and rise during recessions, as a bad economy would mean fewer sales. Ergo, those two variables would seem negatively correlated, even though neither necessarily causes the other. I would expect Total Amount of Current Liabilities to rise during expansions, as growing firms are eager to go in debt to expand, and to fall during recessions when there are fewer firms, and those firms make fewer investments. Total Amount of Current Liabilities I would expect to appear negatively correlated with Total Number of Failures and positively correlated with New Business Incorporations."
   ]
  },
  {
   "cell_type": "markdown",
   "metadata": {},
   "source": [
    "## <font color = blue> Write a testable hypothesis for failures as a function of liabilities.  Explain your answer. </font>"
   ]
  },
  {
   "cell_type": "markdown",
   "metadata": {},
   "source": [
    "b1 is defined as the correlation between Total Number of Failures and Total Amount of Current Liabilities.\n",
    "*H0*: b1 =0\n",
    "*Ha*: b1 < 0\n",
    "\n",
    "When Total Amount of Current Liabilities increases, Total Number of Failures decreases, so b1 would be negative. This would be because an increase in Total Amount of Current Liabilities means an increase in the number of firms who use debt to finance their operations, or each firm is taking on more debt to finance new investments, indicating a strong economy. A strong economy would then mean strong spending, and firms would be making a lot of sales, so fewer firms would fail, so the Total Number of Failures would be low."
   ]
  },
  {
   "cell_type": "markdown",
   "metadata": {},
   "source": [
    "## <font color = blue> Write a linear model for failures as a function of liabilities."
   ]
  },
  {
   "cell_type": "markdown",
   "metadata": {},
   "source": [
    "(*Total Number of Failures*)=b0+(b1 x *Total Amount of Current Liabilities in millions of dollars* )+error                                                       \n",
    "error ~ N(0,sigma^2). We assume the error is normally distributed."
   ]
  },
  {
   "cell_type": "markdown",
   "metadata": {},
   "source": [
    "## <font color = blue> How do you think these variables will change over time? Do you think they will grow or decline or stay constant?  Explain your answer. </font>"
   ]
  },
  {
   "cell_type": "markdown",
   "metadata": {},
   "source": [
    "I expect all three of these variables, New Business Incorporations, Total Number of Failures, and Total Amount of Current Liabilities to fluctuate somewhat. However, in the long run, I expect them to grow. As the economy and population grow, the number of businesses that are started and then fail will necessarily increase as well, as even if the average American is equally likely to start a business over time, and a business is equally likely to fail over time, the greater quantity of Americans will mean an increase in new businesses, and an increase in the number of businesses will mean in increase in the number of failures. Similarly, even if the average business is equally likely to take on the same average quantity debt over time, an increase in the number of businesses would mean an increase in the amount of total liabilities."
   ]
  },
  {
   "cell_type": "markdown",
   "metadata": {},
   "source": [
    "## <font color = blue> Would the business cycle have any impact on them?  Can you state any hypotheses about the business cycle profle of these variables?  What is a \"business cycle profle?\"  Explain your answers. </font>"
   ]
  },
  {
   "cell_type": "markdown",
   "metadata": {},
   "source": [
    "I theorize that during expansions, Total Number of Failures declines, as a strong economy boosts sales and profits, and businesses do better. On the converse, during recessions, Total Number of Failures will increase, as the weak economy will starve businesses of revenue and they will go under. During expansions, optimism will make entrepreneurs will be more likely to start businesses, and New Business Incorporations will increase, and it will correspondingly fall during recessions. During periods of growth, businesses will also be more likely to go into debt to finance new investments, because they will be more confident about their investments paying off, so Total Amount of Current Liabilities will increase. During periods of contraction, businesses will be less likely to go into debt, and Total Amount of Current Liabilities will decrease. The business cycle profile of a variable is how it reacts to the various stages of the business cycle an economy may be in."
   ]
  },
  {
   "cell_type": "markdown",
   "metadata": {},
   "source": [
    "## <font color = blue> Can you think of any other variables you could create using just these three variables that may be interesting and meaningful? Describe them and state why they would be interesting and meaningful. </font>"
   ]
  },
  {
   "cell_type": "markdown",
   "metadata": {},
   "source": [
    "I would subtract Total Number of Failures from New Business Incorporations to yield Net Increase in Businesses. The value of this would be to reflect the total increase in number of businesses, and would be a better metric than New Business Incorporations for gauging economic activity by business quantity. A period of severe economic stress may have a small uptick of business formation due to other factors, such as population growth, or changes in fiscal or regulatory policy. The increase in business Total Number of Failures would presumably be much greater. Net Increase in Businesses would be negative, but New Business Incorporations would be positive, meaning Net Increase in Businesses might be a better indicator."
   ]
  },
  {
   "cell_type": "markdown",
   "metadata": {},
   "source": [
    "# <font color = red> Tasks and Questions </font>"
   ]
  },
  {
   "cell_type": "markdown",
   "metadata": {},
   "source": [
    "## <font color = blue> Load the Pandas package and give it an alias. </font>"
   ]
  },
  {
   "cell_type": "code",
   "execution_count": 4,
   "metadata": {
    "collapsed": true
   },
   "outputs": [],
   "source": [
    "##\n",
    "## Enter the code here\n",
    "##\n",
    "import pandas as pd"
   ]
  },
  {
   "cell_type": "markdown",
   "metadata": {},
   "source": [
    "## <font color = blue> Import the data. </font>"
   ]
  },
  {
   "cell_type": "code",
   "execution_count": 5,
   "metadata": {
    "collapsed": true
   },
   "outputs": [],
   "source": [
    "##\n",
    "## Enter the code here\n",
    "##\n",
    "df=pd.read_csv(r\"erp.csv\") #the data was downloaded cleaned and saved as erp.csv"
   ]
  },
  {
   "cell_type": "markdown",
   "metadata": {},
   "source": [
    "## <font color = blue> Print your data </font>"
   ]
  },
  {
   "cell_type": "markdown",
   "metadata": {},
   "source": [
    "### <font color = blue> Print the first five (5) records. </font>"
   ]
  },
  {
   "cell_type": "code",
   "execution_count": 6,
   "metadata": {},
   "outputs": [
    {
     "data": {
      "text/html": [
       "<div>\n",
       "<style scoped>\n",
       "    .dataframe tbody tr th:only-of-type {\n",
       "        vertical-align: middle;\n",
       "    }\n",
       "\n",
       "    .dataframe tbody tr th {\n",
       "        vertical-align: top;\n",
       "    }\n",
       "\n",
       "    .dataframe thead th {\n",
       "        text-align: right;\n",
       "    }\n",
       "</style>\n",
       "<table border=\"1\" class=\"dataframe\">\n",
       "  <thead>\n",
       "    <tr style=\"text-align: right;\">\n",
       "      <th></th>\n",
       "      <th>year</th>\n",
       "      <th>netindex</th>\n",
       "      <th>nbi</th>\n",
       "      <th>bfr</th>\n",
       "      <th>tnf</th>\n",
       "      <th>underhundred</th>\n",
       "      <th>overhundred</th>\n",
       "      <th>tcl</th>\n",
       "      <th>underhundredliab</th>\n",
       "      <th>overhundredliab</th>\n",
       "    </tr>\n",
       "  </thead>\n",
       "  <tbody>\n",
       "    <tr>\n",
       "      <th>0</th>\n",
       "      <td>1955.0</td>\n",
       "      <td>96.6</td>\n",
       "      <td>139915.0</td>\n",
       "      <td>42.0</td>\n",
       "      <td>10969.0</td>\n",
       "      <td>10113.0</td>\n",
       "      <td>856.0</td>\n",
       "      <td>449.4</td>\n",
       "      <td>206.4</td>\n",
       "      <td>243.0</td>\n",
       "    </tr>\n",
       "    <tr>\n",
       "      <th>1</th>\n",
       "      <td>1956.0</td>\n",
       "      <td>94.6</td>\n",
       "      <td>141163.0</td>\n",
       "      <td>48.0</td>\n",
       "      <td>12686.0</td>\n",
       "      <td>11615.0</td>\n",
       "      <td>1071.0</td>\n",
       "      <td>562.7</td>\n",
       "      <td>239.8</td>\n",
       "      <td>322.9</td>\n",
       "    </tr>\n",
       "    <tr>\n",
       "      <th>2</th>\n",
       "      <td>1957.0</td>\n",
       "      <td>90.3</td>\n",
       "      <td>137112.0</td>\n",
       "      <td>52.0</td>\n",
       "      <td>13739.0</td>\n",
       "      <td>12547.0</td>\n",
       "      <td>1192.0</td>\n",
       "      <td>615.3</td>\n",
       "      <td>267.1</td>\n",
       "      <td>348.2</td>\n",
       "    </tr>\n",
       "    <tr>\n",
       "      <th>3</th>\n",
       "      <td>1958.0</td>\n",
       "      <td>90.2</td>\n",
       "      <td>150781.0</td>\n",
       "      <td>56.0</td>\n",
       "      <td>14964.0</td>\n",
       "      <td>13499.0</td>\n",
       "      <td>1465.0</td>\n",
       "      <td>728.3</td>\n",
       "      <td>297.6</td>\n",
       "      <td>430.7</td>\n",
       "    </tr>\n",
       "    <tr>\n",
       "      <th>4</th>\n",
       "      <td>1959.0</td>\n",
       "      <td>97.9</td>\n",
       "      <td>193067.0</td>\n",
       "      <td>52.0</td>\n",
       "      <td>14053.0</td>\n",
       "      <td>12707.0</td>\n",
       "      <td>1346.0</td>\n",
       "      <td>692.8</td>\n",
       "      <td>278.9</td>\n",
       "      <td>413.9</td>\n",
       "    </tr>\n",
       "  </tbody>\n",
       "</table>\n",
       "</div>"
      ],
      "text/plain": [
       "     year  netindex       nbi   bfr      tnf  underhundred  overhundred  \\\n",
       "0  1955.0      96.6  139915.0  42.0  10969.0       10113.0        856.0   \n",
       "1  1956.0      94.6  141163.0  48.0  12686.0       11615.0       1071.0   \n",
       "2  1957.0      90.3  137112.0  52.0  13739.0       12547.0       1192.0   \n",
       "3  1958.0      90.2  150781.0  56.0  14964.0       13499.0       1465.0   \n",
       "4  1959.0      97.9  193067.0  52.0  14053.0       12707.0       1346.0   \n",
       "\n",
       "     tcl  underhundredliab  overhundredliab  \n",
       "0  449.4             206.4            243.0  \n",
       "1  562.7             239.8            322.9  \n",
       "2  615.3             267.1            348.2  \n",
       "3  728.3             297.6            430.7  \n",
       "4  692.8             278.9            413.9  "
      ]
     },
     "execution_count": 6,
     "metadata": {},
     "output_type": "execute_result"
    }
   ],
   "source": [
    "##\n",
    "## Enter the code here\n",
    "##\n",
    "\n",
    "df.head()"
   ]
  },
  {
   "cell_type": "markdown",
   "metadata": {},
   "source": [
    "### <font color = blue> Print the last five (5) records."
   ]
  },
  {
   "cell_type": "code",
   "execution_count": 7,
   "metadata": {},
   "outputs": [
    {
     "data": {
      "text/html": [
       "<div>\n",
       "<style scoped>\n",
       "    .dataframe tbody tr th:only-of-type {\n",
       "        vertical-align: middle;\n",
       "    }\n",
       "\n",
       "    .dataframe tbody tr th {\n",
       "        vertical-align: top;\n",
       "    }\n",
       "\n",
       "    .dataframe thead th {\n",
       "        text-align: right;\n",
       "    }\n",
       "</style>\n",
       "<table border=\"1\" class=\"dataframe\">\n",
       "  <thead>\n",
       "    <tr style=\"text-align: right;\">\n",
       "      <th></th>\n",
       "      <th>year</th>\n",
       "      <th>netindex</th>\n",
       "      <th>nbi</th>\n",
       "      <th>bfr</th>\n",
       "      <th>tnf</th>\n",
       "      <th>underhundred</th>\n",
       "      <th>overhundred</th>\n",
       "      <th>tcl</th>\n",
       "      <th>underhundredliab</th>\n",
       "      <th>overhundredliab</th>\n",
       "    </tr>\n",
       "  </thead>\n",
       "  <tbody>\n",
       "    <tr>\n",
       "      <th>38</th>\n",
       "      <td>1993.0</td>\n",
       "      <td>121.1</td>\n",
       "      <td>706537.0</td>\n",
       "      <td>109.0</td>\n",
       "      <td>86133.0</td>\n",
       "      <td>61188.0</td>\n",
       "      <td>24945.0</td>\n",
       "      <td>47755.5</td>\n",
       "      <td>947.6</td>\n",
       "      <td>46807.9</td>\n",
       "    </tr>\n",
       "    <tr>\n",
       "      <th>39</th>\n",
       "      <td>1994.0</td>\n",
       "      <td>125.5</td>\n",
       "      <td>741778.0</td>\n",
       "      <td>86.0</td>\n",
       "      <td>71558.0</td>\n",
       "      <td>50814.0</td>\n",
       "      <td>20744.0</td>\n",
       "      <td>28977.9</td>\n",
       "      <td>845.0</td>\n",
       "      <td>28132.9</td>\n",
       "    </tr>\n",
       "    <tr>\n",
       "      <th>40</th>\n",
       "      <td>1995.0</td>\n",
       "      <td>0.0</td>\n",
       "      <td>766988.0</td>\n",
       "      <td>82.0</td>\n",
       "      <td>71128.0</td>\n",
       "      <td>49495.0</td>\n",
       "      <td>21633.0</td>\n",
       "      <td>37283.6</td>\n",
       "      <td>866.1</td>\n",
       "      <td>36417.4</td>\n",
       "    </tr>\n",
       "    <tr>\n",
       "      <th>41</th>\n",
       "      <td>1996.0</td>\n",
       "      <td>0.0</td>\n",
       "      <td>786482.0</td>\n",
       "      <td>80.0</td>\n",
       "      <td>71931.0</td>\n",
       "      <td>49667.0</td>\n",
       "      <td>22264.0</td>\n",
       "      <td>29568.7</td>\n",
       "      <td>914.9</td>\n",
       "      <td>28653.8</td>\n",
       "    </tr>\n",
       "    <tr>\n",
       "      <th>42</th>\n",
       "      <td>1997.0</td>\n",
       "      <td>0.0</td>\n",
       "      <td>798779.0</td>\n",
       "      <td>88.0</td>\n",
       "      <td>83384.0</td>\n",
       "      <td>56050.0</td>\n",
       "      <td>27334.0</td>\n",
       "      <td>37436.9</td>\n",
       "      <td>1111.3</td>\n",
       "      <td>36325.6</td>\n",
       "    </tr>\n",
       "  </tbody>\n",
       "</table>\n",
       "</div>"
      ],
      "text/plain": [
       "      year  netindex       nbi    bfr      tnf  underhundred  overhundred  \\\n",
       "38  1993.0     121.1  706537.0  109.0  86133.0       61188.0      24945.0   \n",
       "39  1994.0     125.5  741778.0   86.0  71558.0       50814.0      20744.0   \n",
       "40  1995.0       0.0  766988.0   82.0  71128.0       49495.0      21633.0   \n",
       "41  1996.0       0.0  786482.0   80.0  71931.0       49667.0      22264.0   \n",
       "42  1997.0       0.0  798779.0   88.0  83384.0       56050.0      27334.0   \n",
       "\n",
       "        tcl  underhundredliab  overhundredliab  \n",
       "38  47755.5             947.6          46807.9  \n",
       "39  28977.9             845.0          28132.9  \n",
       "40  37283.6             866.1          36417.4  \n",
       "41  29568.7             914.9          28653.8  \n",
       "42  37436.9            1111.3          36325.6  "
      ]
     },
     "execution_count": 7,
     "metadata": {},
     "output_type": "execute_result"
    }
   ],
   "source": [
    "##\n",
    "## Enter the code here\n",
    "##\n",
    "df.tail()"
   ]
  },
  {
   "cell_type": "markdown",
   "metadata": {},
   "source": [
    "## <font color = blue> Reset the row index to have year as the index and print the first five (5) records. </font>"
   ]
  },
  {
   "cell_type": "code",
   "execution_count": 8,
   "metadata": {},
   "outputs": [
    {
     "data": {
      "text/html": [
       "<div>\n",
       "<style scoped>\n",
       "    .dataframe tbody tr th:only-of-type {\n",
       "        vertical-align: middle;\n",
       "    }\n",
       "\n",
       "    .dataframe tbody tr th {\n",
       "        vertical-align: top;\n",
       "    }\n",
       "\n",
       "    .dataframe thead th {\n",
       "        text-align: right;\n",
       "    }\n",
       "</style>\n",
       "<table border=\"1\" class=\"dataframe\">\n",
       "  <thead>\n",
       "    <tr style=\"text-align: right;\">\n",
       "      <th></th>\n",
       "      <th>nbi</th>\n",
       "      <th>tnf</th>\n",
       "      <th>tcl</th>\n",
       "    </tr>\n",
       "    <tr>\n",
       "      <th>year</th>\n",
       "      <th></th>\n",
       "      <th></th>\n",
       "      <th></th>\n",
       "    </tr>\n",
       "  </thead>\n",
       "  <tbody>\n",
       "    <tr>\n",
       "      <th>1955.0</th>\n",
       "      <td>139915.0</td>\n",
       "      <td>10969.0</td>\n",
       "      <td>449.4</td>\n",
       "    </tr>\n",
       "    <tr>\n",
       "      <th>1956.0</th>\n",
       "      <td>141163.0</td>\n",
       "      <td>12686.0</td>\n",
       "      <td>562.7</td>\n",
       "    </tr>\n",
       "    <tr>\n",
       "      <th>1957.0</th>\n",
       "      <td>137112.0</td>\n",
       "      <td>13739.0</td>\n",
       "      <td>615.3</td>\n",
       "    </tr>\n",
       "    <tr>\n",
       "      <th>1958.0</th>\n",
       "      <td>150781.0</td>\n",
       "      <td>14964.0</td>\n",
       "      <td>728.3</td>\n",
       "    </tr>\n",
       "    <tr>\n",
       "      <th>1959.0</th>\n",
       "      <td>193067.0</td>\n",
       "      <td>14053.0</td>\n",
       "      <td>692.8</td>\n",
       "    </tr>\n",
       "  </tbody>\n",
       "</table>\n",
       "</div>"
      ],
      "text/plain": [
       "             nbi      tnf    tcl\n",
       "year                            \n",
       "1955.0  139915.0  10969.0  449.4\n",
       "1956.0  141163.0  12686.0  562.7\n",
       "1957.0  137112.0  13739.0  615.3\n",
       "1958.0  150781.0  14964.0  728.3\n",
       "1959.0  193067.0  14053.0  692.8"
      ]
     },
     "execution_count": 8,
     "metadata": {},
     "output_type": "execute_result"
    }
   ],
   "source": [
    "##\n",
    "## Enter the code here\n",
    "##\n",
    "\n",
    "del df['overhundredliab']\n",
    "del df['underhundredliab']\n",
    "del df['overhundred']\n",
    "del df['underhundred']\n",
    "del df['netindex']\n",
    "del df['bfr']\n",
    "\n",
    "#irrelevant data series were deleted in order to make things more readable\n",
    "\n",
    "df.set_index('year').head()"
   ]
  },
  {
   "cell_type": "markdown",
   "metadata": {},
   "source": [
    "## <font color = blue> Create and print a new variable that is the ratio of failures to liabilities. </font>"
   ]
  },
  {
   "cell_type": "code",
   "execution_count": 9,
   "metadata": {},
   "outputs": [
    {
     "data": {
      "text/plain": [
       "0     24.408100\n",
       "1     22.544873\n",
       "2     22.328945\n",
       "3     20.546478\n",
       "4     20.284353\n",
       "5     16.455359\n",
       "6     15.663701\n",
       "7     13.004285\n",
       "8     10.626941\n",
       "9     10.157237\n",
       "10    10.224711\n",
       "11     9.425561\n",
       "12     9.772368\n",
       "13    10.240170\n",
       "14     8.015060\n",
       "15     5.693400\n",
       "16     5.386822\n",
       "17     4.782522\n",
       "18     4.065518\n",
       "19     3.247519\n",
       "20     2.609926\n",
       "21     3.197290\n",
       "22     2.558395\n",
       "23     2.492093\n",
       "24     2.835720\n",
       "25     2.533279\n",
       "26     2.414596\n",
       "27     1.595562\n",
       "28     1.949493\n",
       "29     1.779313\n",
       "30     1.550001\n",
       "31     1.377694\n",
       "32     1.759917\n",
       "33     1.442827\n",
       "34     1.189757\n",
       "35     1.082254\n",
       "36     0.910299\n",
       "37     1.029173\n",
       "38     1.803625\n",
       "39     2.469399\n",
       "40     1.907756\n",
       "41     2.432674\n",
       "42     2.227321\n",
       "Name: rftl, dtype: float64"
      ]
     },
     "execution_count": 9,
     "metadata": {},
     "output_type": "execute_result"
    }
   ],
   "source": [
    "##\n",
    "## Enter the code here\n",
    "##\n",
    "# ratio of failures to liabilities will have the name rftl\n",
    "df['rftl']=df['tnf']/df['tcl']\n",
    "df['rftl']"
   ]
  },
  {
   "cell_type": "markdown",
   "metadata": {},
   "source": [
    "## <font color = blue> Interpret the ratio you just created. </font>"
   ]
  },
  {
   "cell_type": "markdown",
   "metadata": {},
   "source": [
    "This is a metric of failures to liabilities. When it increases, that means firms are failing at increasing frequency or taking on debt at lower levels. I predict that during expansions, lending increases, and failures decrease. Ergo, a high ratio of failures to liabilities indicates a recession and a low ratio indicates an expansion."
   ]
  },
  {
   "cell_type": "markdown",
   "metadata": {},
   "source": [
    "## <font color = blue> Create and print a new variable that is incorporations lagged one period. </font>"
   ]
  },
  {
   "cell_type": "code",
   "execution_count": 10,
   "metadata": {},
   "outputs": [
    {
     "data": {
      "text/plain": [
       "0          NaN\n",
       "1     139915.0\n",
       "2     141163.0\n",
       "3     137112.0\n",
       "4     150781.0\n",
       "5     193067.0\n",
       "6     182713.0\n",
       "7     181535.0\n",
       "8     182057.0\n",
       "9     186404.0\n",
       "10    197724.0\n",
       "11    203897.0\n",
       "12    200010.0\n",
       "13    206569.0\n",
       "14    233635.0\n",
       "15    274267.0\n",
       "16    264209.0\n",
       "17    287577.0\n",
       "18    316601.0\n",
       "19    329358.0\n",
       "20    319149.0\n",
       "21    326345.0\n",
       "22    375766.0\n",
       "23    436170.0\n",
       "24    478019.0\n",
       "25    524565.0\n",
       "26    533520.0\n",
       "27    581242.0\n",
       "28    566942.0\n",
       "29    600420.0\n",
       "30    634991.0\n",
       "31    664235.0\n",
       "32    702738.0\n",
       "33    685572.0\n",
       "34    685095.0\n",
       "35    676565.0\n",
       "36    647366.0\n",
       "37    628604.0\n",
       "38    666800.0\n",
       "39    706537.0\n",
       "40    741778.0\n",
       "41    766988.0\n",
       "42    786482.0\n",
       "Name: nbiLag, dtype: float64"
      ]
     },
     "execution_count": 10,
     "metadata": {},
     "output_type": "execute_result"
    }
   ],
   "source": [
    "##\n",
    "## Enter the code here\n",
    "##\n",
    "#new variable will be called nbiLag\n",
    "df['nbiLag']=df['nbi']\n",
    "df['nbiLag'].shift()"
   ]
  },
  {
   "cell_type": "markdown",
   "metadata": {},
   "source": [
    "## <font color = blue> Create and print a new variable that is year-over-year percent change in incorporations. </font>"
   ]
  },
  {
   "cell_type": "code",
   "execution_count": 11,
   "metadata": {},
   "outputs": [
    {
     "data": {
      "text/plain": [
       "0          NaN\n",
       "1     0.008920\n",
       "2    -0.028697\n",
       "3     0.099692\n",
       "4     0.280446\n",
       "5    -0.053629\n",
       "6    -0.006447\n",
       "7     0.002875\n",
       "8     0.023877\n",
       "9     0.060728\n",
       "10    0.031220\n",
       "11   -0.019064\n",
       "12    0.032793\n",
       "13    0.131026\n",
       "14    0.173912\n",
       "15   -0.036672\n",
       "16    0.088445\n",
       "17    0.100926\n",
       "18    0.040294\n",
       "19   -0.030997\n",
       "20    0.022547\n",
       "21    0.151438\n",
       "22    0.160749\n",
       "23    0.095947\n",
       "24    0.097373\n",
       "25    0.017071\n",
       "26    0.089447\n",
       "27   -0.024602\n",
       "28    0.059050\n",
       "29    0.057578\n",
       "30    0.046054\n",
       "31    0.057966\n",
       "32   -0.024427\n",
       "33   -0.000696\n",
       "34   -0.012451\n",
       "35   -0.043158\n",
       "36   -0.028982\n",
       "37    0.060763\n",
       "38    0.059594\n",
       "39    0.049878\n",
       "40    0.033986\n",
       "41    0.025416\n",
       "42    0.015635\n",
       "Name: nbiChng, dtype: float64"
      ]
     },
     "execution_count": 11,
     "metadata": {},
     "output_type": "execute_result"
    }
   ],
   "source": [
    "##\n",
    "## Enter the code here\n",
    "##\n",
    "# this new variable will be named nbiChng\n",
    "df['nbiChng']=df['nbi'].pct_change()\n",
    "df['nbiChng']"
   ]
  },
  {
   "cell_type": "markdown",
   "metadata": {},
   "source": [
    "Math function summary:\n",
    "\n",
    "exp, *, /, +, -, df.shift(), df.pct_change()"
   ]
  },
  {
   "cell_type": "markdown",
   "metadata": {},
   "source": [
    "## <font color = blue> Print a correlation matrix </font>"
   ]
  },
  {
   "cell_type": "code",
   "execution_count": 12,
   "metadata": {
    "scrolled": true
   },
   "outputs": [
    {
     "data": {
      "text/html": [
       "<div>\n",
       "<style scoped>\n",
       "    .dataframe tbody tr th:only-of-type {\n",
       "        vertical-align: middle;\n",
       "    }\n",
       "\n",
       "    .dataframe tbody tr th {\n",
       "        vertical-align: top;\n",
       "    }\n",
       "\n",
       "    .dataframe thead th {\n",
       "        text-align: right;\n",
       "    }\n",
       "</style>\n",
       "<table border=\"1\" class=\"dataframe\">\n",
       "  <thead>\n",
       "    <tr style=\"text-align: right;\">\n",
       "      <th></th>\n",
       "      <th>year</th>\n",
       "      <th>nbi</th>\n",
       "      <th>tnf</th>\n",
       "      <th>tcl</th>\n",
       "      <th>rftl</th>\n",
       "      <th>nbiLag</th>\n",
       "      <th>nbiChng</th>\n",
       "    </tr>\n",
       "  </thead>\n",
       "  <tbody>\n",
       "    <tr>\n",
       "      <th>year</th>\n",
       "      <td>1.000000</td>\n",
       "      <td>0.975994</td>\n",
       "      <td>0.811147</td>\n",
       "      <td>0.749606</td>\n",
       "      <td>-0.866306</td>\n",
       "      <td>0.975994</td>\n",
       "      <td>-0.143281</td>\n",
       "    </tr>\n",
       "    <tr>\n",
       "      <th>nbi</th>\n",
       "      <td>0.975994</td>\n",
       "      <td>1.000000</td>\n",
       "      <td>0.816394</td>\n",
       "      <td>0.733417</td>\n",
       "      <td>-0.797055</td>\n",
       "      <td>1.000000</td>\n",
       "      <td>-0.124952</td>\n",
       "    </tr>\n",
       "    <tr>\n",
       "      <th>tnf</th>\n",
       "      <td>0.811147</td>\n",
       "      <td>0.816394</td>\n",
       "      <td>1.000000</td>\n",
       "      <td>0.916073</td>\n",
       "      <td>-0.489270</td>\n",
       "      <td>0.816394</td>\n",
       "      <td>-0.248633</td>\n",
       "    </tr>\n",
       "    <tr>\n",
       "      <th>tcl</th>\n",
       "      <td>0.749606</td>\n",
       "      <td>0.733417</td>\n",
       "      <td>0.916073</td>\n",
       "      <td>1.000000</td>\n",
       "      <td>-0.519645</td>\n",
       "      <td>0.733417</td>\n",
       "      <td>-0.250257</td>\n",
       "    </tr>\n",
       "    <tr>\n",
       "      <th>rftl</th>\n",
       "      <td>-0.866306</td>\n",
       "      <td>-0.797055</td>\n",
       "      <td>-0.489270</td>\n",
       "      <td>-0.519645</td>\n",
       "      <td>1.000000</td>\n",
       "      <td>-0.797055</td>\n",
       "      <td>0.095814</td>\n",
       "    </tr>\n",
       "    <tr>\n",
       "      <th>nbiLag</th>\n",
       "      <td>0.975994</td>\n",
       "      <td>1.000000</td>\n",
       "      <td>0.816394</td>\n",
       "      <td>0.733417</td>\n",
       "      <td>-0.797055</td>\n",
       "      <td>1.000000</td>\n",
       "      <td>-0.124952</td>\n",
       "    </tr>\n",
       "    <tr>\n",
       "      <th>nbiChng</th>\n",
       "      <td>-0.143281</td>\n",
       "      <td>-0.124952</td>\n",
       "      <td>-0.248633</td>\n",
       "      <td>-0.250257</td>\n",
       "      <td>0.095814</td>\n",
       "      <td>-0.124952</td>\n",
       "      <td>1.000000</td>\n",
       "    </tr>\n",
       "  </tbody>\n",
       "</table>\n",
       "</div>"
      ],
      "text/plain": [
       "             year       nbi       tnf       tcl      rftl    nbiLag   nbiChng\n",
       "year     1.000000  0.975994  0.811147  0.749606 -0.866306  0.975994 -0.143281\n",
       "nbi      0.975994  1.000000  0.816394  0.733417 -0.797055  1.000000 -0.124952\n",
       "tnf      0.811147  0.816394  1.000000  0.916073 -0.489270  0.816394 -0.248633\n",
       "tcl      0.749606  0.733417  0.916073  1.000000 -0.519645  0.733417 -0.250257\n",
       "rftl    -0.866306 -0.797055 -0.489270 -0.519645  1.000000 -0.797055  0.095814\n",
       "nbiLag   0.975994  1.000000  0.816394  0.733417 -0.797055  1.000000 -0.124952\n",
       "nbiChng -0.143281 -0.124952 -0.248633 -0.250257  0.095814 -0.124952  1.000000"
      ]
     },
     "execution_count": 12,
     "metadata": {},
     "output_type": "execute_result"
    }
   ],
   "source": [
    "##\n",
    "## Enter the code here\n",
    "##\n",
    "df.corr()\n",
    "import seaborn as sns\n",
    "print(sns)"
   ]
  },
  {
   "cell_type": "markdown",
   "metadata": {},
   "source": [
    "# <font color = red> Post-Lab Questions </font>"
   ]
  },
  {
   "cell_type": "markdown",
   "metadata": {},
   "source": [
    "## <font color = blue> What can you observe about the correlation matrix? Explain. </font>"
   ]
  },
  {
   "cell_type": "markdown",
   "metadata": {},
   "source": [
    "This correlation matrix only contains values from -1 to 1. There is a diagonal series from the top left to the bottom right corner of the matrix where the correlation is consistently 1.0. This is because the correlation between a variable and itself is always 1. Every value below the diagonal is also reflected above the diagonal, because the correlation between X and Y is the same as the correlation between Y and X. The strongest positive correlation was the correlation between year and new business incorporations (R= 0.975994). The strongest negative correlation was between year and ratio of failures to liabilities (R=-0.866306). The weakest positive correlation was between ratio of failures to liabilities and year-over-year change in liabilities (R=0.095814). The weakest negative correlation was between year-over-year percent change in liabilities and new business incorporations (R=-0.124952)."
   ]
  },
  {
   "cell_type": "markdown",
   "metadata": {},
   "source": [
    "## <font color = blue> What is the relationship between failures and incorporations? Explain. </font>"
   ]
  },
  {
   "cell_type": "markdown",
   "metadata": {},
   "source": [
    "New Business Incorporations and Total Number of Failures are positively correlated (R=.816394). This does not imply causation either way. I theorize that as the population increases over time, more people start businesses, so there will be more businesses and failures of such. Thus, both variables would increase over time. This is one possible reason failures and incorporations could be correlated, but not causally related. On the other hand, Total Number of Failures and year-over-year percent change in incorporations are weakly negatively correlated (R=-0.248633). "
   ]
  },
  {
   "cell_type": "markdown",
   "metadata": {},
   "source": [
    "## <font color = blue> Do you see anything to support your testable hypothesis? Explain. </font>"
   ]
  },
  {
   "cell_type": "markdown",
   "metadata": {},
   "source": [
    "My testable hypothesis was that the correlation coefficient between Total Number of Failures and Total Amount of Current Liabilities would be negative. In fact, the correlation between those two variables is strongly positive (R=0.916073). We fail to reject the null hypothesis and my testable hypothesis has been falsified. "
   ]
  },
  {
   "cell_type": "markdown",
   "metadata": {},
   "source": [
    "## <font color = blue> Does the amount of liabilities have anything to do with incorporations and failures? How and why? </font>"
   ]
  },
  {
   "cell_type": "markdown",
   "metadata": {},
   "source": [
    "Total Amount of Current Liabilities and New Business Incorporations are positively correlated (R=0.733417). Total Amount of Current Liabilities and Total Number of Failures are also positively correlated (R=0.916073). Neither of the correlations prove causation. I theorize that over time, population increases, and thus there are more businesses opening. At the same time, I predict that over time, the real money supply also increases, and thus more loans can be made, and thus Total Amount of Current Liabilities will increase. This is only one possible explanation why these variables could appear correlated. On the contrary, there could be causal relationship. New businesses may be eager to accumulate debt for their early growth, and thus an increase in New Business Incorporations would mean an increase in liabilities. An increase in liabilities may also reflect that firms revenues are insufficient to cover their costs, and these failing firms will eventually go bankrupt due to their high debt loads, leading to an increase in Total Number of Failures. The data does not verify or falsify these theories, nor are any of them mutually exclusive."
   ]
  }
 ],
 "metadata": {
  "kernelspec": {
   "display_name": "Python 3",
   "language": "python",
   "name": "python3"
  },
  "language_info": {
   "codemirror_mode": {
    "name": "ipython",
    "version": 3
   },
   "file_extension": ".py",
   "mimetype": "text/x-python",
   "name": "python",
   "nbconvert_exporter": "python",
   "pygments_lexer": "ipython3",
   "version": "3.6.5"
  }
 },
 "nbformat": 4,
 "nbformat_minor": 2
}
