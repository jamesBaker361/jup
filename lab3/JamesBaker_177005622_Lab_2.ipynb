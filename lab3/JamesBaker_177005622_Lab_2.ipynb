{
 "cells": [
  {
   "cell_type": "markdown",
   "metadata": {},
   "source": [
    "## Econometric 322 Lab \\#2 James Baker 177005622\n"
   ]
  },
  {
   "cell_type": "markdown",
   "metadata": {},
   "source": [
    "Collaboration Policy\n",
    "\n",
    "    1. Study groups are allowed but I expect students to understand and complete their own assignments and to hand in one assignment per student.\n",
    "    2. If you worked in a group, please put the names of your study group on your assignment on top.\n",
    "    3. Just like all other classes at Rutgers, the student Honor Code is taken seriously.\n",
    "    \n",
    "    The submitted assignmenst must be your work."
   ]
  },
  {
   "cell_type": "markdown",
   "metadata": {},
   "source": [
    "## <font color = blue> Assignment </font>\n",
    "\n",
    "Collect data on the following:\n",
    "\n",
    "- S&P Composite Stock Index (the S&P 500)\n",
    "- Real GDP\n",
    "- Civilian unemployment rate\n",
    "- Aaa Corporate Bond Yield\n",
    "\n",
    "The best source is the The Economic Report of the President (2013).  Try Table B-73 and Table B-95 for starts.  When you collect the data, notice that the time periods for the series are different.  Obviously, you can't use a series with missing data.  This is a very common problem.  So the data you collect should be for the same periods.  Collect all the data you can get."
   ]
  },
  {
   "cell_type": "markdown",
   "metadata": {},
   "source": [
    "# <font color = red> Documentation </font>"
   ]
  },
  {
   "cell_type": "markdown",
   "metadata": {},
   "source": [
    "## <font color = blue> Abstract </font>"
   ]
  },
  {
   "cell_type": "markdown",
   "metadata": {},
   "source": [
    "*In this lab, I studied various metrics of economic performance and how they changed over time. Specifically, Bond Yields, Real GDP, Unemployment, and the S&P 500 have all increased over time. Stocks, by their very nature, are investments and, tend to appreciate in value over time. Real GDP's increase over time could be attributed to technological progress. An increase in unemployment could be due to structural changes in the economy. Increase in bond yields could be attributed to growing government debts crowding out private borrowing. Real GDP Growth, in terms of year-over-year percentage, however, has declined over time, which could be attributed to slowing population growth. Both GDP Growth and S&P 500 Growth are higher during periods of low unemployment, and the absolute levels of Real GDP and the S&P 500 are positively correlated.This relationship is probably because when the economy is doing well, GDP is growing, sales are growing and jobs are plentiful. However, there may be other factors affecting these variables, and further analysis would be beneficial.*"
   ]
  },
  {
   "cell_type": "markdown",
   "metadata": {},
   "source": [
    "## <font color = blue> Data Dictionary </font>"
   ]
  },
  {
   "cell_type": "markdown",
   "metadata": {},
   "source": [
    "| Variable | Values   | Source | Mnemonic |\n",
    "|-|-|-|-|\n",
    "|  Real GDP | Billions of Chained 2012 Dollars | Federal Reserve Bank of St. Louis Economic Data | rgdp |\n",
    "| S&P Composite Stock Index (the S&P 500) | Standard  & Poor's  composite  index  (1941–43=10) | The Economic Report of the President (2013) Table B-95 | SP |\n",
    "| Aaa Corporate Bond Yield | Percentage Yield | The Economic Report of the President (2013) Table B-73 | aaa |\n",
    "| Civilian unemployment rate | number of unemployed as a percentage of the labor force | Federal Reserve Bank of St. Louis Economic Data | unemp |\n",
    "| Real GDP Growth | Percentage Change From Last Year | Federal Reserve Bank of St. Louis Economic Data | gdppct |\n",
    "| S&P Composite Stock Index (the S&P 500) Growth | Percentage Change From Last Year of Standard  & Poor's  composite  index  (1941–43=10) | The Economic Report of the President (2013) Table B-95 | sppct |"
   ]
  },
  {
   "cell_type": "markdown",
   "metadata": {},
   "source": [
    "# <font color = red> Pre-lab Questions </font>\n",
    "\n",
    "Before you do any work, please think about the relationship among these macro variables. In particular, think how you would answer the following if called on in class:"
   ]
  },
  {
   "cell_type": "markdown",
   "metadata": {},
   "source": [
    "## <font color = blue> What type of data is this and why (i.e., source and domain)? </font>"
   ]
  },
  {
   "cell_type": "markdown",
   "metadata": {},
   "source": [
    "This is time-series data, because we're comparing a few metrics for the United States over time. This data is secondary data because it comes from observational studies done by the government."
   ]
  },
  {
   "cell_type": "markdown",
   "metadata": {},
   "source": [
    "## <font color = blue> What pattern do you expect to see for stock prices?  Explain your answer. </font>"
   ]
  },
  {
   "cell_type": "markdown",
   "metadata": {},
   "source": [
    "I expect stock prices to be on a general upward trend, as historically stocks go up in value (almost no one would invest in something as risky in the stock market for an expected negative yield). However, I predict that while in the long run, stocks will appreciate, in any given year, or series of years, it would be possible to stock prices to go down, because of short-term problems like booms and busts, or the popping of an asset bubble. "
   ]
  },
  {
   "cell_type": "markdown",
   "metadata": {},
   "source": [
    "## <font color = blue> What relationship would you expect to see between stock prices and unemployment and real GDP?  Explain your answer. </font>"
   ]
  },
  {
   "cell_type": "markdown",
   "metadata": {},
   "source": [
    "I expect high stock prices growth and real GDP growth to be correlated because greater economic activity means greater spending. The households, governments, firms and foreigners who buy our exports are probably buying from publicly listed companies, or other companies that may buy some of their inputs from publicly listed companies. This translates to higher sales and thus higher profits for these companies, and thus higher stock prices. I expect stock prices and unemployment to generally move in opposite directions. Unemployed people have little or no income, so they would cut back their spending on consumer goods, which would reduce sales and profits of retailers, consumer-goods firms, and any firms that provide intermediate goods and services for consumer-facing firms. Thus, stock prices would stagnate or decline as unemployment rises. I expect real GDP and unemployment to be negatively related, as a growing economy should produce many jobs."
   ]
  },
  {
   "cell_type": "markdown",
   "metadata": {},
   "source": [
    "## <font color = blue> Is the level or the percent change (a.k.a., the year-over-year growth) of real GDP better to use?  Why? </font>"
   ]
  },
  {
   "cell_type": "markdown",
   "metadata": {},
   "source": [
    "The percentage change of real GDP is superior to the change in quantity because comparing the GDP growth from say 1950-1951 and 2000-2001 means comparing things of vastly different sizes (Real GDP was more than 5 times higher in the 2000s than in the 1950s). Not using percentage change would seriously overstate recent rates of economic growth and understate past rates of economic growth. However, when comparing real GDP to other metrics, like the S&P index, which use the level, as opposed to the percent change, it is appropriate to use the level of GDP, because it is not wise to compare absolute levels to percentages because that is not comparing like to like."
   ]
  },
  {
   "cell_type": "markdown",
   "metadata": {},
   "source": [
    "## <font color = blue> How do you think these variables will change over time? Do you think they will grow or decline or stay constant?  Explain your answer. </font>"
   ]
  },
  {
   "cell_type": "markdown",
   "metadata": {},
   "source": [
    "I expect unemployment to generally fall over time, because since the mid-20th century, unionization has declined, meaning labor markets are less rigid and labor has gotten cheaper over time. I expect real GDP to grow over time, as technology and thus productivity have advanced over time. Additionally, I expect GDP growth, in terms of percentage, to slowly decrease over time. This is because population growth has trended downwards over time, and as RGDP is not per capita, lower population growth could mean lower GDP growth, as fewer workers and consumers will be entering the labor force. I expect that bond yields will fall over time, as I believe that investors have become less risk-averse over time, as the world has gotten much less risky since the 1940s due to better government policy response to economic crisises, so investors accept a smaller premium for bearing risk, which means lower yields."
   ]
  },
  {
   "cell_type": "markdown",
   "metadata": {},
   "source": [
    "## <font color = blue> What are good testable hypotheses? </font>"
   ]
  },
  {
   "cell_type": "markdown",
   "metadata": {},
   "source": [
    "The testable hypotheses are that <br>\n",
    "1) as the year increases, stock prices will increase, because coventional wisdom says stocks grow in value over time. <br>\n",
    "2) as the year increases, bond yields will decrease, because risks have decreased over time. <br>\n",
    "3) as the year increases, real GDP will increase, because technological progress has made us more productive. <br>\n",
    "4) as the year increases, unemployment will decrease, because labor has gotten cheaper over time <br>\n",
    "5) as stock prices increase, real GDP will increase, because a strong economy boosts both, and a weak economy hurts both. <br>\n",
    "6) as the year increases, real GDP growth will decrease, because population growth has been slowing over time. <br>\n",
    "7) as stock price growth increases, unemployment will decrease, because a strong economy boosts share prices and reduces unemployment. <br>\n",
    "8) as real GDP growth increases, unemployment will decrease, because a strong economy produces many jobs.\n"
   ]
  },
  {
   "cell_type": "markdown",
   "metadata": {},
   "source": [
    "## <font color = blue> Write a tentative specific model.  Explain why you wrote the model this way. </font>"
   ]
  },
  {
   "cell_type": "markdown",
   "metadata": {},
   "source": [
    "1) *S&P 500* = $\\beta_0 + \\beta_1 * year +\\epsilon$ <br>\n",
    "2) *Bond Yields* = $\\beta_0+ \\beta_2  *year+\\epsilon$ <br>\n",
    "3) *Real GDP* =$ \\beta_0+\\beta_3*year+\\epsilon$<br>\n",
    "4) *Unemployment* = $\\beta_0+\\beta_4*year+\\epsilon$<br>\n",
    "5) *Real GDP* = $\\beta_0+\\beta_5*S\\& P\\ 500+\\epsilon$<br>\n",
    "6) *Real GDP Growth*=$\\beta_0+\\beta_6*year+\\epsilon$<br>\n",
    "7) *Unemployment*=$\\beta_0+\\beta_7*S\\&P\\ 500\\ Growth+\\epsilon$<br>\n",
    "8) *Unemployment*=$\\beta_0+\\beta_8*Real\\ GDP\\ Growth+\\epsilon$<br>\n",
    "The model is in the form *Y*=$\\beta_0+\\beta_i*X$ because we are trying to estimate the value of $\\beta_i$"
   ]
  },
  {
   "cell_type": "markdown",
   "metadata": {},
   "source": [
    "## <font color = blue> Write the statistical hypotheses to go along with your testable hypotheses.  Define the terms. </font>"
   ]
  },
  {
   "cell_type": "markdown",
   "metadata": {},
   "source": [
    "$H_O$ = Null Hypothesis: The Hypothesis that the observations are purely random <br>\n",
    "$H_A$ = Alternative Hypothesis: The Hypothesis that there is some correlation between variables <br>\n",
    "S&P 500 as a Function of Year Parameter: <br>\n",
    "$H_O: \\beta_1 = 0$\n",
    "\n",
    "$H_A: \\beta_1 > 0$\n",
    "\n",
    "Bond Yields as a Function of Year Parameter: <br>\n",
    "$H_O: \\beta_2 = 0$\n",
    "\n",
    "$H_A: \\beta_2 < 0$\n",
    "\n",
    "Real GDP as a Function of Year Parameter: <br>\n",
    "$H_O: \\beta_3 = 0$\n",
    "\n",
    "$H_A: \\beta_3 > 0$\n",
    "\n",
    "Unemployment as a Function of Year Parameter: <br>\n",
    "$H_O: \\beta_4 = 0$\n",
    "\n",
    "$H_A: \\beta_4 < 0$\n",
    "\n",
    "Real GDP as a S&P 500 Parameter: <br>\n",
    "$H_O: \\beta_5 = 0$\n",
    "\n",
    "$H_A: \\beta_5 > 0$\n",
    "\n",
    "Real GDP Growth as a Function of Year Parameter: <br>\n",
    "$H_O: \\beta_6 = 0$\n",
    "\n",
    "$H_A: \\beta_6 < 0$\n",
    "\n",
    "Unemployment as a Function of S&P 500 Growth Parameter: <br>\n",
    "$H_O: \\beta_7 = 0$\n",
    "\n",
    "$H_A: \\beta_7 < 0$\n",
    "\n",
    "Unemployment as a Function of Real GDP Growth Parameter: <br>\n",
    "$H_O: \\beta_8 = 0$\n",
    "\n",
    "$H_A: \\beta_8 < 0$"
   ]
  },
  {
   "cell_type": "markdown",
   "metadata": {},
   "source": [
    "# <font color = red> Tasks and Questions </font>"
   ]
  },
  {
   "cell_type": "markdown",
   "metadata": {},
   "source": [
    "## <font color = blue> Load the Pandas and Seaborn packages and give them aliases.  I recommend 'pd' and 'sns'. </font>"
   ]
  },
  {
   "cell_type": "code",
   "execution_count": 14,
   "metadata": {
    "collapsed": true
   },
   "outputs": [],
   "source": [
    "##\n",
    "## Enter the code here\n",
    "##\n",
    "import pandas as pd\n",
    "import matplotlib.pyplot as plt\n",
    "%matplotlib inline\n",
    "import seaborn as sns"
   ]
  },
  {
   "cell_type": "markdown",
   "metadata": {},
   "source": [
    "## <font color = blue> Import the data. </font>"
   ]
  },
  {
   "cell_type": "code",
   "execution_count": 15,
   "metadata": {
    "collapsed": true
   },
   "outputs": [],
   "source": [
    "##\n",
    "## Enter the code here\n",
    "##\n",
    "data = pd.read_csv(\"data.csv\")\n",
    "data[\"gdppct\"]=data[\"rgdp\"].pct_change()\n",
    "data[\"sppct\"]=data[\"SP\"].pct_change()"
   ]
  },
  {
   "cell_type": "markdown",
   "metadata": {},
   "source": [
    "## <font color = blue> Print the first five (5) records. </font>"
   ]
  },
  {
   "cell_type": "code",
   "execution_count": 16,
   "metadata": {},
   "outputs": [
    {
     "data": {
      "text/html": [
       "<div>\n",
       "<style scoped>\n",
       "    .dataframe tbody tr th:only-of-type {\n",
       "        vertical-align: middle;\n",
       "    }\n",
       "\n",
       "    .dataframe tbody tr th {\n",
       "        vertical-align: top;\n",
       "    }\n",
       "\n",
       "    .dataframe thead th {\n",
       "        text-align: right;\n",
       "    }\n",
       "</style>\n",
       "<table border=\"1\" class=\"dataframe\">\n",
       "  <thead>\n",
       "    <tr style=\"text-align: right;\">\n",
       "      <th></th>\n",
       "      <th>year</th>\n",
       "      <th>unemp</th>\n",
       "      <th>aaa</th>\n",
       "      <th>rgdp</th>\n",
       "      <th>SP</th>\n",
       "      <th>gdppct</th>\n",
       "      <th>sppct</th>\n",
       "    </tr>\n",
       "  </thead>\n",
       "  <tbody>\n",
       "    <tr>\n",
       "      <th>0</th>\n",
       "      <td>1949.0</td>\n",
       "      <td>6.050000</td>\n",
       "      <td>2.66</td>\n",
       "      <td>2106.55925</td>\n",
       "      <td>15.23</td>\n",
       "      <td>NaN</td>\n",
       "      <td>NaN</td>\n",
       "    </tr>\n",
       "    <tr>\n",
       "      <th>1</th>\n",
       "      <td>1950.0</td>\n",
       "      <td>5.208333</td>\n",
       "      <td>2.62</td>\n",
       "      <td>2289.54600</td>\n",
       "      <td>18.40</td>\n",
       "      <td>0.086865</td>\n",
       "      <td>0.208142</td>\n",
       "    </tr>\n",
       "    <tr>\n",
       "      <th>2</th>\n",
       "      <td>1951.0</td>\n",
       "      <td>3.283333</td>\n",
       "      <td>2.86</td>\n",
       "      <td>2473.75825</td>\n",
       "      <td>22.34</td>\n",
       "      <td>0.080458</td>\n",
       "      <td>0.214130</td>\n",
       "    </tr>\n",
       "    <tr>\n",
       "      <th>3</th>\n",
       "      <td>1952.0</td>\n",
       "      <td>3.025000</td>\n",
       "      <td>2.96</td>\n",
       "      <td>2574.89850</td>\n",
       "      <td>24.50</td>\n",
       "      <td>0.040885</td>\n",
       "      <td>0.096688</td>\n",
       "    </tr>\n",
       "    <tr>\n",
       "      <th>4</th>\n",
       "      <td>1953.0</td>\n",
       "      <td>2.925000</td>\n",
       "      <td>3.20</td>\n",
       "      <td>2695.61425</td>\n",
       "      <td>24.73</td>\n",
       "      <td>0.046882</td>\n",
       "      <td>0.009388</td>\n",
       "    </tr>\n",
       "  </tbody>\n",
       "</table>\n",
       "</div>"
      ],
      "text/plain": [
       "     year     unemp   aaa        rgdp     SP    gdppct     sppct\n",
       "0  1949.0  6.050000  2.66  2106.55925  15.23       NaN       NaN\n",
       "1  1950.0  5.208333  2.62  2289.54600  18.40  0.086865  0.208142\n",
       "2  1951.0  3.283333  2.86  2473.75825  22.34  0.080458  0.214130\n",
       "3  1952.0  3.025000  2.96  2574.89850  24.50  0.040885  0.096688\n",
       "4  1953.0  2.925000  3.20  2695.61425  24.73  0.046882  0.009388"
      ]
     },
     "execution_count": 16,
     "metadata": {},
     "output_type": "execute_result"
    }
   ],
   "source": [
    "##\n",
    "## Enter the code here\n",
    "##\n",
    "data.head()"
   ]
  },
  {
   "cell_type": "markdown",
   "metadata": {},
   "source": [
    "## <font color = blue> Reset the row index to have year as the index and print the first five (5) records. </font>"
   ]
  },
  {
   "cell_type": "code",
   "execution_count": 17,
   "metadata": {},
   "outputs": [
    {
     "data": {
      "text/html": [
       "<div>\n",
       "<style scoped>\n",
       "    .dataframe tbody tr th:only-of-type {\n",
       "        vertical-align: middle;\n",
       "    }\n",
       "\n",
       "    .dataframe tbody tr th {\n",
       "        vertical-align: top;\n",
       "    }\n",
       "\n",
       "    .dataframe thead th {\n",
       "        text-align: right;\n",
       "    }\n",
       "</style>\n",
       "<table border=\"1\" class=\"dataframe\">\n",
       "  <thead>\n",
       "    <tr style=\"text-align: right;\">\n",
       "      <th></th>\n",
       "      <th>unemp</th>\n",
       "      <th>aaa</th>\n",
       "      <th>rgdp</th>\n",
       "      <th>SP</th>\n",
       "      <th>gdppct</th>\n",
       "      <th>sppct</th>\n",
       "    </tr>\n",
       "    <tr>\n",
       "      <th>year</th>\n",
       "      <th></th>\n",
       "      <th></th>\n",
       "      <th></th>\n",
       "      <th></th>\n",
       "      <th></th>\n",
       "      <th></th>\n",
       "    </tr>\n",
       "  </thead>\n",
       "  <tbody>\n",
       "    <tr>\n",
       "      <th>1949.0</th>\n",
       "      <td>6.050000</td>\n",
       "      <td>2.66</td>\n",
       "      <td>2106.55925</td>\n",
       "      <td>15.23</td>\n",
       "      <td>NaN</td>\n",
       "      <td>NaN</td>\n",
       "    </tr>\n",
       "    <tr>\n",
       "      <th>1950.0</th>\n",
       "      <td>5.208333</td>\n",
       "      <td>2.62</td>\n",
       "      <td>2289.54600</td>\n",
       "      <td>18.40</td>\n",
       "      <td>0.086865</td>\n",
       "      <td>0.208142</td>\n",
       "    </tr>\n",
       "    <tr>\n",
       "      <th>1951.0</th>\n",
       "      <td>3.283333</td>\n",
       "      <td>2.86</td>\n",
       "      <td>2473.75825</td>\n",
       "      <td>22.34</td>\n",
       "      <td>0.080458</td>\n",
       "      <td>0.214130</td>\n",
       "    </tr>\n",
       "    <tr>\n",
       "      <th>1952.0</th>\n",
       "      <td>3.025000</td>\n",
       "      <td>2.96</td>\n",
       "      <td>2574.89850</td>\n",
       "      <td>24.50</td>\n",
       "      <td>0.040885</td>\n",
       "      <td>0.096688</td>\n",
       "    </tr>\n",
       "    <tr>\n",
       "      <th>1953.0</th>\n",
       "      <td>2.925000</td>\n",
       "      <td>3.20</td>\n",
       "      <td>2695.61425</td>\n",
       "      <td>24.73</td>\n",
       "      <td>0.046882</td>\n",
       "      <td>0.009388</td>\n",
       "    </tr>\n",
       "  </tbody>\n",
       "</table>\n",
       "</div>"
      ],
      "text/plain": [
       "           unemp   aaa        rgdp     SP    gdppct     sppct\n",
       "year                                                         \n",
       "1949.0  6.050000  2.66  2106.55925  15.23       NaN       NaN\n",
       "1950.0  5.208333  2.62  2289.54600  18.40  0.086865  0.208142\n",
       "1951.0  3.283333  2.86  2473.75825  22.34  0.080458  0.214130\n",
       "1952.0  3.025000  2.96  2574.89850  24.50  0.040885  0.096688\n",
       "1953.0  2.925000  3.20  2695.61425  24.73  0.046882  0.009388"
      ]
     },
     "execution_count": 17,
     "metadata": {},
     "output_type": "execute_result"
    }
   ],
   "source": [
    "##\n",
    "## Enter the code here\n",
    "##\n",
    "data.set_index(\"year\").head()"
   ]
  },
  {
   "cell_type": "markdown",
   "metadata": {},
   "source": [
    "## <font color = blue> Plot the stock prices with time on the x-axis. </font>"
   ]
  },
  {
   "cell_type": "code",
   "execution_count": 18,
   "metadata": {},
   "outputs": [
    {
     "data": {
      "text/plain": [
       "Text(0,0.5,\"Standard & Poor's composite index (1941–43=10)\")"
      ]
     },
     "execution_count": 18,
     "metadata": {},
     "output_type": "execute_result"
    },
    {
     "data": {
      "image/png": "[encoded data removed]",
      "text/plain": [
       "<Figure size 432x288 with 1 Axes>"
      ]
     },
     "metadata": {},
     "output_type": "display_data"
    }
   ],
   "source": [
    "##\n",
    "## Enter the code here\n",
    "##\n",
    "data.plot(x=\"year\",y=\"SP\")\n",
    "plt.title(\"S&P 500\")\n",
    "plt.xlabel(\"Year\")\n",
    "plt.ylabel(\"Standard & Poor's composite index (1941–43=10)\")"
   ]
  },
  {
   "cell_type": "markdown",
   "metadata": {},
   "source": [
    "## <font color = blue> Plot the bond yields with time on the x-axis. </font>"
   ]
  },
  {
   "cell_type": "code",
   "execution_count": 19,
   "metadata": {},
   "outputs": [
    {
     "data": {
      "text/plain": [
       "Text(0,0.5,'Aaa Corporate Bond Yield')"
      ]
     },
     "execution_count": 19,
     "metadata": {},
     "output_type": "execute_result"
    },
    {
     "data": {
      "image/png": "[encoded data removed]",
      "text/plain": [
       "<Figure size 432x288 with 1 Axes>"
      ]
     },
     "metadata": {},
     "output_type": "display_data"
    }
   ],
   "source": [
    "##\n",
    "## Enter code here\n",
    "##\n",
    "data.plot(x=\"year\",y=\"aaa\")\n",
    "plt.title(\"AAA Bond Yields\")\n",
    "plt.xlabel(\"Year\")\n",
    "plt.ylabel(\"Aaa Corporate Bond Yield\")"
   ]
  },
  {
   "cell_type": "markdown",
   "metadata": {},
   "source": [
    "## <font color = blue> Plot Real GDP with time on the x-axis. </font>"
   ]
  },
  {
   "cell_type": "code",
   "execution_count": 20,
   "metadata": {},
   "outputs": [
    {
     "data": {
      "text/plain": [
       "Text(0,0.5,'Billions of Chained 2012 Dollars')"
      ]
     },
     "execution_count": 20,
     "metadata": {},
     "output_type": "execute_result"
    },
    {
     "data": {
      "image/png": "[encoded data removed]",
      "text/plain": [
       "<Figure size 432x288 with 1 Axes>"
      ]
     },
     "metadata": {},
     "output_type": "display_data"
    }
   ],
   "source": [
    "##\n",
    "## Enter code here\n",
    "##\n",
    "data.plot(x=\"year\",y=\"rgdp\")\n",
    "plt.title(\"Real GDP\")\n",
    "plt.xlabel(\"Year\")\n",
    "plt.ylabel(\"Billions of Chained 2012 Dollars\")"
   ]
  },
  {
   "cell_type": "markdown",
   "metadata": {},
   "source": [
    "## <font color = blue> Plot the unemployment rate with time on the x-axis. </font>"
   ]
  },
  {
   "cell_type": "code",
   "execution_count": 21,
   "metadata": {},
   "outputs": [
    {
     "data": {
      "text/plain": [
       "Text(0,0.5,'Number of Unemployed as a Percentage of the Labor Force')"
      ]
     },
     "execution_count": 21,
     "metadata": {},
     "output_type": "execute_result"
    },
    {
     "data": {
      "image/png": "[encoded data removed]",
      "text/plain": [
       "<Figure size 432x288 with 1 Axes>"
      ]
     },
     "metadata": {},
     "output_type": "display_data"
    }
   ],
   "source": [
    "##\n",
    "## Enter code here\n",
    "##\n",
    "data.plot(x=\"year\",y=\"unemp\")\n",
    "plt.title(\"Civilian Unemployment Rate\")\n",
    "plt.xlabel(\"Year\")\n",
    "plt.ylabel(\"Number of Unemployed as a Percentage of the Labor Force\")"
   ]
  },
  {
   "cell_type": "markdown",
   "metadata": {},
   "source": [
    "## <font color = blue> Print and graph a correlation matrix. </font>"
   ]
  },
  {
   "cell_type": "code",
   "execution_count": 22,
   "metadata": {
    "scrolled": true
   },
   "outputs": [
    {
     "data": {
      "text/html": [
       "<div>\n",
       "<style scoped>\n",
       "    .dataframe tbody tr th:only-of-type {\n",
       "        vertical-align: middle;\n",
       "    }\n",
       "\n",
       "    .dataframe tbody tr th {\n",
       "        vertical-align: top;\n",
       "    }\n",
       "\n",
       "    .dataframe thead th {\n",
       "        text-align: right;\n",
       "    }\n",
       "</style>\n",
       "<table border=\"1\" class=\"dataframe\">\n",
       "  <thead>\n",
       "    <tr style=\"text-align: right;\">\n",
       "      <th></th>\n",
       "      <th>year</th>\n",
       "      <th>unemp</th>\n",
       "      <th>aaa</th>\n",
       "      <th>rgdp</th>\n",
       "      <th>SP</th>\n",
       "      <th>gdppct</th>\n",
       "      <th>sppct</th>\n",
       "    </tr>\n",
       "  </thead>\n",
       "  <tbody>\n",
       "    <tr>\n",
       "      <th>year</th>\n",
       "      <td>1.000000</td>\n",
       "      <td>0.296230</td>\n",
       "      <td>0.624695</td>\n",
       "      <td>0.979556</td>\n",
       "      <td>0.787159</td>\n",
       "      <td>-0.215046</td>\n",
       "      <td>-0.060501</td>\n",
       "    </tr>\n",
       "    <tr>\n",
       "      <th>unemp</th>\n",
       "      <td>0.296230</td>\n",
       "      <td>1.000000</td>\n",
       "      <td>0.651652</td>\n",
       "      <td>0.170279</td>\n",
       "      <td>-0.119941</td>\n",
       "      <td>-0.342133</td>\n",
       "      <td>0.047629</td>\n",
       "    </tr>\n",
       "    <tr>\n",
       "      <th>aaa</th>\n",
       "      <td>0.624695</td>\n",
       "      <td>0.651652</td>\n",
       "      <td>1.000000</td>\n",
       "      <td>0.487190</td>\n",
       "      <td>0.134328</td>\n",
       "      <td>-0.284890</td>\n",
       "      <td>-0.097619</td>\n",
       "    </tr>\n",
       "    <tr>\n",
       "      <th>rgdp</th>\n",
       "      <td>0.979556</td>\n",
       "      <td>0.170279</td>\n",
       "      <td>0.487190</td>\n",
       "      <td>1.000000</td>\n",
       "      <td>0.881609</td>\n",
       "      <td>-0.173817</td>\n",
       "      <td>-0.053830</td>\n",
       "    </tr>\n",
       "    <tr>\n",
       "      <th>SP</th>\n",
       "      <td>0.787159</td>\n",
       "      <td>-0.119941</td>\n",
       "      <td>0.134328</td>\n",
       "      <td>0.881609</td>\n",
       "      <td>1.000000</td>\n",
       "      <td>-0.077077</td>\n",
       "      <td>0.002738</td>\n",
       "    </tr>\n",
       "    <tr>\n",
       "      <th>gdppct</th>\n",
       "      <td>-0.215046</td>\n",
       "      <td>-0.342133</td>\n",
       "      <td>-0.284890</td>\n",
       "      <td>-0.173817</td>\n",
       "      <td>-0.077077</td>\n",
       "      <td>1.000000</td>\n",
       "      <td>0.351747</td>\n",
       "    </tr>\n",
       "    <tr>\n",
       "      <th>sppct</th>\n",
       "      <td>-0.060501</td>\n",
       "      <td>0.047629</td>\n",
       "      <td>-0.097619</td>\n",
       "      <td>-0.053830</td>\n",
       "      <td>0.002738</td>\n",
       "      <td>0.351747</td>\n",
       "      <td>1.000000</td>\n",
       "    </tr>\n",
       "  </tbody>\n",
       "</table>\n",
       "</div>"
      ],
      "text/plain": [
       "            year     unemp       aaa      rgdp        SP    gdppct     sppct\n",
       "year    1.000000  0.296230  0.624695  0.979556  0.787159 -0.215046 -0.060501\n",
       "unemp   0.296230  1.000000  0.651652  0.170279 -0.119941 -0.342133  0.047629\n",
       "aaa     0.624695  0.651652  1.000000  0.487190  0.134328 -0.284890 -0.097619\n",
       "rgdp    0.979556  0.170279  0.487190  1.000000  0.881609 -0.173817 -0.053830\n",
       "SP      0.787159 -0.119941  0.134328  0.881609  1.000000 -0.077077  0.002738\n",
       "gdppct -0.215046 -0.342133 -0.284890 -0.173817 -0.077077  1.000000  0.351747\n",
       "sppct  -0.060501  0.047629 -0.097619 -0.053830  0.002738  0.351747  1.000000"
      ]
     },
     "execution_count": 22,
     "metadata": {},
     "output_type": "execute_result"
    }
   ],
   "source": [
    "##\n",
    "## Enter the code here\n",
    "##\n",
    "data.corr()\n",
    "#plt.matshow(data.corr())"
   ]
  },
  {
   "cell_type": "code",
   "execution_count": 23,
   "metadata": {},
   "outputs": [
    {
     "data": {
      "text/plain": [
       "<matplotlib.image.AxesImage at 0x1a1894ddd8>"
      ]
     },
     "execution_count": 23,
     "metadata": {},
     "output_type": "execute_result"
    },
    {
     "data": {
      "image/png": "[encoded data removed]",
      "text/plain": [
       "<Figure size 288x288 with 1 Axes>"
      ]
     },
     "metadata": {},
     "output_type": "display_data"
    }
   ],
   "source": [
    "plt.matshow(data.corr())"
   ]
  },
  {
   "cell_type": "markdown",
   "metadata": {},
   "source": [
    "# <font color = red> Post-Lab Questions </font>"
   ]
  },
  {
   "cell_type": "markdown",
   "metadata": {},
   "source": [
    "## <font color = blue> What patterns do you see in stock prices? </font>"
   ]
  },
  {
   "cell_type": "markdown",
   "metadata": {},
   "source": [
    "Stock prices rise steadily, with a few small fluctuations, before picking up pace in the mid-1980s and then increasing faster in the mid-1990s. Then around the year 2000, stock prices plummeted, which I would speculate reflects the end of the dot-com bubble."
   ]
  },
  {
   "cell_type": "markdown",
   "metadata": {},
   "source": [
    "## <font color = blue> What patterns do you see in bond yields? </font>"
   ]
  },
  {
   "cell_type": "markdown",
   "metadata": {},
   "source": [
    "Bond yields have somewhat increased over time, but it has not been steady. Yields peaked in the early 1980s, and have trended downwards since. However, they have increased over time."
   ]
  },
  {
   "cell_type": "markdown",
   "metadata": {},
   "source": [
    "## <font color = blue> How are bond yields related to stock prices?  Do you see this in your graphs? </font>"
   ]
  },
  {
   "cell_type": "markdown",
   "metadata": {},
   "source": [
    "There is a weak positive correlation between bond yields and stock prices (R=0.134328), as they both have increased over time. Unsurprisingly, the graphs do not look very similar. Bond yields peak, and then begin to fall, more than ten years before stock prices peak."
   ]
  },
  {
   "cell_type": "markdown",
   "metadata": {},
   "source": [
    "## <font color = blue> What can you observe about the correlation matrix? Explain. </font>"
   ]
  },
  {
   "cell_type": "markdown",
   "metadata": {},
   "source": [
    "The strongest, negative correlation was between Unemployment and Real GDP Growth (R=-0.342133). This may be because when GDP is growing, many jobs are created, and fewer people have trouble finding the right job. The strongest positive correlation (exempting the cases wherein a variable had a correlation of 1 with itself) was between year and real GDP (R=0.979556). This supports the idea that real GDP grows over time, as population and productivity grow over time. "
   ]
  },
  {
   "cell_type": "markdown",
   "metadata": {},
   "source": [
    "## <font color = blue> Do you see anything to support your testable hypothesis? Explain. </font>"
   ]
  },
  {
   "cell_type": "markdown",
   "metadata": {},
   "source": [
    "1) $\\hat \\beta_1$ = 0.787159 > 0 This supports my hypothesis that the S&P 500 has increased over time <br>\n",
    "2) $\\hat \\beta_2$ = 0.624695 > 0 This does not support my hypothesis that Bond Yields have decreased over time. An alternative theory is that government debt and deficits have increased over time, which has meant an increase in demand for funds, thus raising rates <br>\n",
    "3) $\\hat \\beta_3$ = 0.979556 > 0 This supports my hypothesis that Real GDP has increased over time <br>\n",
    "4) $\\hat \\beta_4$ = 0.296230 > 0 This does not support my hypothesis that Unemployment has fallen over time. A theory as to why this may be is that workers have not adapted to automation, and as technology increases over time, structural unemployment has risen <br>\n",
    "5) $\\hat \\beta_5$ = 0.881609 > 0 This supports my hypothesis that Real GDP and the S&P 500 move in tandem <br>\n",
    "6) $\\hat \\beta_6$ = -0.215046 < 0 This supports my hypothesis that Real GDP Growth has declined over time <br>\n",
    "7) $\\hat \\beta_7$ = -0.119941 < 0 This supports my hypothesis that Unemployment and S&P Growth move in opposite directions <br>\n",
    "8) $\\hat \\beta_8$ = -0.342133 < 0 This supports my hypothesis that Unemployment and GDP Growth move in opposite directions"
   ]
  }
 ],
 "metadata": {
  "kernelspec": {
   "display_name": "Python 3",
   "language": "python",
   "name": "python3"
  },
  "language_info": {
   "codemirror_mode": {
    "name": "ipython",
    "version": 3
   },
   "file_extension": ".py",
   "mimetype": "text/x-python",
   "name": "python",
   "nbconvert_exporter": "python",
   "pygments_lexer": "ipython3",
   "version": "3.6.5"
  }
 },
 "nbformat": 4,
 "nbformat_minor": 2
}
