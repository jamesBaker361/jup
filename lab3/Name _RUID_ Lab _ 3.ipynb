{
 "cells": [
  {
   "cell_type": "markdown",
   "metadata": {},
   "source": [
    "# Econometric 322 Lab \\#3"
   ]
  },
  {
   "cell_type": "markdown",
   "metadata": {},
   "source": [
    "Collaboration Policy\n",
    "\n",
    "    1. Study groups are allowed but I expect students to understand and complete their own \n",
    "    assignments and to hand in one assignment per student.\n",
    "    2. If you worked in a group, please put the names of your study group on your assignment \n",
    "    on top.\n",
    "    3. Just like all other classes at Rutgers, the student Honor Code is taken seriously.\n",
    "    \n",
    "    The submitted assignmenst must be your work."
   ]
  },
  {
   "cell_type": "markdown",
   "metadata": {},
   "source": [
    "## <font color = blue> Assignment </font>\n",
    "\n",
    "Collect data on the following:\n",
    "\n",
    "- Physicians and nurses by state\n",
    "\n",
    "Use the reference in Lesson 3."
   ]
  },
  {
   "cell_type": "markdown",
   "metadata": {},
   "source": [
    "# <font color = red> Documentation </font>"
   ]
  },
  {
   "cell_type": "markdown",
   "metadata": {},
   "source": [
    "## <font color = blue> Abstract </font>"
   ]
  },
  {
   "cell_type": "markdown",
   "metadata": {},
   "source": [
    "*In this lab I observed the distribution of Physicians per state in the United States. Specifically, the distribution is not Normal. It is skewed to the right. This makes sense, as states with larger populations have larger quantities of Physicians, and the distribution of states is also skewed.*"
   ]
  },
  {
   "cell_type": "markdown",
   "metadata": {},
   "source": [
    "## <font color = blue> Data Dictionary </font>"
   ]
  },
  {
   "cell_type": "markdown",
   "metadata": {},
   "source": [
    "| Variable | Values   | Source | Mnemonic |\n",
    "|----------|----------|--------|---------|\n",
    "|  Physicians Per State | 1000s of Physicians | US Census Statistical Abstract of the United States: 2012 Section 3 Health and Nutrition | Phys |\n",
    "| Physicians per 100000 Per State | Physicians per 100000 People | US Census Statistical Abstract of the United States: 2012 Section 3 Health and Nutrition | Phys100k |\n",
    "| Nurses Per State | 1000s of Nurses | US Census Statistical Abstract of the United States: 2012 Section 3 Health and Nutrition | Nurs |\n",
    "| Nurses Per 100000 Per State | Nurses per 100000 People | US Census Statistical Abstract of the United States: 2012 Section 3 Health and Nutrition | Nurs100k |\n",
    "| State Population | 1000s of Individuals | American FactFinder Annual Estimates of the Resident Population for Selected Age Groups by Sex for the United States, States, Counties, and Puerto Rico Commonwealth and Municipios: April 1, 2010 to July 1, 2012 Population Estimates | Pop |\n",
    "| Region | Name of Region | US Census 2010 Geographic Terms and Concepts - Census Divisions and Census Regions | Region |\n",
    "| Division (Each Region can be further broken up into Divisions) | Name of Division | US Census 2010 Geographic Terms and Concepts - Census Divisions and Census Regions | Division |"
   ]
  },
  {
   "cell_type": "markdown",
   "metadata": {},
   "source": [
    "# <font color = red> Pre-lab Questions </font>\n",
    "\n",
    "Before you do any work, please think about the relationship among these macro variables. In particular, think how you would answer the following if called on in class:"
   ]
  },
  {
   "cell_type": "markdown",
   "metadata": {},
   "source": [
    "## <font color = blue> What type of data is this and why (i.e., source and domain)? </font>"
   ]
  },
  {
   "cell_type": "markdown",
   "metadata": {},
   "source": [
    "This is cross-sectional data, because we're comparing a few things at the same point in time. It is secondary data, because it is based on information collected by observational studies by the government."
   ]
  },
  {
   "cell_type": "markdown",
   "metadata": {},
   "source": [
    "## <font color = blue> What pattern do you expect to see for physicians by state?  Explain your answer. </font>"
   ]
  },
  {
   "cell_type": "markdown",
   "metadata": {},
   "source": [
    "I expect states with larger to have larger quantities of physicians. Larger populations will require more physicians than smaller populations, holding all else equal. While different demographic factors may make some types of doctors more or less common (I would imagine Geriatric care is very big in Florida), physicians are useful for almost everyone, and I imagine that the ratio of physicians to poulation would remain fairly constant across states."
   ]
  },
  {
   "cell_type": "markdown",
   "metadata": {},
   "source": [
    "## <font color = blue> What should you do to the physician and nurse data before you do any analytical work? </font>"
   ]
  },
  {
   "cell_type": "markdown",
   "metadata": {},
   "source": [
    "The numbers must be scaled. Currently, the data has the quantity of nurses and physicians. So the numbers don't get too large and unworkable, we need to divide them by 1000. This has already been done for state population (its already in units of 1000) so we don't have to worry about consistency."
   ]
  },
  {
   "cell_type": "markdown",
   "metadata": {},
   "source": [
    "# <font color = red> Tasks and Questions </font>"
   ]
  },
  {
   "cell_type": "markdown",
   "metadata": {},
   "source": [
    "## <font color = blue> Load the Pandas and Seaborn packages and give them aliases.  I recommend 'pd' and 'sns'. </font>"
   ]
  },
  {
   "cell_type": "code",
   "execution_count": 399,
   "metadata": {
    "collapsed": true
   },
   "outputs": [],
   "source": [
    "##\n",
    "## Enter the code here\n",
    "##\n",
    "import pandas as pd\n",
    "import statsmodels.api as sm\n",
    "import matplotlib.pyplot as plt\n",
    "import seaborn as sns\n",
    "import numpy as np"
   ]
  },
  {
   "cell_type": "markdown",
   "metadata": {},
   "source": [
    "## <font color = blue> Import the physician and nurse data.  Set the row index to the state names. </font>"
   ]
  },
  {
   "cell_type": "code",
   "execution_count": 400,
   "metadata": {
    "collapsed": true
   },
   "outputs": [],
   "source": [
    "##\n",
    "## Enter the code here\n",
    "##\n",
    "dfmed=pd.read_csv(\"med.csv\",index_col=\"State\")"
   ]
  },
  {
   "cell_type": "markdown",
   "metadata": {},
   "source": [
    "## <font color = blue> Print the first five (5) records. </font>"
   ]
  },
  {
   "cell_type": "code",
   "execution_count": 401,
   "metadata": {},
   "outputs": [
    {
     "data": {
      "text/html": [
       "<div>\n",
       "<style scoped>\n",
       "    .dataframe tbody tr th:only-of-type {\n",
       "        vertical-align: middle;\n",
       "    }\n",
       "\n",
       "    .dataframe tbody tr th {\n",
       "        vertical-align: top;\n",
       "    }\n",
       "\n",
       "    .dataframe thead th {\n",
       "        text-align: right;\n",
       "    }\n",
       "</style>\n",
       "<table border=\"1\" class=\"dataframe\">\n",
       "  <thead>\n",
       "    <tr style=\"text-align: right;\">\n",
       "      <th></th>\n",
       "      <th>Phys</th>\n",
       "      <th>Phys100k</th>\n",
       "      <th>Nurs</th>\n",
       "      <th>Nurs100k</th>\n",
       "    </tr>\n",
       "    <tr>\n",
       "      <th>State</th>\n",
       "      <th></th>\n",
       "      <th></th>\n",
       "      <th></th>\n",
       "      <th></th>\n",
       "    </tr>\n",
       "  </thead>\n",
       "  <tbody>\n",
       "    <tr>\n",
       "      <th>Alabama</th>\n",
       "      <td>10265.0</td>\n",
       "      <td>218.0</td>\n",
       "      <td>42880.0</td>\n",
       "      <td>911.0</td>\n",
       "    </tr>\n",
       "    <tr>\n",
       "      <th>Alaska</th>\n",
       "      <td>1574.0</td>\n",
       "      <td>225.0</td>\n",
       "      <td>5010.0</td>\n",
       "      <td>717.0</td>\n",
       "    </tr>\n",
       "    <tr>\n",
       "      <th>Arizona</th>\n",
       "      <td>14051.0</td>\n",
       "      <td>213.0</td>\n",
       "      <td>38570.0</td>\n",
       "      <td>585.0</td>\n",
       "    </tr>\n",
       "    <tr>\n",
       "      <th>Arkansas</th>\n",
       "      <td>5902.0</td>\n",
       "      <td>204.0</td>\n",
       "      <td>23050.0</td>\n",
       "      <td>798.0</td>\n",
       "    </tr>\n",
       "    <tr>\n",
       "      <th>California</th>\n",
       "      <td>100131.0</td>\n",
       "      <td>271.0</td>\n",
       "      <td>233030.0</td>\n",
       "      <td>630.0</td>\n",
       "    </tr>\n",
       "  </tbody>\n",
       "</table>\n",
       "</div>"
      ],
      "text/plain": [
       "                Phys  Phys100k      Nurs  Nurs100k\n",
       "State                                             \n",
       "Alabama      10265.0     218.0   42880.0     911.0\n",
       "Alaska        1574.0     225.0    5010.0     717.0\n",
       "Arizona      14051.0     213.0   38570.0     585.0\n",
       "Arkansas      5902.0     204.0   23050.0     798.0\n",
       "California  100131.0     271.0  233030.0     630.0"
      ]
     },
     "execution_count": 401,
     "metadata": {},
     "output_type": "execute_result"
    }
   ],
   "source": [
    "##\n",
    "## Enter the code here\n",
    "##\n",
    "dfmed.head()"
   ]
  },
  {
   "cell_type": "markdown",
   "metadata": {},
   "source": [
    "## <font color = blue> Import the state information (see Lesson \\#3).  Set the row index to the state names.</font>"
   ]
  },
  {
   "cell_type": "code",
   "execution_count": 402,
   "metadata": {
    "collapsed": true
   },
   "outputs": [],
   "source": [
    "##\n",
    "## Enter the code here\n",
    "##\n",
    "dfstate=pd.read_csv(\"states2010.csv\",index_col=\"State\")"
   ]
  },
  {
   "cell_type": "markdown",
   "metadata": {},
   "source": [
    "## <font color = blue> Print the first five (5) records. </font>"
   ]
  },
  {
   "cell_type": "code",
   "execution_count": 403,
   "metadata": {},
   "outputs": [
    {
     "data": {
      "text/html": [
       "<div>\n",
       "<style scoped>\n",
       "    .dataframe tbody tr th:only-of-type {\n",
       "        vertical-align: middle;\n",
       "    }\n",
       "\n",
       "    .dataframe tbody tr th {\n",
       "        vertical-align: top;\n",
       "    }\n",
       "\n",
       "    .dataframe thead th {\n",
       "        text-align: right;\n",
       "    }\n",
       "</style>\n",
       "<table border=\"1\" class=\"dataframe\">\n",
       "  <thead>\n",
       "    <tr style=\"text-align: right;\">\n",
       "      <th></th>\n",
       "      <th>Pop</th>\n",
       "      <th>Region</th>\n",
       "      <th>Division</th>\n",
       "    </tr>\n",
       "    <tr>\n",
       "      <th>State</th>\n",
       "      <th></th>\n",
       "      <th></th>\n",
       "      <th></th>\n",
       "    </tr>\n",
       "  </thead>\n",
       "  <tbody>\n",
       "    <tr>\n",
       "      <th>Alabama</th>\n",
       "      <td>4780</td>\n",
       "      <td>South</td>\n",
       "      <td>East South Central</td>\n",
       "    </tr>\n",
       "    <tr>\n",
       "      <th>Alaska</th>\n",
       "      <td>710</td>\n",
       "      <td>West</td>\n",
       "      <td>Pacific</td>\n",
       "    </tr>\n",
       "    <tr>\n",
       "      <th>Arizona</th>\n",
       "      <td>6392</td>\n",
       "      <td>West</td>\n",
       "      <td>Mountain</td>\n",
       "    </tr>\n",
       "    <tr>\n",
       "      <th>Arkansas</th>\n",
       "      <td>2916</td>\n",
       "      <td>South</td>\n",
       "      <td>West South Central</td>\n",
       "    </tr>\n",
       "    <tr>\n",
       "      <th>California</th>\n",
       "      <td>37254</td>\n",
       "      <td>West</td>\n",
       "      <td>Pacific</td>\n",
       "    </tr>\n",
       "  </tbody>\n",
       "</table>\n",
       "</div>"
      ],
      "text/plain": [
       "              Pop Region            Division\n",
       "State                                       \n",
       "Alabama      4780  South  East South Central\n",
       "Alaska        710   West             Pacific\n",
       "Arizona      6392   West            Mountain\n",
       "Arkansas     2916  South  West South Central\n",
       "California  37254   West             Pacific"
      ]
     },
     "execution_count": 403,
     "metadata": {},
     "output_type": "execute_result"
    }
   ],
   "source": [
    "##\n",
    "## Enter the code here\n",
    "##\n",
    "dfstate.head()"
   ]
  },
  {
   "cell_type": "markdown",
   "metadata": {},
   "source": [
    "## <font color = blue> Merge the physician/nurse data and the state data as described in Lesson \\#3. </font>"
   ]
  },
  {
   "cell_type": "code",
   "execution_count": 404,
   "metadata": {},
   "outputs": [
    {
     "data": {
      "text/plain": [
       "(51, 7)"
      ]
     },
     "execution_count": 404,
     "metadata": {},
     "output_type": "execute_result"
    }
   ],
   "source": [
    "##\n",
    "## Enter the code here\n",
    "##\n",
    "result = pd.merge( dfmed, dfstate, left_index = True, right_index = True, how = 'inner' )\n",
    "result.shape"
   ]
  },
  {
   "cell_type": "markdown",
   "metadata": {},
   "source": [
    "## <font color = blue>Recall your answer to the question above regarding what you should do to the physician and nurse data before you do any analytical work.  Make the correction here.   Be sure to use the corrected data for the following tasks.</font>"
   ]
  },
  {
   "cell_type": "code",
   "execution_count": 405,
   "metadata": {
    "collapsed": true
   },
   "outputs": [],
   "source": [
    "##\n",
    "## Enter the code here\n",
    "##\n",
    "result[\"Phys\"]=result[\"Phys\"]/1000\n",
    "result[\"Nurs\"]=result[\"Nurs\"]/1000\n",
    "result[\"Pop\"]=result[\"Pop\"]/1000"
   ]
  },
  {
   "cell_type": "markdown",
   "metadata": {},
   "source": [
    "## <font color = blue> Create summary statistics for the physician and nurse data. </font>"
   ]
  },
  {
   "cell_type": "code",
   "execution_count": 406,
   "metadata": {},
   "outputs": [
    {
     "data": {
      "text/plain": [
       "count     51.000000\n",
       "mean      16.440255\n",
       "std       19.257689\n",
       "min        1.020000\n",
       "25%        4.655500\n",
       "50%       10.403000\n",
       "75%       21.600000\n",
       "max      100.131000\n",
       "Name: Phys, dtype: float64"
      ]
     },
     "execution_count": 406,
     "metadata": {},
     "output_type": "execute_result"
    }
   ],
   "source": [
    "##\n",
    "## Enter the code here\n",
    "##\n",
    "result[\"Phys\"].describe()"
   ]
  },
  {
   "cell_type": "code",
   "execution_count": 407,
   "metadata": {},
   "outputs": [
    {
     "data": {
      "text/plain": [
       "count     51.000000\n",
       "mean      50.662157\n",
       "std       49.553464\n",
       "min        4.700000\n",
       "25%       13.870000\n",
       "50%       38.020000\n",
       "75%       62.055000\n",
       "max      233.030000\n",
       "Name: Nurs, dtype: float64"
      ]
     },
     "execution_count": 407,
     "metadata": {},
     "output_type": "execute_result"
    }
   ],
   "source": [
    "result[\"Nurs\"].describe()"
   ]
  },
  {
   "cell_type": "code",
   "execution_count": 408,
   "metadata": {},
   "outputs": [
    {
     "data": {
      "text/plain": [
       "count    51.000000\n",
       "mean      6.053843\n",
       "std       6.824019\n",
       "min       0.564000\n",
       "25%       1.697000\n",
       "50%       4.339000\n",
       "75%       6.636500\n",
       "max      37.254000\n",
       "Name: Pop, dtype: float64"
      ]
     },
     "execution_count": 408,
     "metadata": {},
     "output_type": "execute_result"
    }
   ],
   "source": [
    "result[\"Pop\"].describe()"
   ]
  },
  {
   "cell_type": "markdown",
   "metadata": {},
   "source": [
    "## <font color = blue> Plot the physician and nurse data using graphs you learned in Stat 101. </font>"
   ]
  },
  {
   "cell_type": "code",
   "execution_count": 409,
   "metadata": {},
   "outputs": [
    {
     "data": {
      "text/plain": [
       "Text(0,0.5,'1000s of Nurses')"
      ]
     },
     "execution_count": 409,
     "metadata": {},
     "output_type": "execute_result"
    },
    {
     "data": {
      "image/png": "[encoded data removed]",
      "text/plain": [
       "<Figure size 864x576 with 1 Axes>"
      ]
     },
     "metadata": {},
     "output_type": "display_data"
    }
   ],
   "source": [
    "##\n",
    "## Enter code here.  You can insert more code cells for more graphs below \n",
    "## this one by clicking on the thick edge to the far left and hitting the b \n",
    "## key or by just clicking on the + sign on the menu bar.  Create as many graphs as you need.\n",
    "##\n",
    "plt.title(\"Nurse Quantity by State\")\n",
    "plt.gcf().set_size_inches(12,8)\n",
    "ax = sns.boxplot( y = \"Nurs\", data = result )\n",
    "plt.ylabel(\"1000s of Nurses\")"
   ]
  },
  {
   "cell_type": "code",
   "execution_count": 410,
   "metadata": {},
   "outputs": [
    {
     "data": {
      "text/plain": [
       "Text(0,0.5,'1000s of Physicians')"
      ]
     },
     "execution_count": 410,
     "metadata": {},
     "output_type": "execute_result"
    },
    {
     "data": {
      "image/png": "[encoded data removed]",
      "text/plain": [
       "<Figure size 864x576 with 1 Axes>"
      ]
     },
     "metadata": {},
     "output_type": "display_data"
    }
   ],
   "source": [
    "plt.title(\"Physician Quantity by State\")\n",
    "plt.gcf().set_size_inches(12,8)\n",
    "ax = sns.boxplot( y = \"Phys\", data = result )\n",
    "plt.ylabel(\"1000s of Physicians\")"
   ]
  },
  {
   "cell_type": "code",
   "execution_count": 411,
   "metadata": {},
   "outputs": [
    {
     "data": {
      "text/plain": [
       "Text(0.5,0,'State Population in 100,000s of persons')"
      ]
     },
     "execution_count": 411,
     "metadata": {},
     "output_type": "execute_result"
    },
    {
     "data": {
      "image/png": "[encoded data removed]",
      "text/plain": [
       "<Figure size 864x576 with 1 Axes>"
      ]
     },
     "metadata": {},
     "output_type": "display_data"
    }
   ],
   "source": [
    "\n",
    "#ax=sns.scatterplot(x=\"Pop\",y=\"Phys\",data=result)\n",
    "result.plot.scatter(x=\"Pop\",y=\"Phys\",title=\"Physicians vs. Population\")\n",
    "plt.gcf().set_size_inches(12,8)\n",
    "plt.ylabel(\"1000s of Physicians\")\n",
    "plt.xlabel(\"State Population in 100,000s of persons\")"
   ]
  },
  {
   "cell_type": "code",
   "execution_count": 412,
   "metadata": {},
   "outputs": [
    {
     "data": {
      "text/plain": [
       "Text(0.5,0,'State Population in 100,000s of persons')"
      ]
     },
     "execution_count": 412,
     "metadata": {},
     "output_type": "execute_result"
    },
    {
     "data": {
      "image/png": "[encoded data removed]",
      "text/plain": [
       "<Figure size 864x576 with 1 Axes>"
      ]
     },
     "metadata": {},
     "output_type": "display_data"
    }
   ],
   "source": [
    "result.plot.scatter(x=\"Pop\",y=\"Nurs\",title=\"Nurses vs. Population\")\n",
    "plt.gcf().set_size_inches(12,8)\n",
    "plt.ylabel(\"1000s of Nurses\")\n",
    "plt.xlabel(\"State Population in 100,000s of persons\")"
   ]
  },
  {
   "cell_type": "markdown",
   "metadata": {},
   "source": [
    "## <font color = blue> Plot the physicians by region.  What graph type would you use? </font>"
   ]
  },
  {
   "cell_type": "code",
   "execution_count": 413,
   "metadata": {},
   "outputs": [],
   "source": [
    "##\n",
    "## Enter the code here\n",
    "##\n",
    "oldRes=result.copy(deep=True)\n",
    "result.set_index(\"Division\")\n",
    "resultDiv=result.reset_index().groupby(\"Division\").sum()"
   ]
  },
  {
   "cell_type": "code",
   "execution_count": 414,
   "metadata": {},
   "outputs": [
    {
     "data": {
      "text/plain": [
       "Text(0.5,0,'Division Population in 100,000s of persons')"
      ]
     },
     "execution_count": 414,
     "metadata": {},
     "output_type": "execute_result"
    },
    {
     "data": {
      "image/png": "[encoded data removed]",
      "text/plain": [
       "<Figure size 864x576 with 1 Axes>"
      ]
     },
     "metadata": {},
     "output_type": "display_data"
    }
   ],
   "source": [
    "resultDiv.plot.scatter(x=\"Pop\",y=\"Phys\",title=\"Physicians vs. Division Population\")\n",
    "plt.gcf().set_size_inches(12,8)\n",
    "plt.ylabel(\"1000s of Physicians\")\n",
    "plt.xlabel(\"Division Population in 100,000s of persons\")"
   ]
  },
  {
   "cell_type": "code",
   "execution_count": 415,
   "metadata": {},
   "outputs": [
    {
     "data": {
      "text/plain": [
       "Text(0,0.5,'1000s of Physicians')"
      ]
     },
     "execution_count": 415,
     "metadata": {},
     "output_type": "execute_result"
    },
    {
     "data": {
      "image/png": "[encoded data removed]",
      "text/plain": [
       "<Figure size 864x576 with 1 Axes>"
      ]
     },
     "metadata": {},
     "output_type": "display_data"
    }
   ],
   "source": [
    "plt.title(\"Physician Quantity by Division\")\n",
    "plt.gcf().set_size_inches(12,8)\n",
    "ax = sns.boxplot( y = \"Phys\", data = resultDiv )\n",
    "plt.ylabel(\"1000s of Physicians\")"
   ]
  },
  {
   "cell_type": "code",
   "execution_count": 416,
   "metadata": {},
   "outputs": [],
   "source": [
    "result.set_index(\"Region\")\n",
    "resultReg=result.reset_index().groupby(\"Region\").sum()"
   ]
  },
  {
   "cell_type": "code",
   "execution_count": 417,
   "metadata": {},
   "outputs": [
    {
     "data": {
      "text/plain": [
       "Text(0.5,0,'Region Population in 100,000s of persons')"
      ]
     },
     "execution_count": 417,
     "metadata": {},
     "output_type": "execute_result"
    },
    {
     "data": {
      "image/png": "[encoded data removed]",
      "text/plain": [
       "<Figure size 864x576 with 1 Axes>"
      ]
     },
     "metadata": {},
     "output_type": "display_data"
    }
   ],
   "source": [
    "resultReg.plot.scatter(x=\"Pop\",y=\"Phys\",title=\"Physicians vs. Region Population\")\n",
    "plt.gcf().set_size_inches(12,8)\n",
    "plt.ylabel(\"1000s of Physicians\")\n",
    "plt.xlabel(\"Region Population in 100,000s of persons\")"
   ]
  },
  {
   "cell_type": "code",
   "execution_count": 418,
   "metadata": {},
   "outputs": [
    {
     "data": {
      "text/plain": [
       "Text(0,0.5,'1000s of Physicians')"
      ]
     },
     "execution_count": 418,
     "metadata": {},
     "output_type": "execute_result"
    },
    {
     "data": {
      "image/png": "[encoded data removed]",
      "text/plain": [
       "<Figure size 864x576 with 1 Axes>"
      ]
     },
     "metadata": {},
     "output_type": "display_data"
    }
   ],
   "source": [
    "plt.title(\"Physician Quantity by Region\")\n",
    "plt.gcf().set_size_inches(12,8)\n",
    "ax = sns.boxplot( y = \"Phys\", data = resultReg )\n",
    "plt.ylabel(\"1000s of Physicians\")"
   ]
  },
  {
   "cell_type": "markdown",
   "metadata": {},
   "source": [
    "## <font color = blue> Print and graph a correlation matrix. </font>"
   ]
  },
  {
   "cell_type": "code",
   "execution_count": 419,
   "metadata": {
    "scrolled": true
   },
   "outputs": [
    {
     "data": {
      "text/html": [
       "<div>\n",
       "<style scoped>\n",
       "    .dataframe tbody tr th:only-of-type {\n",
       "        vertical-align: middle;\n",
       "    }\n",
       "\n",
       "    .dataframe tbody tr th {\n",
       "        vertical-align: top;\n",
       "    }\n",
       "\n",
       "    .dataframe thead th {\n",
       "        text-align: right;\n",
       "    }\n",
       "</style>\n",
       "<table border=\"1\" class=\"dataframe\">\n",
       "  <thead>\n",
       "    <tr style=\"text-align: right;\">\n",
       "      <th></th>\n",
       "      <th>Phys</th>\n",
       "      <th>Phys100k</th>\n",
       "      <th>Nurs</th>\n",
       "      <th>Nurs100k</th>\n",
       "      <th>Pop</th>\n",
       "    </tr>\n",
       "  </thead>\n",
       "  <tbody>\n",
       "    <tr>\n",
       "      <th>Phys</th>\n",
       "      <td>1.000000</td>\n",
       "      <td>0.126006</td>\n",
       "      <td>0.967637</td>\n",
       "      <td>-0.200813</td>\n",
       "      <td>0.965205</td>\n",
       "    </tr>\n",
       "    <tr>\n",
       "      <th>Phys100k</th>\n",
       "      <td>0.126006</td>\n",
       "      <td>1.000000</td>\n",
       "      <td>0.043567</td>\n",
       "      <td>0.545515</td>\n",
       "      <td>-0.012314</td>\n",
       "    </tr>\n",
       "    <tr>\n",
       "      <th>Nurs</th>\n",
       "      <td>0.967637</td>\n",
       "      <td>0.043567</td>\n",
       "      <td>1.000000</td>\n",
       "      <td>-0.166072</td>\n",
       "      <td>0.970034</td>\n",
       "    </tr>\n",
       "    <tr>\n",
       "      <th>Nurs100k</th>\n",
       "      <td>-0.200813</td>\n",
       "      <td>0.545515</td>\n",
       "      <td>-0.166072</td>\n",
       "      <td>1.000000</td>\n",
       "      <td>-0.291864</td>\n",
       "    </tr>\n",
       "    <tr>\n",
       "      <th>Pop</th>\n",
       "      <td>0.965205</td>\n",
       "      <td>-0.012314</td>\n",
       "      <td>0.970034</td>\n",
       "      <td>-0.291864</td>\n",
       "      <td>1.000000</td>\n",
       "    </tr>\n",
       "  </tbody>\n",
       "</table>\n",
       "</div>"
      ],
      "text/plain": [
       "              Phys  Phys100k      Nurs  Nurs100k       Pop\n",
       "Phys      1.000000  0.126006  0.967637 -0.200813  0.965205\n",
       "Phys100k  0.126006  1.000000  0.043567  0.545515 -0.012314\n",
       "Nurs      0.967637  0.043567  1.000000 -0.166072  0.970034\n",
       "Nurs100k -0.200813  0.545515 -0.166072  1.000000 -0.291864\n",
       "Pop       0.965205 -0.012314  0.970034 -0.291864  1.000000"
      ]
     },
     "execution_count": 419,
     "metadata": {},
     "output_type": "execute_result"
    }
   ],
   "source": [
    "##\n",
    "## Enter the code here\n",
    "##\n",
    "oldRes.corr()"
   ]
  },
  {
   "cell_type": "markdown",
   "metadata": {},
   "source": [
    "## <font color = blue> Plot a histogram of physicians. </font>"
   ]
  },
  {
   "cell_type": "code",
   "execution_count": 420,
   "metadata": {},
   "outputs": [
    {
     "name": "stderr",
     "output_type": "stream",
     "text": [
      "/Users/jamesbaker/miniconda3/envs/py3k/lib/python3.6/site-packages/matplotlib/axes/_axes.py:6462: UserWarning: The 'normed' kwarg is deprecated, and has been replaced by the 'density' kwarg.\n",
      "  warnings.warn(\"The 'normed' kwarg is deprecated, and has been \"\n"
     ]
    },
    {
     "data": {
      "text/plain": [
       "Text(0.5,1,'Relative Frequency of Quantity of Physicians')"
      ]
     },
     "execution_count": 420,
     "metadata": {},
     "output_type": "execute_result"
    },
    {
     "data": {
      "image/png": "[encoded data removed]",
      "text/plain": [
       "<Figure size 432x288 with 1 Axes>"
      ]
     },
     "metadata": {},
     "output_type": "display_data"
    }
   ],
   "source": [
    "##\n",
    "## Enter the code here\n",
    "##\n",
    "sns.distplot(oldRes[\"Phys\"])\n",
    "plt.xlabel(\"1000s of Physicians\")\n",
    "plt.ylabel(\"Frequency\")\n",
    "plt.title(\"Relative Frequency of Quantity of Physicians\")"
   ]
  },
  {
   "cell_type": "markdown",
   "metadata": {},
   "source": [
    "## <font color = blue> Perform a normality test of the physicians distribution. </font>"
   ]
  },
  {
   "cell_type": "markdown",
   "metadata": {},
   "source": [
    "### D’Agostino-Pearson Omnibus Test"
   ]
  },
  {
   "cell_type": "markdown",
   "metadata": {},
   "source": [
    "$H_O$: The data is normally distributed <br>\n",
    "$H_A$: The data is not normally distributed <br>\n",
    "Explanation for Alternative Hypothesis: This data would not be normally distributed because the data looks to be very skewed to the right. <br>\n",
    "Because *n* > 20, we can do a D’Agostino-Pearson Omnibus Test included in the scipy.stats library with $\\alpha$ =0.01 <br>"
   ]
  },
  {
   "cell_type": "code",
   "execution_count": 421,
   "metadata": {},
   "outputs": [
    {
     "name": "stdout",
     "output_type": "stream",
     "text": [
      "1.9256745196821795e-10\n"
     ]
    }
   ],
   "source": [
    "##\n",
    "## Enter the code here\n",
    "##\n",
    "from scipy import stats\n",
    "p=stats.normaltest(oldRes[\"Phys\"]).pvalue\n",
    "print(p)"
   ]
  },
  {
   "cell_type": "markdown",
   "metadata": {},
   "source": [
    "$\\alpha$ =0.01 > *p-value* = 1.9256745196821795e-10 <br>\n",
    "Because $\\alpha$ > *p-value*, we can reject the Null Hypothesis and say the data is not normally distributed."
   ]
  },
  {
   "cell_type": "markdown",
   "metadata": {},
   "source": [
    "### Andersen Test"
   ]
  },
  {
   "cell_type": "markdown",
   "metadata": {},
   "source": [
    "$H_O$: The data is normally distributed <br>\n",
    "$H_A$: The data is not normally distributed <br>\n",
    "Explanation for Alternative Hypothesis: This data would not be normally distributed because the data looks to be very skewed to the right. <br>"
   ]
  },
  {
   "cell_type": "code",
   "execution_count": 422,
   "metadata": {},
   "outputs": [
    {
     "name": "stdout",
     "output_type": "stream",
     "text": [
      "Test Statistic: 4.130\n",
      "Significance Level:  [15.  10.   5.   2.5  1. ]\n",
      "Critical Values:  [0.539 0.614 0.736 0.859 1.022]\n"
     ]
    }
   ],
   "source": [
    "from scipy.stats import anderson\n",
    "res = anderson(oldRes[\"Phys\"])\n",
    "print('Test Statistic: %.3f' % res.statistic)\n",
    "print( 'Significance Level: ',  res.significance_level )\n",
    "print( 'Critical Values: ',  res.critical_values )"
   ]
  },
  {
   "cell_type": "markdown",
   "metadata": {},
   "source": [
    "For every significance level, the Test Statistic > Critical Values. Thus, we can reject the Null Hypothesis and say the distribution of Physicians is not normally distributed."
   ]
  },
  {
   "cell_type": "markdown",
   "metadata": {},
   "source": [
    "### Andersen Test for Nurses"
   ]
  },
  {
   "cell_type": "markdown",
   "metadata": {},
   "source": [
    "$H_O$: The data is normally distributed <br>\n",
    "$H_A$: The data is not normally distributed <br>\n",
    "Explanation for Alternative Hypothesis: This data would not be normally distributed because the data is very clustered at the bottom of the distribution, as can be seen on the scatterplot. <br>"
   ]
  },
  {
   "cell_type": "code",
   "execution_count": 423,
   "metadata": {},
   "outputs": [
    {
     "name": "stdout",
     "output_type": "stream",
     "text": [
      "Test Statistic: 2.959\n",
      "Significance Level:  [15.  10.   5.   2.5  1. ]\n",
      "Critical Values:  [0.539 0.614 0.736 0.859 1.022]\n"
     ]
    }
   ],
   "source": [
    "res = anderson(oldRes[\"Nurs\"])\n",
    "print('Test Statistic: %.3f' % res.statistic)\n",
    "print( 'Significance Level: ',  res.significance_level )\n",
    "print( 'Critical Values: ',  res.critical_values )"
   ]
  },
  {
   "cell_type": "markdown",
   "metadata": {},
   "source": [
    "For every significance level, the Test Statistic > Critical Values. Thus, we can reject the Null Hypothesis and say the distribution of Nurses is not normally distributed."
   ]
  },
  {
   "cell_type": "markdown",
   "metadata": {},
   "source": [
    "# <font color = red> Post-Lab Questions </font>"
   ]
  },
  {
   "cell_type": "markdown",
   "metadata": {},
   "source": [
    "## <font color = blue> Interpret the summary statistics. </font>"
   ]
  },
  {
   "cell_type": "markdown",
   "metadata": {},
   "source": [
    "Physicians<br>\n",
    "There were 51 different States in our sample. The mean of our sample was 16.440225, meaning the average State in 2012 had 16440 Physicians (Rounded because you can't have 0.225 Physicians). The Standard Deviation of the sample was 19.257689, and the Range was 99.111. The distribution was skewed to the right and not normal.<br>\n",
    "Nurses<br>\n",
    "There were 51 different States in our sample. The mean of our sample was 50.662157, meaning the average State in 2012 had 50662 Nurses (Rounded because you can't have 0.157 Nurses). The Standard Deviation of the sample was 49.553464, and the Range was 228.33. The distribution was not normal. <br>\n",
    "The distribution of Nurses had a higher average. The Distribution of Nurses had both a higher spread and higher standard deviation than the Distribution of Physicians\n"
   ]
  },
  {
   "cell_type": "markdown",
   "metadata": {},
   "source": [
    "## <font color = blue> Interpret the graphs.  What do they tell you about the distribution of physicians around the country? </font>"
   ]
  },
  {
   "cell_type": "markdown",
   "metadata": {},
   "source": [
    "The scatterplot gives the appearance that states with larger overall populations have larger Physician populations. The State scatterplot also shows the distribution is concentrated close to 0, with a few large outliers. The Region scatterplot also has a cluster close to 0, with the South being far in the top right corner due to its large population and large population of Physicians."
   ]
  },
  {
   "cell_type": "markdown",
   "metadata": {},
   "source": [
    "## <font color = blue> What are the Null and Alternative Hypotheses for the normality test of physicians? Explain your answer. </font>"
   ]
  },
  {
   "cell_type": "markdown",
   "metadata": {},
   "source": [
    "The Null Hypothesis is the Hypothesis that physicians are normally distributed around the mean. It is what is assumed by default until falsified and rejected. The Alternative Hypothesis is the Hypothesis that Physicians are not Normally Distributed. "
   ]
  },
  {
   "cell_type": "markdown",
   "metadata": {},
   "source": [
    "## <font color = blue> Are physicians normally distributed?  That is, do you reject or fail to reject your Null Hypothesis?  Explain you answer. </font>"
   ]
  },
  {
   "cell_type": "markdown",
   "metadata": {},
   "source": [
    "We rejected the Null Hypothesis. For every significance level, the Test Statistic > Critical Value. Thus, we can reject the Null Hypothesis, regardless of significance level and say the distribution of Physicians is not normally distributed."
   ]
  },
  {
   "cell_type": "markdown",
   "metadata": {},
   "source": [
    "## <font color = blue> What can you observe about the correlation matrix? Explain. </font>"
   ]
  },
  {
   "cell_type": "markdown",
   "metadata": {},
   "source": [
    "The strongest positive correlation is between Nurses and Population (R=0.970034). The Correlation between Physicians and Population is also very strong (R=0.965205). This confirms the pattern seen in the graphs, where there appears to be a trend where more populous states have greater quantities of doctors. The weakest positive correlation is between Nurses and Physicians per 100,000 people (R=0.043567). The strongest negative correlation was between Population and Nurses per 100,000 (R=-0.291864). The weakest negative correlation is between Physicians per 100,000 and Population (R=-0.012314). The only negative correlations were present when one of the variables was Nurses per 100,000 or Physicians per 100,000."
   ]
  }
 ],
 "metadata": {
  "kernelspec": {
   "display_name": "Python 3",
   "language": "python",
   "name": "python3"
  },
  "language_info": {
   "codemirror_mode": {
    "name": "ipython",
    "version": 3
   },
   "file_extension": ".py",
   "mimetype": "text/x-python",
   "name": "python",
   "nbconvert_exporter": "python",
   "pygments_lexer": "ipython3",
   "version": "3.6.5"
  }
 },
 "nbformat": 4,
 "nbformat_minor": 2
}
